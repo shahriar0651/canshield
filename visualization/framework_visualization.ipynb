{
 "cells": [
  {
   "cell_type": "code",
   "execution_count": 871,
   "metadata": {},
   "outputs": [],
   "source": [
    "import seaborn as sns\n",
    "import numpy as np\n",
    "import pandas as pd\n",
    "from matplotlib import pyplot as plt"
   ]
  },
  {
   "cell_type": "code",
   "execution_count": 872,
   "metadata": {},
   "outputs": [
    {
     "data": {
      "text/html": [
       "<div>\n",
       "<style scoped>\n",
       "    .dataframe tbody tr th:only-of-type {\n",
       "        vertical-align: middle;\n",
       "    }\n",
       "\n",
       "    .dataframe tbody tr th {\n",
       "        vertical-align: top;\n",
       "    }\n",
       "\n",
       "    .dataframe thead th {\n",
       "        text-align: right;\n",
       "    }\n",
       "</style>\n",
       "<table border=\"1\" class=\"dataframe\">\n",
       "  <thead>\n",
       "    <tr style=\"text-align: right;\">\n",
       "      <th></th>\n",
       "      <th>Signal_1</th>\n",
       "      <th>Signal_2</th>\n",
       "      <th>Signal_3</th>\n",
       "      <th>Signal_4</th>\n",
       "    </tr>\n",
       "  </thead>\n",
       "  <tbody>\n",
       "    <tr>\n",
       "      <th>Time_step_1</th>\n",
       "      <td>0.732231</td>\n",
       "      <td>0.476920</td>\n",
       "      <td>0.750775</td>\n",
       "      <td>1.666248</td>\n",
       "    </tr>\n",
       "    <tr>\n",
       "      <th>Time_step_2</th>\n",
       "      <td>0.855685</td>\n",
       "      <td>1.401992</td>\n",
       "      <td>1.642261</td>\n",
       "      <td>0.740857</td>\n",
       "    </tr>\n",
       "    <tr>\n",
       "      <th>Time_step_3</th>\n",
       "      <td>0.391607</td>\n",
       "      <td>0.073128</td>\n",
       "      <td>0.163314</td>\n",
       "      <td>1.191190</td>\n",
       "    </tr>\n",
       "    <tr>\n",
       "      <th>Time_step_4</th>\n",
       "      <td>0.784481</td>\n",
       "      <td>0.831641</td>\n",
       "      <td>0.230015</td>\n",
       "      <td>0.643491</td>\n",
       "    </tr>\n",
       "    <tr>\n",
       "      <th>Time_step_5</th>\n",
       "      <td>0.760091</td>\n",
       "      <td>0.801878</td>\n",
       "      <td>0.312210</td>\n",
       "      <td>2.094339</td>\n",
       "    </tr>\n",
       "  </tbody>\n",
       "</table>\n",
       "</div>"
      ],
      "text/plain": [
       "             Signal_1  Signal_2  Signal_3  Signal_4\n",
       "Time_step_1  0.732231  0.476920  0.750775  1.666248\n",
       "Time_step_2  0.855685  1.401992  1.642261  0.740857\n",
       "Time_step_3  0.391607  0.073128  0.163314  1.191190\n",
       "Time_step_4  0.784481  0.831641  0.230015  0.643491\n",
       "Time_step_5  0.760091  0.801878  0.312210  2.094339"
      ]
     },
     "execution_count": 872,
     "metadata": {},
     "output_type": "execute_result"
    }
   ],
   "source": [
    "# initialize\n",
    "m = 4\n",
    "w = 5\n",
    "\n",
    "signals = [f\"Signal_{i+1}\" for i in range(m)]\n",
    "timesteps = [f\"Time_step_{i+1}\" for i in range(w)]\n",
    "\n",
    "recon_loss = pd.DataFrame(np.abs(np.random.randn(w, m)))\n",
    "recon_loss.columns = signals\n",
    "recon_loss.index = timesteps\n",
    "recon_loss"
   ]
  },
  {
   "cell_type": "code",
   "execution_count": 873,
   "metadata": {},
   "outputs": [
    {
     "data": {
      "text/html": [
       "<div>\n",
       "<style scoped>\n",
       "    .dataframe tbody tr th:only-of-type {\n",
       "        vertical-align: middle;\n",
       "    }\n",
       "\n",
       "    .dataframe tbody tr th {\n",
       "        vertical-align: top;\n",
       "    }\n",
       "\n",
       "    .dataframe thead th {\n",
       "        text-align: right;\n",
       "    }\n",
       "</style>\n",
       "<table border=\"1\" class=\"dataframe\">\n",
       "  <thead>\n",
       "    <tr style=\"text-align: right;\">\n",
       "      <th></th>\n",
       "      <th>0</th>\n",
       "    </tr>\n",
       "  </thead>\n",
       "  <tbody>\n",
       "    <tr>\n",
       "      <th>0</th>\n",
       "      <td>0.971583</td>\n",
       "    </tr>\n",
       "  </tbody>\n",
       "</table>\n",
       "</div>"
      ],
      "text/plain": [
       "          0\n",
       "0  0.971583"
      ]
     },
     "execution_count": 873,
     "metadata": {},
     "output_type": "execute_result"
    }
   ],
   "source": [
    "r_loss = pd.DataFrame(np.abs(np.random.randn(1, m)), columns = signals)+0.85\n",
    "r_time = pd.DataFrame(np.abs(np.random.randn(1, m)), columns = signals)+0.1\n",
    "r_signal = pd.DataFrame(np.abs(np.random.randn(1, 1)))\n",
    "r_loss, r_time, r_signal\n",
    "r_signal"
   ]
  },
  {
   "cell_type": "code",
   "execution_count": 874,
   "metadata": {},
   "outputs": [
    {
     "data": {
      "text/html": [
       "<div>\n",
       "<style scoped>\n",
       "    .dataframe tbody tr th:only-of-type {\n",
       "        vertical-align: middle;\n",
       "    }\n",
       "\n",
       "    .dataframe tbody tr th {\n",
       "        vertical-align: top;\n",
       "    }\n",
       "\n",
       "    .dataframe thead th {\n",
       "        text-align: right;\n",
       "    }\n",
       "</style>\n",
       "<table border=\"1\" class=\"dataframe\">\n",
       "  <thead>\n",
       "    <tr style=\"text-align: right;\">\n",
       "      <th></th>\n",
       "      <th>Signal_1</th>\n",
       "      <th>Signal_2</th>\n",
       "      <th>Signal_3</th>\n",
       "      <th>Signal_4</th>\n",
       "    </tr>\n",
       "  </thead>\n",
       "  <tbody>\n",
       "    <tr>\n",
       "      <th>Time_step_1</th>\n",
       "      <td>0.537051</td>\n",
       "      <td>0.639365</td>\n",
       "      <td>0.747208</td>\n",
       "      <td>0.341585</td>\n",
       "    </tr>\n",
       "    <tr>\n",
       "      <th>Time_step_2</th>\n",
       "      <td>0.537051</td>\n",
       "      <td>0.639365</td>\n",
       "      <td>0.747208</td>\n",
       "      <td>0.341585</td>\n",
       "    </tr>\n",
       "    <tr>\n",
       "      <th>Time_step_3</th>\n",
       "      <td>0.537051</td>\n",
       "      <td>0.639365</td>\n",
       "      <td>0.747208</td>\n",
       "      <td>0.341585</td>\n",
       "    </tr>\n",
       "    <tr>\n",
       "      <th>Time_step_4</th>\n",
       "      <td>0.537051</td>\n",
       "      <td>0.639365</td>\n",
       "      <td>0.747208</td>\n",
       "      <td>0.341585</td>\n",
       "    </tr>\n",
       "    <tr>\n",
       "      <th>Time_step_5</th>\n",
       "      <td>0.537051</td>\n",
       "      <td>0.639365</td>\n",
       "      <td>0.747208</td>\n",
       "      <td>0.341585</td>\n",
       "    </tr>\n",
       "  </tbody>\n",
       "</table>\n",
       "</div>"
      ],
      "text/plain": [
       "             Signal_1  Signal_2  Signal_3  Signal_4\n",
       "Time_step_1  0.537051  0.639365  0.747208  0.341585\n",
       "Time_step_2  0.537051  0.639365  0.747208  0.341585\n",
       "Time_step_3  0.537051  0.639365  0.747208  0.341585\n",
       "Time_step_4  0.537051  0.639365  0.747208  0.341585\n",
       "Time_step_5  0.537051  0.639365  0.747208  0.341585"
      ]
     },
     "execution_count": 874,
     "metadata": {},
     "output_type": "execute_result"
    }
   ],
   "source": [
    "r_loss_mat = pd.DataFrame(r_loss.values.tolist()*w, columns = signals, index=timesteps)\n",
    "r_time_mat = pd.DataFrame(r_time.values.tolist()*w, columns = signals, index=timesteps)\n",
    "r_time_mat"
   ]
  },
  {
   "cell_type": "code",
   "execution_count": 875,
   "metadata": {},
   "outputs": [
    {
     "data": {
      "image/png": "[encoded data removed]",
      "text/plain": [
       "<Figure size 700x500 with 1 Axes>"
      ]
     },
     "metadata": {},
     "output_type": "display_data"
    }
   ],
   "source": [
    "import numpy as np\n",
    "import matplotlib.pyplot as plt\n",
    "from matplotlib import cm\n",
    "\n",
    "\n",
    "# setup the figure and axes\n",
    "fig = plt.figure(figsize=(7, 5))\n",
    "ax = fig.add_subplot(121, projection='3d')\n",
    "\n",
    "# Grid data...10\n",
    "\n",
    "x = np.arange(1,w+1,1)\n",
    "y = np.arange(1,m+1,1)\n",
    "# X, Y = np.meshgrid(x + 0.25, y - 0.10)\n",
    "X, Y = np.meshgrid(x, y)\n",
    "\n",
    "# Data for 3D plot\n",
    "top = recon_loss.T.values.flatten()\n",
    "\n",
    "# ---- others ---\n",
    "x_bar, y_bar = X.flatten(), Y.flatten()\n",
    "bottom = np.zeros_like(top)\n",
    "width = depth = 0.20\n",
    "\n",
    "# 3D Barplot\n",
    "colors = recon_loss.astype(str)\n",
    "red_pos = recon_loss.values > r_loss_mat.values\n",
    "green_pos = recon_loss.values <= r_loss_mat.values\n",
    "\n",
    "colors[green_pos] = 'green' \n",
    "colors[red_pos] = 'blue' \n",
    "colors = colors.T.values.flatten().tolist()\n",
    "\n",
    "# -------- done---------------------\n",
    "ax.bar3d(y_bar, x_bar, bottom, width, depth, top, shade=True, alpha = 0.85, color = colors) #, color = ['orange'', 'green']*50)\n",
    "ax.set_xlabel('Signals')\n",
    "ax.set_ylabel('Time Steps')\n",
    "#--------------------------------------\n",
    "\n",
    "\n",
    "x = np.arange(1,w+1,1)\n",
    "y = np.arange(1,m+1,1)\n",
    "# X, Y = np.meshgrid(x + 0.25, y + 0.50)\n",
    "X, Y = np.meshgrid(x, y)\n",
    "wrap = r_loss_mat.values\n",
    "# Surface plot\n",
    "surf = ax.plot_surface(Y, X, wrap.T, alpha=0.45,\n",
    "                       linewidth=1.50, antialiased=True)\n",
    "\n",
    "# ax.contour(Y, X, wrap.T, zdir='z', offset=0, cmap=cm.viridis)\n",
    "# ax.contour(Y, X, wrap.T, zdir='x', offset=-10, cmap='coolwarm')\n",
    "ax.contour(Y, X, wrap.T, zdir='y', offset = 1, cmap='coolwarm')\n",
    "\n",
    "# Contour plot\n",
    "# ax.contour(X, Y, Z, extend3d=True, cmap=cm.coolwarm)\n",
    "\n",
    "\n",
    "ax.view_init(10, 255)\n",
    "\n",
    "plt.tight_layout()\n",
    "plt.show()"
   ]
  },
  {
   "cell_type": "code",
   "execution_count": 876,
   "metadata": {},
   "outputs": [
    {
     "data": {
      "image/png": "[encoded data removed]",
      "text/plain": [
       "<Figure size 700x500 with 1 Axes>"
      ]
     },
     "metadata": {},
     "output_type": "display_data"
    }
   ],
   "source": [
    "width = depth = 0.50\n",
    "# setup the figure and axes\n",
    "fig = plt.figure(figsize=(7, 5))\n",
    "ax = fig.add_subplot(121, projection='3d')\n",
    "# -------- done---------------------\n",
    "ax.bar3d(y_bar, x_bar, bottom, width, depth, top, shade=True, alpha = 0.85, color = colors) #, color = ['orange'', 'green']*50)\n",
    "ax.set_xlabel('Signals')\n",
    "ax.set_ylabel('Time Steps')\n",
    "#--------------------------------------\n",
    "ax.zaxis.set_ticklabels([])\n",
    "\n",
    "ax.view_init(90, 270)\n",
    "plt.show()\n"
   ]
  },
  {
   "cell_type": "code",
   "execution_count": 877,
   "metadata": {},
   "outputs": [],
   "source": [
    "time_vio = pd.DataFrame((recon_loss > r_loss_mat).astype(int).sum()/w).T\n",
    "# time_vio.columns = [f\"{i+1}\" for i in range(m)]"
   ]
  },
  {
   "cell_type": "code",
   "execution_count": 878,
   "metadata": {},
   "outputs": [
    {
     "data": {
      "text/plain": [
       "['green', 'green', 'blue', 'blue']"
      ]
     },
     "execution_count": 878,
     "metadata": {},
     "output_type": "execute_result"
    }
   ],
   "source": [
    "colors = pd.Series(['blue'] * m, dtype=str).astype(str) \n",
    "\n",
    "red_pos = time_vio.values.flatten() > r_time.values.flatten()\n",
    "green_pos = time_vio.values.flatten() == 0\n",
    "\n",
    "colors[red_pos] = 'orange'\n",
    "colors[green_pos] = 'green'\n",
    "colors = colors.values.tolist()\n",
    "colors\n"
   ]
  },
  {
   "cell_type": "code",
   "execution_count": 879,
   "metadata": {},
   "outputs": [
    {
     "data": {
      "text/plain": [
       "(array([0, 1, 2, 3]),\n",
       " [Text(0, 0, 'Signal_1'),\n",
       "  Text(1, 0, 'Signal_2'),\n",
       "  Text(2, 0, 'Signal_3'),\n",
       "  Text(3, 0, 'Signal_4')])"
      ]
     },
     "execution_count": 879,
     "metadata": {},
     "output_type": "execute_result"
    },
    {
     "data": {
      "image/png": "[encoded data removed]",
      "text/plain": [
       "<Figure size 700x200 with 1 Axes>"
      ]
     },
     "metadata": {},
     "output_type": "display_data"
    }
   ],
   "source": [
    "fig = plt.figure(figsize=(7, 2))\n",
    "ax = fig.add_subplot(121)\n",
    "sns.barplot(data = time_vio + 0.05, palette = colors, alpha = 0.85, ax = ax)\n",
    "ax.set_xlabel(\"Signal\")\n",
    "ax.set_ylabel(\"Time violation (%)\")\n",
    "# ax.set_xticks()\n",
    "\n",
    "# ax1 = ax.twinx()\n",
    "data = r_time.T\n",
    "data.columns = ['$\\mathcal{R}^{time}$']\n",
    "sns.lineplot(data = data, color = 'orange', alpha = 0.85, marker = 'p', ax = ax)\n",
    "# ax1.set_xticks(signals, rotation = 90)\n",
    "\n",
    "plt.xticks(rotation = 90)"
   ]
  },
  {
   "cell_type": "code",
   "execution_count": 880,
   "metadata": {},
   "outputs": [
    {
     "data": {
      "text/html": [
       "<div>\n",
       "<style scoped>\n",
       "    .dataframe tbody tr th:only-of-type {\n",
       "        vertical-align: middle;\n",
       "    }\n",
       "\n",
       "    .dataframe tbody tr th {\n",
       "        vertical-align: top;\n",
       "    }\n",
       "\n",
       "    .dataframe thead th {\n",
       "        text-align: right;\n",
       "    }\n",
       "</style>\n",
       "<table border=\"1\" class=\"dataframe\">\n",
       "  <thead>\n",
       "    <tr style=\"text-align: right;\">\n",
       "      <th></th>\n",
       "      <th>0</th>\n",
       "    </tr>\n",
       "  </thead>\n",
       "  <tbody>\n",
       "    <tr>\n",
       "      <th>blue</th>\n",
       "      <td>0.40</td>\n",
       "    </tr>\n",
       "    <tr>\n",
       "      <th>green</th>\n",
       "      <td>0.40</td>\n",
       "    </tr>\n",
       "    <tr>\n",
       "      <th>orange</th>\n",
       "      <td>0.02</td>\n",
       "    </tr>\n",
       "  </tbody>\n",
       "</table>\n",
       "</div>"
      ],
      "text/plain": [
       "           0\n",
       "blue    0.40\n",
       "green   0.40\n",
       "orange  0.02"
      ]
     },
     "execution_count": 880,
     "metadata": {},
     "output_type": "execute_result"
    }
   ],
   "source": [
    "signal_vio = pd.DataFrame(pd.Series(colors).value_counts()/w)\n",
    "signal_vio = signal_vio.sort_index()\n",
    "# signal_vio.columns \n",
    "\n",
    "try:\n",
    "    signal_vio.loc['orange']\n",
    "except:\n",
    "    signal_vio.loc['orange'] = 0.02\n",
    "\n",
    "signal_vio\n"
   ]
  },
  {
   "cell_type": "code",
   "execution_count": 881,
   "metadata": {},
   "outputs": [
    {
     "data": {
      "text/html": [
       "<div>\n",
       "<style scoped>\n",
       "    .dataframe tbody tr th:only-of-type {\n",
       "        vertical-align: middle;\n",
       "    }\n",
       "\n",
       "    .dataframe tbody tr th {\n",
       "        vertical-align: top;\n",
       "    }\n",
       "\n",
       "    .dataframe thead th {\n",
       "        text-align: right;\n",
       "    }\n",
       "</style>\n",
       "<table border=\"1\" class=\"dataframe\">\n",
       "  <thead>\n",
       "    <tr style=\"text-align: right;\">\n",
       "      <th></th>\n",
       "      <th>0</th>\n",
       "    </tr>\n",
       "  </thead>\n",
       "  <tbody>\n",
       "    <tr>\n",
       "      <th>Loss only</th>\n",
       "      <td>0.40</td>\n",
       "    </tr>\n",
       "    <tr>\n",
       "      <th>No violation</th>\n",
       "      <td>0.40</td>\n",
       "    </tr>\n",
       "    <tr>\n",
       "      <th>Time step</th>\n",
       "      <td>0.02</td>\n",
       "    </tr>\n",
       "  </tbody>\n",
       "</table>\n",
       "</div>"
      ],
      "text/plain": [
       "                 0\n",
       "Loss only     0.40\n",
       "No violation  0.40\n",
       "Time step     0.02"
      ]
     },
     "execution_count": 881,
     "metadata": {},
     "output_type": "execute_result"
    }
   ],
   "source": [
    "dict_rename = {'green' : 'No violation', 'blue' : 'Loss only', 'orange' : 'Time step'}\n",
    "signal_vio = signal_vio.rename(index=dict_rename)\n",
    "signal_vio"
   ]
  },
  {
   "cell_type": "code",
   "execution_count": 882,
   "metadata": {},
   "outputs": [
    {
     "data": {
      "text/html": [
       "<div>\n",
       "<style scoped>\n",
       "    .dataframe tbody tr th:only-of-type {\n",
       "        vertical-align: middle;\n",
       "    }\n",
       "\n",
       "    .dataframe tbody tr th {\n",
       "        vertical-align: top;\n",
       "    }\n",
       "\n",
       "    .dataframe thead th {\n",
       "        text-align: right;\n",
       "    }\n",
       "</style>\n",
       "<table border=\"1\" class=\"dataframe\">\n",
       "  <thead>\n",
       "    <tr style=\"text-align: right;\">\n",
       "      <th></th>\n",
       "      <th>Types of Violation</th>\n",
       "    </tr>\n",
       "  </thead>\n",
       "  <tbody>\n",
       "    <tr>\n",
       "      <th>Loss only</th>\n",
       "      <td>0.40</td>\n",
       "    </tr>\n",
       "    <tr>\n",
       "      <th>No violation</th>\n",
       "      <td>0.40</td>\n",
       "    </tr>\n",
       "    <tr>\n",
       "      <th>Time step</th>\n",
       "      <td>0.02</td>\n",
       "    </tr>\n",
       "  </tbody>\n",
       "</table>\n",
       "</div>"
      ],
      "text/plain": [
       "              Types of Violation\n",
       "Loss only                   0.40\n",
       "No violation                0.40\n",
       "Time step                   0.02"
      ]
     },
     "execution_count": 882,
     "metadata": {},
     "output_type": "execute_result"
    }
   ],
   "source": [
    "# signal_vio.index = ['No violation', 'Loss only', 'Time step']\n",
    "signal_vio.columns = ['Types of Violation']\n",
    "signal_vio"
   ]
  },
  {
   "cell_type": "code",
   "execution_count": 883,
   "metadata": {},
   "outputs": [
    {
     "data": {
      "text/html": [
       "<div>\n",
       "<style scoped>\n",
       "    .dataframe tbody tr th:only-of-type {\n",
       "        vertical-align: middle;\n",
       "    }\n",
       "\n",
       "    .dataframe tbody tr th {\n",
       "        vertical-align: top;\n",
       "    }\n",
       "\n",
       "    .dataframe thead th {\n",
       "        text-align: right;\n",
       "    }\n",
       "</style>\n",
       "<table border=\"1\" class=\"dataframe\">\n",
       "  <thead>\n",
       "    <tr style=\"text-align: right;\">\n",
       "      <th></th>\n",
       "      <th>Types of Violation</th>\n",
       "    </tr>\n",
       "  </thead>\n",
       "  <tbody>\n",
       "    <tr>\n",
       "      <th>Loss only</th>\n",
       "      <td>0.40</td>\n",
       "    </tr>\n",
       "    <tr>\n",
       "      <th>No violation</th>\n",
       "      <td>0.40</td>\n",
       "    </tr>\n",
       "    <tr>\n",
       "      <th>Time step</th>\n",
       "      <td>0.02</td>\n",
       "    </tr>\n",
       "  </tbody>\n",
       "</table>\n",
       "</div>"
      ],
      "text/plain": [
       "              Types of Violation\n",
       "Loss only                   0.40\n",
       "No violation                0.40\n",
       "Time step                   0.02"
      ]
     },
     "execution_count": 883,
     "metadata": {},
     "output_type": "execute_result"
    }
   ],
   "source": [
    "signal_vio.sort_index()"
   ]
  },
  {
   "cell_type": "code",
   "execution_count": 884,
   "metadata": {},
   "outputs": [],
   "source": [
    "r_signal_th = 0.10 #r_signal.values[0][0]"
   ]
  },
  {
   "cell_type": "code",
   "execution_count": 885,
   "metadata": {},
   "outputs": [
    {
     "data": {
      "text/html": [
       "<div>\n",
       "<style scoped>\n",
       "    .dataframe tbody tr th:only-of-type {\n",
       "        vertical-align: middle;\n",
       "    }\n",
       "\n",
       "    .dataframe tbody tr th {\n",
       "        vertical-align: top;\n",
       "    }\n",
       "\n",
       "    .dataframe thead th {\n",
       "        text-align: right;\n",
       "    }\n",
       "</style>\n",
       "<table border=\"1\" class=\"dataframe\">\n",
       "  <thead>\n",
       "    <tr style=\"text-align: right;\">\n",
       "      <th></th>\n",
       "      <th>Loss only</th>\n",
       "      <th>No violation</th>\n",
       "      <th>Time step</th>\n",
       "    </tr>\n",
       "  </thead>\n",
       "  <tbody>\n",
       "    <tr>\n",
       "      <th>0</th>\n",
       "      <td>NaN</td>\n",
       "      <td>NaN</td>\n",
       "      <td>0.1</td>\n",
       "    </tr>\n",
       "  </tbody>\n",
       "</table>\n",
       "</div>"
      ],
      "text/plain": [
       "   Loss only  No violation  Time step\n",
       "0        NaN           NaN        0.1"
      ]
     },
     "execution_count": 885,
     "metadata": {},
     "output_type": "execute_result"
    }
   ],
   "source": [
    "r_signal_df = pd.DataFrame([[np.nan, np.nan, r_signal_th]])\n",
    "r_signal_df.columns = ['No violation', 'Loss only', 'Time step']\n",
    "# r_signal.index = ['Time step']\n",
    "# r_signal[['No violation', 'Loss only']] = np.nan\n",
    "r_signal_df = r_signal_df.T.sort_index().T\n",
    "r_signal_df"
   ]
  },
  {
   "cell_type": "code",
   "execution_count": 886,
   "metadata": {},
   "outputs": [
    {
     "data": {
      "text/plain": [
       "['blue', 'green', 'orange']"
      ]
     },
     "execution_count": 886,
     "metadata": {},
     "output_type": "execute_result"
    }
   ],
   "source": [
    "palette = ['blue', 'green', 'orange']\n",
    "palette[-1] = 'red' if signal_vio.loc['Time step'].values[0] > r_signal_th else 'orange'\n",
    "palette"
   ]
  },
  {
   "cell_type": "code",
   "execution_count": 887,
   "metadata": {},
   "outputs": [
    {
     "data": {
      "text/plain": [
       "Text(0, 0.5, 'Percentage of Signals (%)')"
      ]
     },
     "execution_count": 887,
     "metadata": {},
     "output_type": "execute_result"
    },
    {
     "data": {
      "image/png": "[encoded data removed]",
      "text/plain": [
       "<Figure size 700x200 with 1 Axes>"
      ]
     },
     "metadata": {},
     "output_type": "display_data"
    }
   ],
   "source": [
    "#-------\n",
    "fig = plt.figure(figsize=(7, 2))\n",
    "ax = fig.add_subplot(121)\n",
    "\n",
    "sns.barplot(data = signal_vio.T, palette = palette, ax = ax)\n",
    "sns.pointplot(data=r_signal_df, join=False, color='purple', label= '$\\mathcal{R}^{signal}$', ax=ax) #, zorder=1)\n",
    "plt.legend()\n",
    "ax.set_xlabel(\"Types of Violation\")\n",
    "ax.set_ylabel(\"Percentage of Signals (%)\")"
   ]
  },
  {
   "cell_type": "code",
   "execution_count": null,
   "metadata": {},
   "outputs": [],
   "source": []
  }
 ],
 "metadata": {
  "kernelspec": {
   "display_name": "Python 3.8.10 ('venv': venv)",
   "language": "python",
   "name": "python3"
  },
  "language_info": {
   "codemirror_mode": {
    "name": "ipython",
    "version": 3
   },
   "file_extension": ".py",
   "mimetype": "text/x-python",
   "name": "python",
   "nbconvert_exporter": "python",
   "pygments_lexer": "ipython3",
   "version": "3.8.10"
  },
  "orig_nbformat": 4,
  "vscode": {
   "interpreter": {
    "hash": "76b18d0804b1d18cc4a8723b732596a057f641d6427a46ef33e32599b5d9a6a5"
   }
  }
 },
 "nbformat": 4,
 "nbformat_minor": 2
}
