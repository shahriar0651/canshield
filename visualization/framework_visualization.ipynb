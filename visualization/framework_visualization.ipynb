{
 "cells": [
  {
   "cell_type": "code",
   "execution_count": 620,
   "metadata": {},
   "outputs": [],
   "source": [
    "import seaborn as sns\n",
    "import numpy as np\n",
    "import pandas as pd\n",
    "from matplotlib import pyplot as plt"
   ]
  },
  {
   "cell_type": "code",
   "execution_count": 621,
   "metadata": {},
   "outputs": [
    {
     "data": {
      "text/html": [
       "<div>\n",
       "<style scoped>\n",
       "    .dataframe tbody tr th:only-of-type {\n",
       "        vertical-align: middle;\n",
       "    }\n",
       "\n",
       "    .dataframe tbody tr th {\n",
       "        vertical-align: top;\n",
       "    }\n",
       "\n",
       "    .dataframe thead th {\n",
       "        text-align: right;\n",
       "    }\n",
       "</style>\n",
       "<table border=\"1\" class=\"dataframe\">\n",
       "  <thead>\n",
       "    <tr style=\"text-align: right;\">\n",
       "      <th></th>\n",
       "      <th>Signal_1</th>\n",
       "      <th>Signal_2</th>\n",
       "      <th>Signal_3</th>\n",
       "      <th>Signal_4</th>\n",
       "      <th>Signal_5</th>\n",
       "    </tr>\n",
       "  </thead>\n",
       "  <tbody>\n",
       "    <tr>\n",
       "      <th>Time_step_1</th>\n",
       "      <td>0.300611</td>\n",
       "      <td>0.818013</td>\n",
       "      <td>0.212490</td>\n",
       "      <td>0.189436</td>\n",
       "      <td>1.131061</td>\n",
       "    </tr>\n",
       "    <tr>\n",
       "      <th>Time_step_2</th>\n",
       "      <td>1.529513</td>\n",
       "      <td>0.331300</td>\n",
       "      <td>0.176174</td>\n",
       "      <td>0.708305</td>\n",
       "      <td>1.160876</td>\n",
       "    </tr>\n",
       "    <tr>\n",
       "      <th>Time_step_3</th>\n",
       "      <td>1.244948</td>\n",
       "      <td>0.179391</td>\n",
       "      <td>0.708417</td>\n",
       "      <td>0.638084</td>\n",
       "      <td>0.504462</td>\n",
       "    </tr>\n",
       "    <tr>\n",
       "      <th>Time_step_4</th>\n",
       "      <td>0.478380</td>\n",
       "      <td>0.767872</td>\n",
       "      <td>0.432390</td>\n",
       "      <td>0.387885</td>\n",
       "      <td>0.121143</td>\n",
       "    </tr>\n",
       "    <tr>\n",
       "      <th>Time_step_5</th>\n",
       "      <td>0.847250</td>\n",
       "      <td>0.491546</td>\n",
       "      <td>1.316105</td>\n",
       "      <td>0.885330</td>\n",
       "      <td>0.500306</td>\n",
       "    </tr>\n",
       "  </tbody>\n",
       "</table>\n",
       "</div>"
      ],
      "text/plain": [
       "             Signal_1  Signal_2  Signal_3  Signal_4  Signal_5\n",
       "Time_step_1  0.300611  0.818013  0.212490  0.189436  1.131061\n",
       "Time_step_2  1.529513  0.331300  0.176174  0.708305  1.160876\n",
       "Time_step_3  1.244948  0.179391  0.708417  0.638084  0.504462\n",
       "Time_step_4  0.478380  0.767872  0.432390  0.387885  0.121143\n",
       "Time_step_5  0.847250  0.491546  1.316105  0.885330  0.500306"
      ]
     },
     "execution_count": 621,
     "metadata": {},
     "output_type": "execute_result"
    }
   ],
   "source": [
    "# initialize\n",
    "m = 5\n",
    "w = 5\n",
    "\n",
    "signals = [f\"Signal_{i+1}\" for i in range(m)]\n",
    "timesteps = [f\"Time_step_{i+1}\" for i in range(w)]\n",
    "\n",
    "base = np.arange(0.1, 0.75, (0.75-0.1)/m).reshape(1, m)[::-1].T[::-1].T*0.25\n",
    "recon_loss = base + np.abs(np.random.randn(w, m))*0.75\n",
    "\n",
    "# recon_loss = recon_loss.T[::-1].T\n",
    "\n",
    "recon_loss = pd.DataFrame(recon_loss)\n",
    "recon_loss.columns = signals\n",
    "recon_loss.index = timesteps\n",
    "recon_loss"
   ]
  },
  {
   "cell_type": "code",
   "execution_count": null,
   "metadata": {},
   "outputs": [],
   "source": []
  },
  {
   "cell_type": "code",
   "execution_count": 622,
   "metadata": {},
   "outputs": [
    {
     "data": {
      "text/html": [
       "<div>\n",
       "<style scoped>\n",
       "    .dataframe tbody tr th:only-of-type {\n",
       "        vertical-align: middle;\n",
       "    }\n",
       "\n",
       "    .dataframe tbody tr th {\n",
       "        vertical-align: top;\n",
       "    }\n",
       "\n",
       "    .dataframe thead th {\n",
       "        text-align: right;\n",
       "    }\n",
       "</style>\n",
       "<table border=\"1\" class=\"dataframe\">\n",
       "  <thead>\n",
       "    <tr style=\"text-align: right;\">\n",
       "      <th></th>\n",
       "      <th>0</th>\n",
       "    </tr>\n",
       "  </thead>\n",
       "  <tbody>\n",
       "    <tr>\n",
       "      <th>0</th>\n",
       "      <td>2.060495</td>\n",
       "    </tr>\n",
       "  </tbody>\n",
       "</table>\n",
       "</div>"
      ],
      "text/plain": [
       "          0\n",
       "0  2.060495"
      ]
     },
     "execution_count": 622,
     "metadata": {},
     "output_type": "execute_result"
    }
   ],
   "source": [
    "r_loss = np.abs(np.random.randn(1, m))*0.75 + base*0.25\n",
    "r_loss = pd.DataFrame(r_loss, columns = signals)  \n",
    "\n",
    "r_time = np.abs(np.random.randn(1, m))*0.75 + base*0.25\n",
    "r_time = pd.DataFrame(r_time, columns = signals)\n",
    "r_signal = pd.DataFrame(np.abs(np.random.randn(1, 1)))\n",
    "r_loss, r_time, r_signal\n",
    "r_signal"
   ]
  },
  {
   "cell_type": "code",
   "execution_count": 623,
   "metadata": {},
   "outputs": [
    {
     "data": {
      "text/html": [
       "<div>\n",
       "<style scoped>\n",
       "    .dataframe tbody tr th:only-of-type {\n",
       "        vertical-align: middle;\n",
       "    }\n",
       "\n",
       "    .dataframe tbody tr th {\n",
       "        vertical-align: top;\n",
       "    }\n",
       "\n",
       "    .dataframe thead th {\n",
       "        text-align: right;\n",
       "    }\n",
       "</style>\n",
       "<table border=\"1\" class=\"dataframe\">\n",
       "  <thead>\n",
       "    <tr style=\"text-align: right;\">\n",
       "      <th></th>\n",
       "      <th>Signal_1</th>\n",
       "      <th>Signal_2</th>\n",
       "      <th>Signal_3</th>\n",
       "      <th>Signal_4</th>\n",
       "      <th>Signal_5</th>\n",
       "    </tr>\n",
       "  </thead>\n",
       "  <tbody>\n",
       "    <tr>\n",
       "      <th>0</th>\n",
       "      <td>1.112407</td>\n",
       "      <td>2.597785</td>\n",
       "      <td>3.828163</td>\n",
       "      <td>2.51534</td>\n",
       "      <td>3.355895</td>\n",
       "    </tr>\n",
       "  </tbody>\n",
       "</table>\n",
       "</div>"
      ],
      "text/plain": [
       "   Signal_1  Signal_2  Signal_3  Signal_4  Signal_5\n",
       "0  1.112407  2.597785  3.828163   2.51534  3.355895"
      ]
     },
     "execution_count": 623,
     "metadata": {},
     "output_type": "execute_result"
    }
   ],
   "source": [
    "r_loss_mat = pd.DataFrame(r_loss.values.tolist()*w, columns = signals, index=timesteps)\n",
    "r_time_mat = pd.DataFrame(r_time.values.tolist()*1, columns = signals)*w\n",
    "r_time_mat"
   ]
  },
  {
   "cell_type": "code",
   "execution_count": 624,
   "metadata": {},
   "outputs": [],
   "source": [
    "# import numpy as np\n",
    "# import matplotlib.pyplot as plt\n",
    "# from matplotlib import cm\n",
    "\n",
    "\n",
    "# # setup the figure and axes\n",
    "# fig = plt.figure(figsize=(7, 5))\n",
    "# ax = fig.add_subplot(121, projection='3d')\n",
    "\n",
    "# # Grid data...10\n",
    "\n",
    "# x = np.arange(1,w+1,1)\n",
    "# y = np.arange(1,m+1,1)\n",
    "# # X, Y = np.meshgrid(x + 0.25, y - 0.10)\n",
    "# X, Y = np.meshgrid(x, y)\n",
    "\n",
    "# # Data for 3D plot\n",
    "# top = recon_loss.T.values.flatten()\n",
    "\n",
    "# # ---- others ---\n",
    "# x_bar, y_bar = X.flatten(), Y.flatten()\n",
    "# bottom = np.zeros_like(top)\n",
    "# width = depth = 0.20\n",
    "\n",
    "# # 3D Barplot\n",
    "# colors = recon_loss.astype(str)\n",
    "# red_pos = recon_loss.values > r_loss_mat.values\n",
    "# green_pos = recon_loss.values <= r_loss_mat.values\n",
    "\n",
    "# colors[green_pos] = 'green' \n",
    "# colors[red_pos] = 'blue' \n",
    "# colors = colors.T.values.flatten().tolist()\n",
    "\n",
    "# # -------- done---------------------\n",
    "# ax.bar3d(y_bar, x_bar, bottom, width, depth, top, shade=True, alpha = 0.85, color = colors) #, color = ['orange'', 'green']*50)\n",
    "# ax.set_xlabel('Signals')\n",
    "# ax.set_ylabel('Time Steps')\n",
    "# #--------------------------------------\n",
    "\n",
    "\n",
    "# x = np.arange(1,w+1,1)\n",
    "# y = np.arange(1,m+1,1)\n",
    "# # X, Y = np.meshgrid(x + 0.25, y + 0.50)\n",
    "# X, Y = np.meshgrid(x, y)\n",
    "# wrap = r_loss_mat.values\n",
    "# # Surface plot\n",
    "# surf = ax.plot_surface(Y, X, wrap.T, alpha=0.45,\n",
    "#                        linewidth=1.50, antialiased=True)\n",
    "\n",
    "# # ax.contour(Y, X, wrap.T, zdir='z', offset=0, cmap=cm.viridis)\n",
    "# # ax.contour(Y, X, wrap.T, zdir='x', offset=-10, cmap='coolwarm')\n",
    "# cs = ax.contour(Y, X, wrap.T, zdir='y', offset = 1, cmap=cm.Dark2)\n",
    "# # plt.clabel(cs, inline=1, fontsize=10)\n",
    "\n",
    "# # Contour plot\n",
    "# # ax.contour(X, Y, Z, extend3d=True, cmap=cm.coolwarm)\n",
    "# # proxy = [plt.Rectangle((0,0),1,1,fc = pc.get_facecolor()[0]) \n",
    "# #     for pc in cs.collections]\n",
    "\n",
    "# # plt.legend()\n",
    "\n",
    "# h1,l1 = cs.legend_elements()\n",
    "# h1[0].set_color('gray')\n",
    "# # h2,l1 = surf.legend_elements()\n",
    "# plt.legend([h1[0]], ['$\\mathcal{R}^{Loss}$'], bbox_to_anchor = (0.85, 0.85))\n",
    "\n",
    "\n",
    "# ax.view_init(10, 255)\n",
    "\n",
    "# plt.tight_layout()\n",
    "# plt.savefig(f'plots/recon_loss_3d.jpg', dpi = 350)\n",
    "# plt.show()"
   ]
  },
  {
   "cell_type": "code",
   "execution_count": 650,
   "metadata": {},
   "outputs": [
    {
     "name": "stderr",
     "output_type": "stream",
     "text": [
      "/Users/hshahriar/anaconda3/envs/tensorgpu/lib/python3.7/site-packages/ipykernel_launcher.py:65: UserWarning: The following kwargs were not used by contour: 'marker'\n"
     ]
    },
    {
     "data": {
      "image/png": "[encoded data removed]",
      "text/plain": [
       "<Figure size 504x360 with 1 Axes>"
      ]
     },
     "metadata": {
      "needs_background": "light"
     },
     "output_type": "display_data"
    },
    {
     "name": "stderr",
     "output_type": "stream",
     "text": [
      "/Users/hshahriar/anaconda3/envs/tensorgpu/lib/python3.7/site-packages/ipykernel_launcher.py:107: UserWarning: Tight layout not applied. tight_layout cannot make axes width small enough to accommodate all axes decorations\n"
     ]
    },
    {
     "data": {
      "image/png": "[encoded data removed]",
      "text/plain": [
       "<Figure size 360x360 with 1 Axes>"
      ]
     },
     "metadata": {
      "needs_background": "light"
     },
     "output_type": "display_data"
    }
   ],
   "source": [
    "import numpy as np\n",
    "import matplotlib.pyplot as plt\n",
    "from matplotlib import cm\n",
    "\n",
    "\n",
    "# setup the figure and axes---\n",
    "fig = plt.figure(figsize=(7, 5))\n",
    "ax = fig.add_subplot(121, projection='3d')\n",
    "\n",
    "# Grid data...10\n",
    "x = np.arange(1,m+1,1)\n",
    "y = np.arange(1,w+1,1)\n",
    "X, Y = np.meshgrid(x, y)\n",
    "x_pos, y_pos = X.flatten(), Y.flatten()\n",
    "z_pos = np.zeros_like(x_pos)\n",
    "# ---- others ---\n",
    "\n",
    "# Define size of the bars\n",
    "side = 0.15\n",
    "width = depth = side\n",
    "total_bars = len(x_pos)\n",
    "\n",
    "# Define data------------------------------\n",
    "# Data for 3D plot\n",
    "heights_total = recon_loss.values.flatten()\n",
    "thresholds2d = r_loss_mat.values\n",
    "thresholds = thresholds2d.flatten()\n",
    "violation_index = np.where(heights_total > thresholds)[0]\n",
    "\n",
    "# Split data/heights and colors in two parts\n",
    "color1 = 'green'\n",
    "color2 = 'blue'\n",
    "\n",
    "colors = {}\n",
    "colors[1] = np.array([color1]*total_bars)\n",
    "colors[2] = colors[1].copy()\n",
    "colors[2][violation_index] = color2\n",
    "\n",
    "# Split data/heights and colors in two parts\n",
    "heights = {}\n",
    "heights[1] = heights_total\n",
    "heights[2] = heights_total - thresholds\n",
    "heights[1][violation_index] = thresholds[violation_index]\n",
    "heights[2][heights[2] < 0] = 0\n",
    "\n",
    "\n",
    "for i in range(1, 3):\n",
    "# -------- done---------------------\n",
    "    ax.bar3d(x_pos-side/2, y_pos - side/2, z_pos, width, depth, heights[i], shade=True, alpha = 0.50, color = colors[i]) #, color = ['orange'', 'green']*50)\n",
    "    z_pos = heights[i]\n",
    "    #--------------------------------------\n",
    "ax.set_xlabel('Signals')\n",
    "ax.set_ylabel('Time Steps')\n",
    "ax.set_zlabel('Reconstruction Loss')\n",
    "# ax.set_title(\"Index of loss violations\")\n",
    "\n",
    "\n",
    "# width = depth = 0.75\n",
    "# ax.bar3d(x_pos, y_pos, wrap, 1, 1, 0.01, shade=True, alpha = 0.90) #, color = ['orange'', 'green']*50)\n",
    "\n",
    "#-------------------------\n",
    "# Surface plot\n",
    "surf = ax.plot_surface(X, Y, thresholds2d, alpha=0.90,\n",
    "                       linewidth=0.30, antialiased=True, rstride=1,cstride=1, edgecolors='k')\n",
    "cs = ax.contour(X, Y, thresholds2d, zdir='y',marker = '*', offset = 1, cmap=cm.Dark2)\n",
    "h1,l1 = cs.legend_elements()\n",
    "h1[0].set_color('gray')\n",
    "plt.legend([h1[0]], ['$\\mathcal{R}^{Loss}$'], bbox_to_anchor = (0.85, 0.85))\n",
    "\n",
    "\n",
    "\n",
    "# View of angle....\n",
    "ax.view_init(0, 280)\n",
    "#---------------------\n",
    "\n",
    "# Saving image...\n",
    "plt.tight_layout()\n",
    "plt.savefig(f'plots/recon_loss_3d.jpg', dpi = 500)\n",
    "plt.show()\n",
    "\n",
    "\n",
    "\n",
    "# Adding second figure with top view........-----------------------------------------------------------\n",
    "# setup the figure and axes---\n",
    "fig = plt.figure(figsize=(5, 5))\n",
    "ax = fig.add_subplot(121, projection='3d')\n",
    "\n",
    "side = 0.50\n",
    "width = depth = side\n",
    "\n",
    "for i in range(1, 3):\n",
    "# -------- done---------------------\n",
    "    ax.bar3d(x_pos - side/2, y_pos- side/2, z_pos, width, depth, heights[i]\n",
    "    , shade=True, alpha = 0.50, color = colors[i]) #, color = ['orange'', 'green']*50)\n",
    "    z_pos = heights[i]\n",
    "    #--------------------------------------\n",
    "ax.set_xlabel('Signals')\n",
    "ax.set_ylabel('Time Steps')\n",
    "ax.zaxis.set_ticklabels([])\n",
    "# plt.legend()\n",
    "# ax.set_title(\"Index of loss violations\")\n",
    "# View of angle....\n",
    "ax.view_init(90, 270)\n",
    "#---------------------\n",
    "\n",
    "# Saving image...\n",
    "plt.tight_layout()\n",
    "plt.savefig(f'plots/recon_loss_2d.jpg', dpi = 500)\n",
    "plt.show()"
   ]
  },
  {
   "cell_type": "code",
   "execution_count": 651,
   "metadata": {},
   "outputs": [
    {
     "data": {
      "image/png": "[encoded data removed]",
      "text/plain": [
       "<Figure size 360x144 with 1 Axes>"
      ]
     },
     "metadata": {
      "needs_background": "light"
     },
     "output_type": "display_data"
    }
   ],
   "source": [
    "# Data for 3D plot\n",
    "time_vio = pd.DataFrame((recon_loss > r_loss_mat).astype(int).sum()).T\n",
    "# time_vio = pd.DataFrame((recon_loss > r_loss_mat).astype(int).sum()/w).T\n",
    "heights_total = time_vio.values.flatten() + 0.05\n",
    "thresholds = r_time_mat.values.flatten()\n",
    "\n",
    "no_violation_index = np.where(heights_total == 0)[0]\n",
    "violation_index = np.where(heights_total > thresholds)[0]\n",
    "\n",
    "# Split data/heights and colors in two parts\n",
    "# color0 = 'green'\n",
    "color1 = 'blue'\n",
    "color2 = 'orange'\n",
    "\n",
    "colors = {}\n",
    "colors[1] = pd.Series([color1]* m)\n",
    "# colors[0] = colors[1].copy()\n",
    "# colors[0].loc[no_violation_index] = color0\n",
    "colors[2] = colors[1].copy()\n",
    "colors[2].loc[violation_index] = color2\n",
    "\n",
    "# colors[0] = colors[0].values\n",
    "colors[1] = colors[1].values\n",
    "colors[2] = colors[2].values\n",
    "\n",
    "# Split data/heights and colors in two parts\n",
    "heights = {}\n",
    "# heights[0] = heights_total - heights_total\n",
    "# heights[0][no_violation_index] = 0.05\n",
    "heights[1] = heights_total\n",
    "heights[2] = heights_total - thresholds\n",
    "heights[1][violation_index] = thresholds[violation_index]\n",
    "heights[2][heights[2] < 0] = 0\n",
    "\n",
    "\n",
    "heights_df = pd.DataFrame(heights)\n",
    "heights_df.columns = ['No violation', 'Violating $\\mathcal{R}^{Time}$']\n",
    "heights_df\n",
    "\n",
    "\n",
    "# # Adding second figure with top view........-----------------------------------------------------------\n",
    "# setup the figure and axes---\n",
    "fig = plt.figure(figsize=(5, 2))\n",
    "ax = fig.add_subplot(121)\n",
    "\n",
    "# create stacked bar chart for monthly temperatures\n",
    "heights_df.plot(kind='bar', stacked=True, color=['blue', 'orange'], ax = ax)\n",
    "ax.plot(thresholds, marker = 'p', markersize = '2', label = '$\\mathcal{R}^{Time}$')\n",
    "\n",
    "\n",
    "# ax.xaxis.set_xticks(np.array(range(1, m+1)).tolist())\n",
    "# ax.set_xticks([1, 2, 3, 4, 5])\n",
    "# ax.set_xticklabels()\n",
    "ax.set_xticklabels(np.array(range(1, m+1)).tolist(), rotation=0)\n",
    "\n",
    "plt.grid(True)\n",
    "# labels for x & y axis\n",
    "plt.xlabel('Signals')\n",
    "plt.ylabel('# of loss violations')\n",
    "plt.legend(bbox_to_anchor = (1,1))\n",
    "plt.tight_layout()\n",
    "plt.savefig(f'plots/recon_time_bar.jpg', dpi = 500)\n",
    "plt.show()\n"
   ]
  },
  {
   "cell_type": "code",
   "execution_count": null,
   "metadata": {},
   "outputs": [],
   "source": []
  },
  {
   "cell_type": "code",
   "execution_count": 653,
   "metadata": {},
   "outputs": [
    {
     "data": {
      "image/png": "[encoded data removed]",
      "text/plain": [
       "<Figure size 216x144 with 1 Axes>"
      ]
     },
     "metadata": {
      "needs_background": "light"
     },
     "output_type": "display_data"
    }
   ],
   "source": [
    "import matplotlib \n",
    "signal_vio = pd.DataFrame(colors[2] == 'orange')\n",
    "signal_vio.index = signal_vio.index + 1\n",
    "# sns.heatmap(signal_vio.T)\n",
    "cmap = matplotlib.colors.ListedColormap([\"blue\",\"orange\"], name='from_list', N=None)\n",
    "fig = plt.figure(figsize=(3, 2))\n",
    "ax = fig.add_subplot(121)\n",
    "# ax.imshow(signal_vio.T, cmap= cmap)\n",
    "sns.heatmap(signal_vio.T, square=True,  linewidths= 5, cmap= cmap, cbar = False)\n",
    "ax.set_yticks([])\n",
    "ax.set_title(\"Time violated signals\")\n",
    "# ax.set_xticks()\n",
    "plt.xlabel('Signals')\n",
    "\n",
    "plt.tight_layout()\n",
    "plt.savefig(f'plots/recon_time_bin.jpg', dpi = 500)\n",
    "plt.show()"
   ]
  },
  {
   "cell_type": "code",
   "execution_count": 655,
   "metadata": {},
   "outputs": [
    {
     "data": {
      "text/html": [
       "<div>\n",
       "<style scoped>\n",
       "    .dataframe tbody tr th:only-of-type {\n",
       "        vertical-align: middle;\n",
       "    }\n",
       "\n",
       "    .dataframe tbody tr th {\n",
       "        vertical-align: top;\n",
       "    }\n",
       "\n",
       "    .dataframe thead th {\n",
       "        text-align: right;\n",
       "    }\n",
       "</style>\n",
       "<table border=\"1\" class=\"dataframe\">\n",
       "  <thead>\n",
       "    <tr style=\"text-align: right;\">\n",
       "      <th></th>\n",
       "      <th>0</th>\n",
       "    </tr>\n",
       "  </thead>\n",
       "  <tbody>\n",
       "    <tr>\n",
       "      <th>No violation</th>\n",
       "      <td>1.0</td>\n",
       "    </tr>\n",
       "    <tr>\n",
       "      <th>Violation</th>\n",
       "      <td>1.0</td>\n",
       "    </tr>\n",
       "  </tbody>\n",
       "</table>\n",
       "</div>"
      ],
      "text/plain": [
       "                0\n",
       "No violation  1.0\n",
       "Violation     1.0"
      ]
     },
     "execution_count": 655,
     "metadata": {},
     "output_type": "execute_result"
    }
   ],
   "source": [
    "r_signal_th = 1 #r_signal.values[0][0]\n",
    "r_signal_df = pd.DataFrame([[1.0, r_signal_th]])\n",
    "r_signal_df.columns = ['No violation', 'Violation']\n",
    "# r_signal_df.columns = ['No violation', 'Violating $\\mathcal{R}^{Signal}$']\n",
    "\n",
    "# r_signal.index = ['Time step']\n",
    "# r_signal[['No violation', 'Loss only']] = np.nan\n",
    "r_signal_df = r_signal_df.T.sort_index().T\n",
    "r_signal_df = r_signal_df.T\n",
    "r_signal_df"
   ]
  },
  {
   "cell_type": "code",
   "execution_count": 656,
   "metadata": {},
   "outputs": [
    {
     "data": {
      "text/html": [
       "<div>\n",
       "<style scoped>\n",
       "    .dataframe tbody tr th:only-of-type {\n",
       "        vertical-align: middle;\n",
       "    }\n",
       "\n",
       "    .dataframe tbody tr th {\n",
       "        vertical-align: top;\n",
       "    }\n",
       "\n",
       "    .dataframe thead th {\n",
       "        text-align: right;\n",
       "    }\n",
       "</style>\n",
       "<table border=\"1\" class=\"dataframe\">\n",
       "  <thead>\n",
       "    <tr style=\"text-align: right;\">\n",
       "      <th></th>\n",
       "      <th>0</th>\n",
       "    </tr>\n",
       "  </thead>\n",
       "  <tbody>\n",
       "    <tr>\n",
       "      <th>No violation</th>\n",
       "      <td>3</td>\n",
       "    </tr>\n",
       "    <tr>\n",
       "      <th>Violation</th>\n",
       "      <td>2</td>\n",
       "    </tr>\n",
       "  </tbody>\n",
       "</table>\n",
       "</div>"
      ],
      "text/plain": [
       "              0\n",
       "No violation  3\n",
       "Violation     2"
      ]
     },
     "execution_count": 656,
     "metadata": {},
     "output_type": "execute_result"
    }
   ],
   "source": [
    "# signal_vio_count = pd.DataFrame(pd.Series(colors[2]).value_counts()/m)\n",
    "signal_vio_count = pd.DataFrame(pd.Series(colors[2]).value_counts())\n",
    "signal_vio_count = signal_vio_count.sort_index()\n",
    "signal_vio_count.index = ['No violation', 'Violation']\n",
    "signal_vio_count\n"
   ]
  },
  {
   "cell_type": "code",
   "execution_count": 657,
   "metadata": {},
   "outputs": [
    {
     "data": {
      "text/html": [
       "<div>\n",
       "<style scoped>\n",
       "    .dataframe tbody tr th:only-of-type {\n",
       "        vertical-align: middle;\n",
       "    }\n",
       "\n",
       "    .dataframe tbody tr th {\n",
       "        vertical-align: top;\n",
       "    }\n",
       "\n",
       "    .dataframe thead th {\n",
       "        text-align: right;\n",
       "    }\n",
       "</style>\n",
       "<table border=\"1\" class=\"dataframe\">\n",
       "  <thead>\n",
       "    <tr style=\"text-align: right;\">\n",
       "      <th></th>\n",
       "      <th>0</th>\n",
       "    </tr>\n",
       "  </thead>\n",
       "  <tbody>\n",
       "    <tr>\n",
       "      <th>No violation</th>\n",
       "      <td>1</td>\n",
       "    </tr>\n",
       "    <tr>\n",
       "      <th>Violation</th>\n",
       "      <td>1</td>\n",
       "    </tr>\n",
       "  </tbody>\n",
       "</table>\n",
       "</div>"
      ],
      "text/plain": [
       "              0\n",
       "No violation  1\n",
       "Violation     1"
      ]
     },
     "execution_count": 657,
     "metadata": {},
     "output_type": "execute_result"
    }
   ],
   "source": [
    "signal_vio = pd.DataFrame(signal_vio_count > r_signal_df).astype(int)\n",
    "signal_vio\n"
   ]
  },
  {
   "cell_type": "code",
   "execution_count": 658,
   "metadata": {},
   "outputs": [
    {
     "data": {
      "text/html": [
       "<div>\n",
       "<style scoped>\n",
       "    .dataframe tbody tr th:only-of-type {\n",
       "        vertical-align: middle;\n",
       "    }\n",
       "\n",
       "    .dataframe tbody tr th {\n",
       "        vertical-align: top;\n",
       "    }\n",
       "\n",
       "    .dataframe thead th {\n",
       "        text-align: right;\n",
       "    }\n",
       "</style>\n",
       "<table border=\"1\" class=\"dataframe\">\n",
       "  <thead>\n",
       "    <tr style=\"text-align: right;\">\n",
       "      <th></th>\n",
       "      <th>No violation</th>\n",
       "      <th>Violation</th>\n",
       "    </tr>\n",
       "  </thead>\n",
       "  <tbody>\n",
       "    <tr>\n",
       "      <th>0</th>\n",
       "      <td>3</td>\n",
       "      <td>2</td>\n",
       "    </tr>\n",
       "  </tbody>\n",
       "</table>\n",
       "</div>"
      ],
      "text/plain": [
       "   No violation  Violation\n",
       "0             3          2"
      ]
     },
     "execution_count": 658,
     "metadata": {},
     "output_type": "execute_result"
    }
   ],
   "source": [
    "heights_total = signal_vio_count.T\n",
    "heights_total"
   ]
  },
  {
   "cell_type": "code",
   "execution_count": 659,
   "metadata": {},
   "outputs": [
    {
     "data": {
      "text/plain": [
       "{1: [1, 1], 2: [2.0, 1.0]}"
      ]
     },
     "execution_count": 659,
     "metadata": {},
     "output_type": "execute_result"
    }
   ],
   "source": [
    "heights_total = signal_vio_count.T.copy()\n",
    "thresholds = r_signal_df.T.copy()\n",
    "violation_index = heights_total > thresholds\n",
    "# Split data/heights and colors in two parts\n",
    "heights = {}\n",
    "# heights[0] = heights_total - heights_total\n",
    "# heights[0][no_violation_index] = 0.05\n",
    "heights[1] = heights_total.copy()\n",
    "heights[2] = heights_total - thresholds\n",
    "heights[1][violation_index] = thresholds[violation_index]\n",
    "heights[2][heights[2] < 0] = 0\n",
    "heights[1] = heights[1].values.flatten().tolist()\n",
    "heights[2] = heights[2].values.flatten().tolist()\n",
    "heights"
   ]
  },
  {
   "cell_type": "code",
   "execution_count": 660,
   "metadata": {},
   "outputs": [
    {
     "data": {
      "text/html": [
       "<div>\n",
       "<style scoped>\n",
       "    .dataframe tbody tr th:only-of-type {\n",
       "        vertical-align: middle;\n",
       "    }\n",
       "\n",
       "    .dataframe tbody tr th {\n",
       "        vertical-align: top;\n",
       "    }\n",
       "\n",
       "    .dataframe thead th {\n",
       "        text-align: right;\n",
       "    }\n",
       "</style>\n",
       "<table border=\"1\" class=\"dataframe\">\n",
       "  <thead>\n",
       "    <tr style=\"text-align: right;\">\n",
       "      <th></th>\n",
       "      <th>No violation</th>\n",
       "      <th>Violation</th>\n",
       "    </tr>\n",
       "  </thead>\n",
       "  <tbody>\n",
       "    <tr>\n",
       "      <th>0</th>\n",
       "      <td>3</td>\n",
       "      <td>2</td>\n",
       "    </tr>\n",
       "  </tbody>\n",
       "</table>\n",
       "</div>"
      ],
      "text/plain": [
       "   No violation  Violation\n",
       "0             3          2"
      ]
     },
     "execution_count": 660,
     "metadata": {},
     "output_type": "execute_result"
    }
   ],
   "source": [
    "heights_total\n",
    "# thresholds\n",
    "#violation_index = np.where(heights_total > thresholds)[0]\n",
    "#violation_index"
   ]
  },
  {
   "cell_type": "code",
   "execution_count": 661,
   "metadata": {},
   "outputs": [
    {
     "data": {
      "text/plain": [
       "{1: array(['blue', 'orange'], dtype=object),\n",
       " 2: array(['red', 'red'], dtype=object)}"
      ]
     },
     "execution_count": 661,
     "metadata": {},
     "output_type": "execute_result"
    }
   ],
   "source": [
    "violation_index = np.where(heights_total.values.flatten() > thresholds.values.flatten())[0]\n",
    "\n",
    "# Split data/heights and colors in two parts\n",
    "# color0 = 'green'\n",
    "color1 = 'blue'\n",
    "color2 = 'orange'\n",
    "color3 = 'red'\n",
    "\n",
    "colors = {}\n",
    "colors[1] = pd.Series([color1, color2])\n",
    "# colors[0] = colors[1].copy()\n",
    "# colors[0].loc[no_violation_index] = color0\n",
    "colors[2] = colors[1].copy()\n",
    "colors[2].loc[violation_index] = color3\n",
    "\n",
    "# colors[0] = colors[0].values\n",
    "colors[1] = colors[1].values\n",
    "colors[2] = colors[2].values\n",
    "colors"
   ]
  },
  {
   "cell_type": "code",
   "execution_count": 662,
   "metadata": {},
   "outputs": [
    {
     "data": {
      "text/plain": [
       "{1: [1, 1], 2: [2.0, 1.0]}"
      ]
     },
     "execution_count": 662,
     "metadata": {},
     "output_type": "execute_result"
    }
   ],
   "source": [
    "heights"
   ]
  },
  {
   "cell_type": "code",
   "execution_count": 663,
   "metadata": {},
   "outputs": [
    {
     "data": {
      "text/html": [
       "<div>\n",
       "<style scoped>\n",
       "    .dataframe tbody tr th:only-of-type {\n",
       "        vertical-align: middle;\n",
       "    }\n",
       "\n",
       "    .dataframe tbody tr th {\n",
       "        vertical-align: top;\n",
       "    }\n",
       "\n",
       "    .dataframe thead th {\n",
       "        text-align: right;\n",
       "    }\n",
       "</style>\n",
       "<table border=\"1\" class=\"dataframe\">\n",
       "  <thead>\n",
       "    <tr style=\"text-align: right;\">\n",
       "      <th></th>\n",
       "      <th>No violation</th>\n",
       "      <th>Violation</th>\n",
       "    </tr>\n",
       "  </thead>\n",
       "  <tbody>\n",
       "    <tr>\n",
       "      <th>1</th>\n",
       "      <td>1.0</td>\n",
       "      <td>1.0</td>\n",
       "    </tr>\n",
       "    <tr>\n",
       "      <th>2</th>\n",
       "      <td>2.0</td>\n",
       "      <td>1.0</td>\n",
       "    </tr>\n",
       "  </tbody>\n",
       "</table>\n",
       "</div>"
      ],
      "text/plain": [
       "   No violation  Violation\n",
       "1           1.0        1.0\n",
       "2           2.0        1.0"
      ]
     },
     "execution_count": 663,
     "metadata": {},
     "output_type": "execute_result"
    }
   ],
   "source": [
    "\n",
    "heights_df = pd.DataFrame(heights)\n",
    "heights_df.index = ['No violation', 'Violation']\n",
    "heights_df = heights_df.T\n",
    "heights_df\n",
    "\n"
   ]
  },
  {
   "cell_type": "code",
   "execution_count": 669,
   "metadata": {},
   "outputs": [
    {
     "data": {
      "image/png": "[encoded data removed]",
      "text/plain": [
       "<Figure size 288x144 with 1 Axes>"
      ]
     },
     "metadata": {
      "needs_background": "light"
     },
     "output_type": "display_data"
    }
   ],
   "source": [
    "colors ={}\n",
    "colors[1] = ['blue', 'orange']\n",
    "colors[2] = ['blue', 'red']\n",
    "colors\n",
    "\n",
    "\n",
    "fig = plt.figure(figsize=(4, 2))\n",
    "ax = fig.add_subplot(121)\n",
    "\n",
    "x = heights_df.columns.tolist()\n",
    "bottom = 0\n",
    "for i in range(1, 3):\n",
    "    # data---\n",
    "    data = heights_df.loc[i].values\n",
    "    ax.bar(x, bottom = bottom, height = data, color = colors[i]) #, label = ['blue', 'orange'])\n",
    "    bottom = data \n",
    "\n",
    "ax.plot([0.5, 1.5], [r_signal_th, r_signal_th], \"k--\", label= '$\\mathcal{R}^{Signal}$')\n",
    "\n",
    "plt.grid(True)\n",
    "plt.legend()\n",
    "plt.ylabel('# of time violations')\n",
    "plt.tight_layout()\n",
    "plt.savefig(f'plots/signal_vio.jpg', dpi = 500)\n",
    "plt.show()"
   ]
  },
  {
   "cell_type": "code",
   "execution_count": null,
   "metadata": {},
   "outputs": [],
   "source": []
  }
 ],
 "metadata": {
  "kernelspec": {
   "display_name": "Python 3.7.10 ('tensorgpu')",
   "language": "python",
   "name": "python3"
  },
  "language_info": {
   "codemirror_mode": {
    "name": "ipython",
    "version": 3
   },
   "file_extension": ".py",
   "mimetype": "text/x-python",
   "name": "python",
   "nbconvert_exporter": "python",
   "pygments_lexer": "ipython3",
   "version": "3.7.10"
  },
  "orig_nbformat": 4,
  "vscode": {
   "interpreter": {
    "hash": "84d637a6a3a7b981a4fbf48991c21aa6fcebe6ca604a1565b865c678147956c7"
   }
  }
 },
 "nbformat": 4,
 "nbformat_minor": 2
}
