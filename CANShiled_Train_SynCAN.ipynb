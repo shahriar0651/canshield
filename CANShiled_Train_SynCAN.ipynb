{
 "cells": [
  {
   "cell_type": "code",
   "execution_count": 2,
   "metadata": {},
   "outputs": [
    {
     "name": "stdout",
     "output_type": "stream",
     "text": [
      "Running on Server/PC\n"
     ]
    }
   ],
   "source": [
    "# Importing PlaidML. Make sure you follow this \n",
    "try:\n",
    "    import os\n",
    "    import plaidml.keras\n",
    "    plaidml.keras.install_backend()\n",
    "    os.environ[\"KERAS_BACKEND\"] = \"plaidml.keras.backend\"\n",
    "    from keras import backend as K\n",
    "    # example of training a gan on mnist\n",
    "    import keras\n",
    "    from keras.optimizers import Adam\n",
    "    from keras import Sequential\n",
    "    from keras import layers\n",
    "    from keras.layers import Dense\n",
    "    from keras.layers import Reshape\n",
    "    from keras.layers import Flatten\n",
    "    from keras.layers import Conv2D\n",
    "    from keras.layers import Conv2DTranspose, MaxPooling2D, UpSampling2D, ZeroPadding2D, Cropping2D\n",
    "    from keras.layers import LeakyReLU\n",
    "    from keras.layers import Dropout\n",
    "    from keras.models import load_model\n",
    "    from keras.callbacks import EarlyStopping\n",
    "    from keras.callbacks import ModelCheckpoint\n",
    "    #------------------------------\n",
    "    print(\"Running on MAC OS\")\n",
    "except:\n",
    "    from tensorflow.keras.optimizers import Adam\n",
    "    from tensorflow import keras\n",
    "    from tensorflow.keras import Sequential\n",
    "    from tensorflow.keras import layers\n",
    "    from tensorflow.keras.layers import Dense\n",
    "    from tensorflow.keras.layers import Reshape\n",
    "    from tensorflow.keras.layers import Flatten\n",
    "    from tensorflow.keras.layers import Conv2D\n",
    "    from tensorflow.keras.layers import Conv2DTranspose, MaxPooling2D, UpSampling2D, ZeroPadding2D, Cropping2D\n",
    "    from tensorflow.keras.layers import LeakyReLU\n",
    "    from tensorflow.keras.layers import Dropout\n",
    "    from tensorflow.keras.models import load_model\n",
    "    from tensorflow.keras.callbacks import EarlyStopping\n",
    "    from tensorflow.keras.callbacks import ModelCheckpoint\n",
    "    from tensorflow.keras.optimizers import Adam\n",
    "    print(\"Running on Server/PC\")\n",
    "    #------------------------------------------"
   ]
  },
  {
   "cell_type": "code",
   "execution_count": 3,
   "metadata": {},
   "outputs": [
    {
     "name": "stdout",
     "output_type": "stream",
     "text": [
      "Ambient files are:\n",
      " ['train_2', 'train_1', 'train_3', 'train_4'], etc.\n",
      "Attack files are:\n",
      " ['test_suppress', 'test_flooding', 'test_playback', 'test_continuous', 'test_plateau'], etc.\n"
     ]
    },
    {
     "data": {
      "text/plain": [
       "['train_2', 'train_1', 'train_3', 'train_4']"
      ]
     },
     "execution_count": 3,
     "metadata": {},
     "output_type": "execute_result"
    }
   ],
   "source": [
    "\n",
    "import os\n",
    "from os.path import exists as file_exists    \n",
    "\n",
    "# Libraries\n",
    "import glob\n",
    "import csv\n",
    "import json\n",
    "import math\n",
    "import joblib\n",
    "#------------------------------\n",
    "import numpy as np\n",
    "import pandas as pd\n",
    "from matplotlib import pyplot as plt\n",
    "import seaborn as sns\n",
    "# import visualkeras\n",
    "\n",
    "# Metric\n",
    "from sklearn.datasets import load_breast_cancer\n",
    "from sklearn.linear_model import LogisticRegression\n",
    "from sklearn.metrics import roc_auc_score, roc_curve\n",
    "from sklearn.preprocessing import StandardScaler\n",
    "from sklearn.preprocessing import MinMaxScaler \n",
    "#------------------------------\n",
    "\n",
    "import scipy\n",
    "import scipy.cluster.hierarchy as sch\n",
    "\n",
    "\n",
    "# %%\n",
    "# Creating two lists of ambient and attack datasets\n",
    "cur_dir= os.getcwd()\n",
    "dataset = 'syncan'\n",
    "# dataset = 'road'\n",
    "\n",
    "\n",
    "ambient_dirs = glob.glob(cur_dir+f\"//..//data//{dataset}//generated//ambients//*.csv\")\n",
    "attack_dirs = glob.glob(cur_dir+f\"//..//data//{dataset}//generated//attacks//*.csv\")\n",
    "\n",
    "# Creating two lists of file names \n",
    "ambient_files = [x.split(\"/\")[-1].split(\".\")[0][0:-10] for x in ambient_dirs]\n",
    "attack_files = [x.split(\"/\")[-1].split(\".\")[0][0:-10] for x in attack_dirs]\n",
    "\n",
    "print(f\"Ambient files are:\\n {ambient_files[0:]}, etc.\")\n",
    "print(f\"Attack files are:\\n {attack_files[0:]}, etc.\")\n",
    "\n",
    "# %%\n",
    "ambient_files\n",
    "\n",
    "# %%\n",
    "# Defining parameters..........."
   ]
  },
  {
   "cell_type": "code",
   "execution_count": 23,
   "metadata": {},
   "outputs": [],
   "source": [
    "try:\n",
    "    import plaidml.keras\n",
    "    plaidml.keras.install_backend()\n",
    "    import os\n",
    "    os.environ[\"KERAS_BACKEND\"] = \"plaidml.keras.backend\"\n",
    "except:\n",
    "    import os\n",
    "    os.environ[\"CUDA_VISIBLE_DEVICES\"] = \"-1\""
   ]
  },
  {
   "cell_type": "code",
   "execution_count": 5,
   "metadata": {},
   "outputs": [],
   "source": [
    "noOfSignals = 20\n",
    "num_signals = noOfSignals\n",
    "time_step = 50"
   ]
  },
  {
   "cell_type": "markdown",
   "metadata": {
    "id": "nSIT7rGsc_DP"
   },
   "source": [
    "## Setup"
   ]
  },
  {
   "cell_type": "code",
   "execution_count": 6,
   "metadata": {},
   "outputs": [],
   "source": [
    "# %%\n",
    "# Defining functions..............................\n",
    "#-----------------------------------------------\n",
    "def sigmoid(x):\n",
    "    return 1/(1+np.exp(-x))\n",
    "#-----------------------------------------------\n",
    "def create_x_sequences(X_values, time_step, window_step, sampling_period):\n",
    "    X_output = []\n",
    "    \n",
    "    for i in range(0, (len(X_values) - sampling_period*time_step), window_step):\n",
    "        X_output.append(X_values[i : (i + sampling_period*time_step) : sampling_period])\n",
    "    return np.stack(X_output).reshape(-1, time_step, noOfSignals, 1)\n",
    "\n",
    "\n",
    "#-----------------------------------------------\n",
    "def create_y_sequences(y_values, time_step, window_step, sampling_period):\n",
    "    y_output = []\n",
    "    \n",
    "    for i in range(0, (len(y_values) - sampling_period*time_step), window_step):\n",
    "        if y_values[i : (i + sampling_period*time_step)].sum() > 0:\n",
    "            y_output.append(1)\n",
    "        else:\n",
    "            y_output.append(0)\n",
    "    return np.stack(y_output)\n",
    "\n",
    "#--------------- Create Folders -------------\n",
    "def ensure_dir(file_path):\n",
    "    directory = os.path.dirname(file_path)\n",
    "    if not os.path.exists(directory):\n",
    "        os.makedirs(directory)\n",
    "        print(f\"Detectory created!\\n{directory}\")\n",
    "#--------------------------------------\n",
    "\n",
    "#--------------- Create Folders -------------\n",
    "def get_minmax_scaler(columns):\n",
    "    df_min_max = pd.read_csv(f\"Scalling_Data/min_max_values_{dataset}.csv\", index_col=0)[columns]\n",
    "    scaler = MinMaxScaler()\n",
    "    scaler.fit(df_min_max.values)\n",
    "    print(\"scaler loaded...!\")\n",
    "    return scaler\n",
    "#--------------------------------------\n",
    "\n",
    "\n",
    "def get_encoder_decoder(time_step):\n",
    "    \n",
    "#     n_filters_list = [16, 8, 8]\n",
    "#     n_filters_list = [16, 16, 8] #version = 'v2'\n",
    "#     n_filters_list = [32, 16, 8] #version = 'v3'\n",
    "#     n_filters_list = [32, 16, 16] #version = 'v4'\n",
    "    n_filters_list = [32, 32, 16] #version = 'v5'\n",
    "\n",
    "\n",
    "    crop_factors = {}\n",
    "    crop_factors [8] = ((0, 0), (2, 2))\n",
    "    crop_factors [28] = ((2, 2), (2, 2))\n",
    "    crop_factors [16] = ((0, 0), (2, 2))\n",
    "    crop_factors [32] = ((0, 0), (2, 2))\n",
    "    crop_factors [64] = ((0, 0), (2, 2))\n",
    "    crop_factors [128] = ((0, 0), (2, 2))\n",
    "\n",
    "\n",
    "    input_img = keras.Input(shape=(time_step, num_signals, 1))    \n",
    "    x = input_img\n",
    "    for n_filters in n_filters_list:    \n",
    "        x = Conv2D(n_filters, (3, 3), activation='relu', padding='same')(x)\n",
    "        x = MaxPooling2D((2, 2), padding='same')(x)\n",
    "    encoder = keras.Model(input_img, x)\n",
    "\n",
    "\n",
    "    # encoded_img = keras.Input(shape= x.shape[1][1:])  \n",
    "    encoded_img = keras.Input(shape= x.shape[1:])  \n",
    "    x = encoded_img\n",
    "    # x = keras.layers.Reshape((2, 2, 4))(x)\n",
    "    for n_filters in n_filters_list[::-1]:    \n",
    "        x = Conv2D(n_filters, (3, 3), activation='relu', padding='same')(x)\n",
    "        x = UpSampling2D((2, 2))(x)\n",
    "\n",
    "    x = Conv2D(1, (3, 3), activation='sigmoid', padding='same')(x)\n",
    "    decoded = layers.Cropping2D(cropping= crop_factors [time_step])(x)\n",
    "    decoder = keras.Model(encoded_img, decoded)\n",
    "    return encoder, decoder\n",
    "\n",
    "def get_autoconder(encoder, decoder):\n",
    "\n",
    "    # define input to the model:\n",
    "    x = keras.Input(shape=(time_step, num_signals, 1))\n",
    "    # make the model:\n",
    "    autoencoder = keras.Model(x, decoder(encoder(x)))\n",
    "\n",
    "    # compile the model:\n",
    "    autoencoder.compile(optimizer='adam', loss='binary_crossentropy', metrics=['accuracy'])\n",
    "    autoencoder.summary()\n",
    "    # compile autoencoder\n",
    "#     opt = Adam(lr = 0.0002, beta_1=0.5, beta_2=0.99)\n",
    "#     autoencoder.compile(loss='mse', optimizer=opt, metrics=['accuracy'])\n",
    "#     autoencoder.summary()\n",
    "    return autoencoder\n"
   ]
  },
  {
   "cell_type": "code",
   "execution_count": 7,
   "metadata": {},
   "outputs": [
    {
     "data": {
      "text/plain": [
       "TensorShape([None, 50, 20, 1])"
      ]
     },
     "execution_count": 7,
     "metadata": {},
     "output_type": "execute_result"
    }
   ],
   "source": [
    "input_img = keras.Input(shape=(time_step, num_signals, 1))    \n",
    "x = input_img\n",
    "x.shape"
   ]
  },
  {
   "cell_type": "code",
   "execution_count": 8,
   "metadata": {},
   "outputs": [],
   "source": [
    "version = 'v6'"
   ]
  },
  {
   "cell_type": "code",
   "execution_count": 9,
   "metadata": {},
   "outputs": [],
   "source": [
    "from keras.datasets import mnist\n",
    "import numpy as np\n",
    "\n",
    "(x_train, _), (x_test, _) = mnist.load_data()\n",
    "\n",
    "x_train = x_train.astype('float32') / 255.\n",
    "x_test = x_test.astype('float32') / 255.\n",
    "x_train = np.reshape(x_train, (len(x_train), 28, 28, 1))\n",
    "x_test = np.reshape(x_test, (len(x_test), 28, 28, 1))"
   ]
  },
  {
   "cell_type": "code",
   "execution_count": 10,
   "metadata": {},
   "outputs": [],
   "source": [
    "# patient early stopping\n",
    "es = EarlyStopping(monitor='val_loss', mode='min', verbose=1, patience=0)"
   ]
  },
  {
   "cell_type": "code",
   "execution_count": 11,
   "metadata": {},
   "outputs": [
    {
     "ename": "NameError",
     "evalue": "name 'autoencoder' is not defined",
     "output_type": "error",
     "traceback": [
      "\u001b[0;31m---------------------------------------------------------------------------\u001b[0m",
      "\u001b[0;31mNameError\u001b[0m                                 Traceback (most recent call last)",
      "\u001b[1;32m/home/hasan/workspace/canshield-can-ids/CANShiled_Train_SynCAN.ipynb Cell 11\u001b[0m in \u001b[0;36m<cell line: 1>\u001b[0;34m()\u001b[0m\n\u001b[0;32m----> <a href='vscode-notebook-cell://ssh-remote%2B38.68.237.209/home/hasan/workspace/canshield-can-ids/CANShiled_Train_SynCAN.ipynb#X23sdnNjb2RlLXJlbW90ZQ%3D%3D?line=0'>1</a>\u001b[0m history \u001b[39m=\u001b[39m autoencoder\u001b[39m.\u001b[39mfit(x_train, x_train,\n\u001b[1;32m      <a href='vscode-notebook-cell://ssh-remote%2B38.68.237.209/home/hasan/workspace/canshield-can-ids/CANShiled_Train_SynCAN.ipynb#X23sdnNjb2RlLXJlbW90ZQ%3D%3D?line=1'>2</a>\u001b[0m                 epochs\u001b[39m=\u001b[39m\u001b[39m1\u001b[39m,\n\u001b[1;32m      <a href='vscode-notebook-cell://ssh-remote%2B38.68.237.209/home/hasan/workspace/canshield-can-ids/CANShiled_Train_SynCAN.ipynb#X23sdnNjb2RlLXJlbW90ZQ%3D%3D?line=2'>3</a>\u001b[0m                 batch_size\u001b[39m=\u001b[39m\u001b[39m1024\u001b[39m,\n\u001b[1;32m      <a href='vscode-notebook-cell://ssh-remote%2B38.68.237.209/home/hasan/workspace/canshield-can-ids/CANShiled_Train_SynCAN.ipynb#X23sdnNjb2RlLXJlbW90ZQ%3D%3D?line=3'>4</a>\u001b[0m                 shuffle\u001b[39m=\u001b[39m\u001b[39mTrue\u001b[39;00m,\n\u001b[1;32m      <a href='vscode-notebook-cell://ssh-remote%2B38.68.237.209/home/hasan/workspace/canshield-can-ids/CANShiled_Train_SynCAN.ipynb#X23sdnNjb2RlLXJlbW90ZQ%3D%3D?line=4'>5</a>\u001b[0m                 validation_data\u001b[39m=\u001b[39m(x_test, x_test), callbacks\u001b[39m=\u001b[39m[es])\n",
      "\u001b[0;31mNameError\u001b[0m: name 'autoencoder' is not defined"
     ]
    }
   ],
   "source": [
    "history = autoencoder.fit(x_train, x_train,\n",
    "                epochs=1,\n",
    "                batch_size=1024,\n",
    "                shuffle=True,\n",
    "                validation_data=(x_test, x_test), callbacks=[es])\n",
    "\n",
    "# fit model\n",
    "# history = model.fit(trainX, trainy, validation_data=(testX, testy), epochs=4000, verbose=0, callbacks=[es])\n",
    "# evaluate the model"
   ]
  },
  {
   "cell_type": "code",
   "execution_count": 12,
   "metadata": {},
   "outputs": [
    {
     "ename": "NameError",
     "evalue": "name 'history' is not defined",
     "output_type": "error",
     "traceback": [
      "\u001b[0;31m---------------------------------------------------------------------------\u001b[0m",
      "\u001b[0;31mNameError\u001b[0m                                 Traceback (most recent call last)",
      "\u001b[1;32m/home/hasan/workspace/canshield-can-ids/CANShiled_Train_SynCAN.ipynb Cell 12\u001b[0m in \u001b[0;36m<cell line: 2>\u001b[0;34m()\u001b[0m\n\u001b[1;32m      <a href='vscode-notebook-cell://ssh-remote%2B38.68.237.209/home/hasan/workspace/canshield-can-ids/CANShiled_Train_SynCAN.ipynb#X24sdnNjb2RlLXJlbW90ZQ%3D%3D?line=0'>1</a>\u001b[0m \u001b[39m# plot training history\u001b[39;00m\n\u001b[0;32m----> <a href='vscode-notebook-cell://ssh-remote%2B38.68.237.209/home/hasan/workspace/canshield-can-ids/CANShiled_Train_SynCAN.ipynb#X24sdnNjb2RlLXJlbW90ZQ%3D%3D?line=1'>2</a>\u001b[0m plt\u001b[39m.\u001b[39mplot(history\u001b[39m.\u001b[39mhistory[\u001b[39m'\u001b[39m\u001b[39mloss\u001b[39m\u001b[39m'\u001b[39m], label\u001b[39m=\u001b[39m\u001b[39m'\u001b[39m\u001b[39mtrain\u001b[39m\u001b[39m'\u001b[39m)\n\u001b[1;32m      <a href='vscode-notebook-cell://ssh-remote%2B38.68.237.209/home/hasan/workspace/canshield-can-ids/CANShiled_Train_SynCAN.ipynb#X24sdnNjb2RlLXJlbW90ZQ%3D%3D?line=2'>3</a>\u001b[0m plt\u001b[39m.\u001b[39mplot(history\u001b[39m.\u001b[39mhistory[\u001b[39m'\u001b[39m\u001b[39mval_loss\u001b[39m\u001b[39m'\u001b[39m], label\u001b[39m=\u001b[39m\u001b[39m'\u001b[39m\u001b[39mtest\u001b[39m\u001b[39m'\u001b[39m)\n\u001b[1;32m      <a href='vscode-notebook-cell://ssh-remote%2B38.68.237.209/home/hasan/workspace/canshield-can-ids/CANShiled_Train_SynCAN.ipynb#X24sdnNjb2RlLXJlbW90ZQ%3D%3D?line=3'>4</a>\u001b[0m plt\u001b[39m.\u001b[39mlegend()\n",
      "\u001b[0;31mNameError\u001b[0m: name 'history' is not defined"
     ]
    }
   ],
   "source": [
    "# plot training history\n",
    "plt.plot(history.history['loss'], label='train')\n",
    "plt.plot(history.history['val_loss'], label='test')\n",
    "plt.legend()\n",
    "plt.show()"
   ]
  },
  {
   "cell_type": "code",
   "execution_count": 13,
   "metadata": {},
   "outputs": [
    {
     "ename": "NameError",
     "evalue": "name 'history' is not defined",
     "output_type": "error",
     "traceback": [
      "\u001b[0;31m---------------------------------------------------------------------------\u001b[0m",
      "\u001b[0;31mNameError\u001b[0m                                 Traceback (most recent call last)",
      "\u001b[1;32m/home/hasan/workspace/canshield-can-ids/CANShiled_Train_SynCAN.ipynb Cell 13\u001b[0m in \u001b[0;36m<cell line: 1>\u001b[0;34m()\u001b[0m\n\u001b[0;32m----> <a href='vscode-notebook-cell://ssh-remote%2B38.68.237.209/home/hasan/workspace/canshield-can-ids/CANShiled_Train_SynCAN.ipynb#X25sdnNjb2RlLXJlbW90ZQ%3D%3D?line=0'>1</a>\u001b[0m history\u001b[39m.\u001b[39mhistory\n",
      "\u001b[0;31mNameError\u001b[0m: name 'history' is not defined"
     ]
    }
   ],
   "source": [
    "history.history"
   ]
  },
  {
   "cell_type": "code",
   "execution_count": 14,
   "metadata": {},
   "outputs": [
    {
     "ename": "NameError",
     "evalue": "name 'encoder' is not defined",
     "output_type": "error",
     "traceback": [
      "\u001b[0;31m---------------------------------------------------------------------------\u001b[0m",
      "\u001b[0;31mNameError\u001b[0m                                 Traceback (most recent call last)",
      "\u001b[1;32m/home/hasan/workspace/canshield-can-ids/CANShiled_Train_SynCAN.ipynb Cell 14\u001b[0m in \u001b[0;36m<cell line: 3>\u001b[0;34m()\u001b[0m\n\u001b[1;32m      <a href='vscode-notebook-cell://ssh-remote%2B38.68.237.209/home/hasan/workspace/canshield-can-ids/CANShiled_Train_SynCAN.ipynb#X26sdnNjb2RlLXJlbW90ZQ%3D%3D?line=0'>1</a>\u001b[0m \u001b[39m# Encode and decode some digits\u001b[39;00m\n\u001b[1;32m      <a href='vscode-notebook-cell://ssh-remote%2B38.68.237.209/home/hasan/workspace/canshield-can-ids/CANShiled_Train_SynCAN.ipynb#X26sdnNjb2RlLXJlbW90ZQ%3D%3D?line=1'>2</a>\u001b[0m \u001b[39m# Note that we take them from the *test* set\u001b[39;00m\n\u001b[0;32m----> <a href='vscode-notebook-cell://ssh-remote%2B38.68.237.209/home/hasan/workspace/canshield-can-ids/CANShiled_Train_SynCAN.ipynb#X26sdnNjb2RlLXJlbW90ZQ%3D%3D?line=2'>3</a>\u001b[0m encoded_imgs \u001b[39m=\u001b[39m encoder\u001b[39m.\u001b[39mpredict(x_test)\n\u001b[1;32m      <a href='vscode-notebook-cell://ssh-remote%2B38.68.237.209/home/hasan/workspace/canshield-can-ids/CANShiled_Train_SynCAN.ipynb#X26sdnNjb2RlLXJlbW90ZQ%3D%3D?line=3'>4</a>\u001b[0m decoded_imgs \u001b[39m=\u001b[39m decoder\u001b[39m.\u001b[39mpredict(encoded_imgs)\n\u001b[1;32m      <a href='vscode-notebook-cell://ssh-remote%2B38.68.237.209/home/hasan/workspace/canshield-can-ids/CANShiled_Train_SynCAN.ipynb#X26sdnNjb2RlLXJlbW90ZQ%3D%3D?line=5'>6</a>\u001b[0m \u001b[39m# Use Matplotlib (don't ask)\u001b[39;00m\n",
      "\u001b[0;31mNameError\u001b[0m: name 'encoder' is not defined"
     ]
    }
   ],
   "source": [
    "# Encode and decode some digits\n",
    "# Note that we take them from the *test* set\n",
    "encoded_imgs = encoder.predict(x_test)\n",
    "decoded_imgs = decoder.predict(encoded_imgs)\n",
    "\n",
    "# Use Matplotlib (don't ask)\n",
    "import matplotlib.pyplot as plt\n",
    "\n",
    "n = 10  # How many digits we will display\n",
    "plt.figure(figsize=(20, 4))\n",
    "for i in range(n):\n",
    "    # Display original\n",
    "    ax = plt.subplot(2, n, i + 1)\n",
    "    plt.imshow(x_test[i].reshape(28, 28))\n",
    "    plt.gray()\n",
    "    ax.get_xaxis().set_visible(False)\n",
    "    ax.get_yaxis().set_visible(False)\n",
    "\n",
    "    # Display reconstruction\n",
    "    ax = plt.subplot(2, n, i + 1 + n)\n",
    "    plt.imshow(decoded_imgs[i].reshape(28, 28))\n",
    "    plt.gray()\n",
    "    ax.get_xaxis().set_visible(False)\n",
    "    ax.get_yaxis().set_visible(False)\n",
    "plt.show()"
   ]
  },
  {
   "cell_type": "code",
   "execution_count": 15,
   "metadata": {},
   "outputs": [
    {
     "ename": "NameError",
     "evalue": "name 'encoded_imgs' is not defined",
     "output_type": "error",
     "traceback": [
      "\u001b[0;31m---------------------------------------------------------------------------\u001b[0m",
      "\u001b[0;31mNameError\u001b[0m                                 Traceback (most recent call last)",
      "\u001b[1;32m/home/hasan/workspace/canshield-can-ids/CANShiled_Train_SynCAN.ipynb Cell 15\u001b[0m in \u001b[0;36m<cell line: 1>\u001b[0;34m()\u001b[0m\n\u001b[0;32m----> <a href='vscode-notebook-cell://ssh-remote%2B38.68.237.209/home/hasan/workspace/canshield-can-ids/CANShiled_Train_SynCAN.ipynb#X30sdnNjb2RlLXJlbW90ZQ%3D%3D?line=0'>1</a>\u001b[0m plt\u001b[39m.\u001b[39mimshow(encoded_imgs[\u001b[39m0\u001b[39m]\u001b[39m.\u001b[39mreshape(\u001b[39m4\u001b[39m,\u001b[39m-\u001b[39m\u001b[39m1\u001b[39m))\n",
      "\u001b[0;31mNameError\u001b[0m: name 'encoded_imgs' is not defined"
     ]
    }
   ],
   "source": [
    "plt.imshow(encoded_imgs[0].reshape(4,-1))"
   ]
  },
  {
   "cell_type": "code",
   "execution_count": 16,
   "metadata": {},
   "outputs": [],
   "source": [
    "#**************** Loading SynCAN Data **********************"
   ]
  },
  {
   "cell_type": "code",
   "execution_count": 17,
   "metadata": {},
   "outputs": [],
   "source": [
    "# time_step = 64\n",
    "# encoder, decoder = get_encoder_decoder(time_step)\n",
    "# autoencoder = get_autoconder(encoder, decoder)\n",
    "# encoder.summary()\n",
    "# decoder.summary()"
   ]
  },
  {
   "cell_type": "code",
   "execution_count": null,
   "metadata": {},
   "outputs": [],
   "source": []
  },
  {
   "cell_type": "code",
   "execution_count": null,
   "metadata": {},
   "outputs": [],
   "source": []
  },
  {
   "cell_type": "code",
   "execution_count": 18,
   "metadata": {
    "scrolled": true
   },
   "outputs": [
    {
     "name": "stdout",
     "output_type": "stream",
     "text": [
      "noOfSignals:  20\n"
     ]
    },
    {
     "data": {
      "text/plain": [
       "['Sig_1_of_ID_2',\n",
       " 'Sig_1_of_ID_7',\n",
       " 'Sig_2_of_ID_3',\n",
       " 'Sig_1_of_ID_10',\n",
       " 'Sig_1_of_ID_9',\n",
       " 'Sig_1_of_ID_1',\n",
       " 'Sig_4_of_ID_10',\n",
       " 'Sig_2_of_ID_2',\n",
       " 'Sig_3_of_ID_10',\n",
       " 'Sig_1_of_ID_6',\n",
       " 'Sig_2_of_ID_5',\n",
       " 'Sig_1_of_ID_4',\n",
       " 'Sig_1_of_ID_5',\n",
       " 'Sig_3_of_ID_2',\n",
       " 'Sig_1_of_ID_8',\n",
       " 'Sig_2_of_ID_6',\n",
       " 'Sig_2_of_ID_10',\n",
       " 'Sig_2_of_ID_7',\n",
       " 'Sig_2_of_ID_1',\n",
       " 'Sig_1_of_ID_3']"
      ]
     },
     "execution_count": 18,
     "metadata": {},
     "output_type": "execute_result"
    }
   ],
   "source": [
    "if dataset == 'syncan':\n",
    "    # signals_in_cluster = ['Sig_2_of_ID_7',\n",
    "    # 'Sig_2_of_ID_1',\n",
    "    # 'Sig_1_of_ID_3',\n",
    "    # 'Sig_2_of_ID_10',\n",
    "    # 'Sig_2_of_ID_6',\n",
    "    # 'Sig_1_of_ID_8',\n",
    "    # 'Sig_3_of_ID_2',\n",
    "    # 'Sig_1_of_ID_5',\n",
    "    # 'Sig_1_of_ID_4',\n",
    "    # 'Sig_1_of_ID_6',\n",
    "    # 'Sig_2_of_ID_5',\n",
    "    # 'Sig_3_of_ID_10',\n",
    "    # 'Sig_2_of_ID_3',\n",
    "    # 'Sig_1_of_ID_2',\n",
    "    # 'Sig_1_of_ID_7',\n",
    "    # 'Sig_2_of_ID_2',\n",
    "    # 'Sig_1_of_ID_1',\n",
    "    # 'Sig_4_of_ID_10',\n",
    "    # 'Sig_1_of_ID_10',\n",
    "    # 'Sig_1_of_ID_9']\n",
    "    signals_in_cluster = ['Sig_1_of_ID_2',\n",
    "        'Sig_1_of_ID_7',\n",
    "        'Sig_2_of_ID_3',\n",
    "        'Sig_1_of_ID_10',\n",
    "        'Sig_1_of_ID_9',\n",
    "        'Sig_1_of_ID_1',\n",
    "        'Sig_4_of_ID_10',\n",
    "        'Sig_2_of_ID_2',\n",
    "        'Sig_3_of_ID_10',\n",
    "        'Sig_1_of_ID_6',\n",
    "        'Sig_2_of_ID_5',\n",
    "        'Sig_1_of_ID_4',\n",
    "        'Sig_1_of_ID_5',\n",
    "        'Sig_3_of_ID_2',\n",
    "        'Sig_1_of_ID_8',\n",
    "        'Sig_2_of_ID_6',\n",
    "        'Sig_2_of_ID_10',\n",
    "        'Sig_2_of_ID_7',\n",
    "        'Sig_2_of_ID_1',\n",
    "        'Sig_1_of_ID_3']\n",
    "\n",
    "    \n",
    "\n",
    "# Selected signals...........\n",
    "noOfSignals = len(signals_in_cluster)\n",
    "print(\"noOfSignals: \", noOfSignals)\n",
    "\n",
    "signals_in_cluster"
   ]
  },
  {
   "cell_type": "code",
   "execution_count": 24,
   "metadata": {},
   "outputs": [],
   "source": [
    "# %%\n",
    "#-----------------------\n",
    "time_steps = [16]\n",
    "window_step = 17\n",
    "sampling_periods = [1, 5, 10, 20, 50]\n",
    "training_samples = 1\n",
    "\n",
    "#-----------------------\n",
    "# transfer = False\n",
    "\n",
    "# %%\n",
    "#------------------------------\n",
    "training_files = ambient_files[:]\n",
    "training_dirs = ambient_dirs[:]\n",
    "\n",
    "# %%\n",
    "#-----------------------\n",
    "ensure_dir(\"AE_Models//\")\n",
    "ensure_dir(\"Scalling_Data//\")\n",
    "ensure_dir(f\"plots//{dataset}//\")\n"
   ]
  },
  {
   "cell_type": "code",
   "execution_count": 25,
   "metadata": {},
   "outputs": [],
   "source": [
    "unique_IDs = [int(sig.split(\"_\")[-1]) for sig in signals_in_cluster]\n",
    "num_signals = 20"
   ]
  },
  {
   "cell_type": "code",
   "execution_count": 26,
   "metadata": {},
   "outputs": [],
   "source": [
    "def vis_ae(save = True):\n",
    "    # Visualizing the training performance...........\n",
    "    print(\"------------- Showing reconstruction example -----------\")\n",
    "    input_image = x_train_seq[0:1].copy()\n",
    "    output_image = autoencoder.predict(input_image)\n",
    "    recon_loss = np.abs(output_image - input_image)\n",
    "\n",
    "    #------- Ploting the data -------------------\n",
    "    fig, axes = plt.subplots(1, 3, figsize = (12, 4))\n",
    "\n",
    "    sns.heatmap(input_image[0,:,:,0], ax = axes [0], vmin = 0, vmax = 1)\n",
    "    axes[0].set_title(\"input_image\")\n",
    "    sns.heatmap(output_image[0,:,:,0], ax = axes[1], vmin = 0, vmax = 1)\n",
    "    axes[1].set_title(\"output_image\")\n",
    "    sns.heatmap(recon_loss[0,:,:,0], ax = axes[2], vmin = 0, vmax = 1)\n",
    "    axes[2].set_title(\"recon_loss\")\n",
    "    plt.tight_layout()\n",
    "    if save:\n",
    "        plt.savefig(f\"plots//{dataset}//Training_Loss_{key_key}.jpg\", dpi = 350)\n",
    "    plt.show()\n",
    "    #-----------------------------------------------------"
   ]
  },
  {
   "cell_type": "code",
   "execution_count": 27,
   "metadata": {
    "scrolled": true
   },
   "outputs": [
    {
     "name": "stdout",
     "output_type": "stream",
     "text": [
      "time_step:  16  sampling_period: 1\n",
      "Initialzing transfer learning......\n",
      "We got something....\n",
      "No model was found!!!!\n",
      "Model: \"model_3\"\n",
      "_________________________________________________________________\n",
      " Layer (type)                Output Shape              Param #   \n",
      "=================================================================\n",
      " input_6 (InputLayer)        [(None, 16, 20, 1)]       0         \n",
      "                                                                 \n",
      " model_1 (Functional)        (None, 2, 3, 16)          14192     \n",
      "                                                                 \n",
      " model_2 (Functional)        (None, 16, 20, 1)         16497     \n",
      "                                                                 \n",
      "=================================================================\n",
      "Total params: 30,689\n",
      "Trainable params: 30,689\n",
      "Non-trainable params: 0\n",
      "_________________________________________________________________\n",
      "Training from the scratch.....\n",
      "Loading dataset:  16_1_0_train_2_True_v6\n",
      "train_2 onboarded!\n",
      "Before :  (7417431, 23)\n",
      "No treatment needed for SynCAN!\n",
      "scaler loaded...!\n",
      "Creating sequences....\n",
      "Training input shape:  (436319, 16, 20, 1)\n",
      "Max_epoch:  1000\n"
     ]
    },
    {
     "data": {
      "image/png": "[encoded data removed]",
      "text/plain": [
       "<Figure size 432x288 with 2 Axes>"
      ]
     },
     "metadata": {
      "needs_background": "light"
     },
     "output_type": "display_data"
    },
    {
     "name": "stdout",
     "output_type": "stream",
     "text": [
      "------------- Starting the training process----------------\n",
      "------------- Showing reconstruction example -----------\n",
      "1/1 [==============================] - 0s 130ms/step\n"
     ]
    },
    {
     "data": {
      "image/png": "[encoded data removed]",
      "text/plain": [
       "<Figure size 864x288 with 6 Axes>"
      ]
     },
     "metadata": {
      "needs_background": "light"
     },
     "output_type": "display_data"
    },
    {
     "name": "stdout",
     "output_type": "stream",
     "text": [
      "Epoch 1/1000\n",
      " 418/3068 [===>..........................] - ETA: 55s - loss: 0.4733 - accuracy: 0.1664"
     ]
    },
    {
     "ename": "KeyboardInterrupt",
     "evalue": "",
     "output_type": "error",
     "traceback": [
      "\u001b[0;31m---------------------------------------------------------------------------\u001b[0m",
      "\u001b[0;31mKeyboardInterrupt\u001b[0m                         Traceback (most recent call last)",
      "\u001b[1;32m/home/hasan/workspace/canshield-can-ids/CANShiled_Train_SynCAN.ipynb Cell 24\u001b[0m in \u001b[0;36m<cell line: 3>\u001b[0;34m()\u001b[0m\n\u001b[1;32m    <a href='vscode-notebook-cell://ssh-remote%2B38.68.237.209/home/hasan/workspace/canshield-can-ids/CANShiled_Train_SynCAN.ipynb#X50sdnNjb2RlLXJlbW90ZQ%3D%3D?line=113'>114</a>\u001b[0m vis_ae(save \u001b[39m=\u001b[39m \u001b[39mFalse\u001b[39;00m)\n\u001b[1;32m    <a href='vscode-notebook-cell://ssh-remote%2B38.68.237.209/home/hasan/workspace/canshield-can-ids/CANShiled_Train_SynCAN.ipynb#X50sdnNjb2RlLXJlbW90ZQ%3D%3D?line=114'>115</a>\u001b[0m \u001b[39m# Initializing the training.......................................\u001b[39;00m\n\u001b[0;32m--> <a href='vscode-notebook-cell://ssh-remote%2B38.68.237.209/home/hasan/workspace/canshield-can-ids/CANShiled_Train_SynCAN.ipynb#X50sdnNjb2RlLXJlbW90ZQ%3D%3D?line=115'>116</a>\u001b[0m history \u001b[39m=\u001b[39m autoencoder\u001b[39m.\u001b[39;49mfit(\n\u001b[1;32m    <a href='vscode-notebook-cell://ssh-remote%2B38.68.237.209/home/hasan/workspace/canshield-can-ids/CANShiled_Train_SynCAN.ipynb#X50sdnNjb2RlLXJlbW90ZQ%3D%3D?line=116'>117</a>\u001b[0m     x_train_seq,\n\u001b[1;32m    <a href='vscode-notebook-cell://ssh-remote%2B38.68.237.209/home/hasan/workspace/canshield-can-ids/CANShiled_Train_SynCAN.ipynb#X50sdnNjb2RlLXJlbW90ZQ%3D%3D?line=117'>118</a>\u001b[0m     x_train_seq,\n\u001b[1;32m    <a href='vscode-notebook-cell://ssh-remote%2B38.68.237.209/home/hasan/workspace/canshield-can-ids/CANShiled_Train_SynCAN.ipynb#X50sdnNjb2RlLXJlbW90ZQ%3D%3D?line=118'>119</a>\u001b[0m     epochs\u001b[39m=\u001b[39;49mmax_epoch ,\n\u001b[1;32m    <a href='vscode-notebook-cell://ssh-remote%2B38.68.237.209/home/hasan/workspace/canshield-can-ids/CANShiled_Train_SynCAN.ipynb#X50sdnNjb2RlLXJlbW90ZQ%3D%3D?line=119'>120</a>\u001b[0m     batch_size\u001b[39m=\u001b[39;49m\u001b[39m128\u001b[39;49m,\n\u001b[1;32m    <a href='vscode-notebook-cell://ssh-remote%2B38.68.237.209/home/hasan/workspace/canshield-can-ids/CANShiled_Train_SynCAN.ipynb#X50sdnNjb2RlLXJlbW90ZQ%3D%3D?line=120'>121</a>\u001b[0m     validation_split\u001b[39m=\u001b[39;49m\u001b[39m0.1\u001b[39;49m,\n\u001b[1;32m    <a href='vscode-notebook-cell://ssh-remote%2B38.68.237.209/home/hasan/workspace/canshield-can-ids/CANShiled_Train_SynCAN.ipynb#X50sdnNjb2RlLXJlbW90ZQ%3D%3D?line=121'>122</a>\u001b[0m     callbacks\u001b[39m=\u001b[39;49mkeras_callbacks\n\u001b[1;32m    <a href='vscode-notebook-cell://ssh-remote%2B38.68.237.209/home/hasan/workspace/canshield-can-ids/CANShiled_Train_SynCAN.ipynb#X50sdnNjb2RlLXJlbW90ZQ%3D%3D?line=122'>123</a>\u001b[0m )\n\u001b[1;32m    <a href='vscode-notebook-cell://ssh-remote%2B38.68.237.209/home/hasan/workspace/canshield-can-ids/CANShiled_Train_SynCAN.ipynb#X50sdnNjb2RlLXJlbW90ZQ%3D%3D?line=124'>125</a>\u001b[0m \u001b[39m#Saving data.........................................................\u001b[39;00m\n\u001b[1;32m    <a href='vscode-notebook-cell://ssh-remote%2B38.68.237.209/home/hasan/workspace/canshield-can-ids/CANShiled_Train_SynCAN.ipynb#X50sdnNjb2RlLXJlbW90ZQ%3D%3D?line=125'>126</a>\u001b[0m \u001b[39mwith\u001b[39;00m \u001b[39mopen\u001b[39m(\u001b[39mf\u001b[39m\u001b[39m\"\u001b[39m\u001b[39mSaved_Data//history_\u001b[39m\u001b[39m{\u001b[39;00mkey_key\u001b[39m}\u001b[39;00m\u001b[39m.json\u001b[39m\u001b[39m\"\u001b[39m, \u001b[39m\"\u001b[39m\u001b[39mw\u001b[39m\u001b[39m\"\u001b[39m) \u001b[39mas\u001b[39;00m outfile:\n",
      "File \u001b[0;32m~/workspace/canshield-can-ids/pyenv10/lib/python3.10/site-packages/keras/utils/traceback_utils.py:64\u001b[0m, in \u001b[0;36mfilter_traceback.<locals>.error_handler\u001b[0;34m(*args, **kwargs)\u001b[0m\n\u001b[1;32m     62\u001b[0m filtered_tb \u001b[39m=\u001b[39m \u001b[39mNone\u001b[39;00m\n\u001b[1;32m     63\u001b[0m \u001b[39mtry\u001b[39;00m:\n\u001b[0;32m---> 64\u001b[0m   \u001b[39mreturn\u001b[39;00m fn(\u001b[39m*\u001b[39;49margs, \u001b[39m*\u001b[39;49m\u001b[39m*\u001b[39;49mkwargs)\n\u001b[1;32m     65\u001b[0m \u001b[39mexcept\u001b[39;00m \u001b[39mException\u001b[39;00m \u001b[39mas\u001b[39;00m e:  \u001b[39m# pylint: disable=broad-except\u001b[39;00m\n\u001b[1;32m     66\u001b[0m   filtered_tb \u001b[39m=\u001b[39m _process_traceback_frames(e\u001b[39m.\u001b[39m__traceback__)\n",
      "File \u001b[0;32m~/workspace/canshield-can-ids/pyenv10/lib/python3.10/site-packages/keras/engine/training.py:1409\u001b[0m, in \u001b[0;36mModel.fit\u001b[0;34m(self, x, y, batch_size, epochs, verbose, callbacks, validation_split, validation_data, shuffle, class_weight, sample_weight, initial_epoch, steps_per_epoch, validation_steps, validation_batch_size, validation_freq, max_queue_size, workers, use_multiprocessing)\u001b[0m\n\u001b[1;32m   1402\u001b[0m \u001b[39mwith\u001b[39;00m tf\u001b[39m.\u001b[39mprofiler\u001b[39m.\u001b[39mexperimental\u001b[39m.\u001b[39mTrace(\n\u001b[1;32m   1403\u001b[0m     \u001b[39m'\u001b[39m\u001b[39mtrain\u001b[39m\u001b[39m'\u001b[39m,\n\u001b[1;32m   1404\u001b[0m     epoch_num\u001b[39m=\u001b[39mepoch,\n\u001b[1;32m   1405\u001b[0m     step_num\u001b[39m=\u001b[39mstep,\n\u001b[1;32m   1406\u001b[0m     batch_size\u001b[39m=\u001b[39mbatch_size,\n\u001b[1;32m   1407\u001b[0m     _r\u001b[39m=\u001b[39m\u001b[39m1\u001b[39m):\n\u001b[1;32m   1408\u001b[0m   callbacks\u001b[39m.\u001b[39mon_train_batch_begin(step)\n\u001b[0;32m-> 1409\u001b[0m   tmp_logs \u001b[39m=\u001b[39m \u001b[39mself\u001b[39;49m\u001b[39m.\u001b[39;49mtrain_function(iterator)\n\u001b[1;32m   1410\u001b[0m   \u001b[39mif\u001b[39;00m data_handler\u001b[39m.\u001b[39mshould_sync:\n\u001b[1;32m   1411\u001b[0m     context\u001b[39m.\u001b[39masync_wait()\n",
      "File \u001b[0;32m~/workspace/canshield-can-ids/pyenv10/lib/python3.10/site-packages/tensorflow/python/util/traceback_utils.py:150\u001b[0m, in \u001b[0;36mfilter_traceback.<locals>.error_handler\u001b[0;34m(*args, **kwargs)\u001b[0m\n\u001b[1;32m    148\u001b[0m filtered_tb \u001b[39m=\u001b[39m \u001b[39mNone\u001b[39;00m\n\u001b[1;32m    149\u001b[0m \u001b[39mtry\u001b[39;00m:\n\u001b[0;32m--> 150\u001b[0m   \u001b[39mreturn\u001b[39;00m fn(\u001b[39m*\u001b[39;49margs, \u001b[39m*\u001b[39;49m\u001b[39m*\u001b[39;49mkwargs)\n\u001b[1;32m    151\u001b[0m \u001b[39mexcept\u001b[39;00m \u001b[39mException\u001b[39;00m \u001b[39mas\u001b[39;00m e:\n\u001b[1;32m    152\u001b[0m   filtered_tb \u001b[39m=\u001b[39m _process_traceback_frames(e\u001b[39m.\u001b[39m__traceback__)\n",
      "File \u001b[0;32m~/workspace/canshield-can-ids/pyenv10/lib/python3.10/site-packages/tensorflow/python/eager/def_function.py:915\u001b[0m, in \u001b[0;36mFunction.__call__\u001b[0;34m(self, *args, **kwds)\u001b[0m\n\u001b[1;32m    912\u001b[0m compiler \u001b[39m=\u001b[39m \u001b[39m\"\u001b[39m\u001b[39mxla\u001b[39m\u001b[39m\"\u001b[39m \u001b[39mif\u001b[39;00m \u001b[39mself\u001b[39m\u001b[39m.\u001b[39m_jit_compile \u001b[39melse\u001b[39;00m \u001b[39m\"\u001b[39m\u001b[39mnonXla\u001b[39m\u001b[39m\"\u001b[39m\n\u001b[1;32m    914\u001b[0m \u001b[39mwith\u001b[39;00m OptionalXlaContext(\u001b[39mself\u001b[39m\u001b[39m.\u001b[39m_jit_compile):\n\u001b[0;32m--> 915\u001b[0m   result \u001b[39m=\u001b[39m \u001b[39mself\u001b[39;49m\u001b[39m.\u001b[39;49m_call(\u001b[39m*\u001b[39;49margs, \u001b[39m*\u001b[39;49m\u001b[39m*\u001b[39;49mkwds)\n\u001b[1;32m    917\u001b[0m new_tracing_count \u001b[39m=\u001b[39m \u001b[39mself\u001b[39m\u001b[39m.\u001b[39mexperimental_get_tracing_count()\n\u001b[1;32m    918\u001b[0m without_tracing \u001b[39m=\u001b[39m (tracing_count \u001b[39m==\u001b[39m new_tracing_count)\n",
      "File \u001b[0;32m~/workspace/canshield-can-ids/pyenv10/lib/python3.10/site-packages/tensorflow/python/eager/def_function.py:947\u001b[0m, in \u001b[0;36mFunction._call\u001b[0;34m(self, *args, **kwds)\u001b[0m\n\u001b[1;32m    944\u001b[0m   \u001b[39mself\u001b[39m\u001b[39m.\u001b[39m_lock\u001b[39m.\u001b[39mrelease()\n\u001b[1;32m    945\u001b[0m   \u001b[39m# In this case we have created variables on the first call, so we run the\u001b[39;00m\n\u001b[1;32m    946\u001b[0m   \u001b[39m# defunned version which is guaranteed to never create variables.\u001b[39;00m\n\u001b[0;32m--> 947\u001b[0m   \u001b[39mreturn\u001b[39;00m \u001b[39mself\u001b[39;49m\u001b[39m.\u001b[39;49m_stateless_fn(\u001b[39m*\u001b[39;49margs, \u001b[39m*\u001b[39;49m\u001b[39m*\u001b[39;49mkwds)  \u001b[39m# pylint: disable=not-callable\u001b[39;00m\n\u001b[1;32m    948\u001b[0m \u001b[39melif\u001b[39;00m \u001b[39mself\u001b[39m\u001b[39m.\u001b[39m_stateful_fn \u001b[39mis\u001b[39;00m \u001b[39mnot\u001b[39;00m \u001b[39mNone\u001b[39;00m:\n\u001b[1;32m    949\u001b[0m   \u001b[39m# Release the lock early so that multiple threads can perform the call\u001b[39;00m\n\u001b[1;32m    950\u001b[0m   \u001b[39m# in parallel.\u001b[39;00m\n\u001b[1;32m    951\u001b[0m   \u001b[39mself\u001b[39m\u001b[39m.\u001b[39m_lock\u001b[39m.\u001b[39mrelease()\n",
      "File \u001b[0;32m~/workspace/canshield-can-ids/pyenv10/lib/python3.10/site-packages/tensorflow/python/eager/function.py:2453\u001b[0m, in \u001b[0;36mFunction.__call__\u001b[0;34m(self, *args, **kwargs)\u001b[0m\n\u001b[1;32m   2450\u001b[0m \u001b[39mwith\u001b[39;00m \u001b[39mself\u001b[39m\u001b[39m.\u001b[39m_lock:\n\u001b[1;32m   2451\u001b[0m   (graph_function,\n\u001b[1;32m   2452\u001b[0m    filtered_flat_args) \u001b[39m=\u001b[39m \u001b[39mself\u001b[39m\u001b[39m.\u001b[39m_maybe_define_function(args, kwargs)\n\u001b[0;32m-> 2453\u001b[0m \u001b[39mreturn\u001b[39;00m graph_function\u001b[39m.\u001b[39;49m_call_flat(\n\u001b[1;32m   2454\u001b[0m     filtered_flat_args, captured_inputs\u001b[39m=\u001b[39;49mgraph_function\u001b[39m.\u001b[39;49mcaptured_inputs)\n",
      "File \u001b[0;32m~/workspace/canshield-can-ids/pyenv10/lib/python3.10/site-packages/tensorflow/python/eager/function.py:1860\u001b[0m, in \u001b[0;36mConcreteFunction._call_flat\u001b[0;34m(self, args, captured_inputs, cancellation_manager)\u001b[0m\n\u001b[1;32m   1856\u001b[0m possible_gradient_type \u001b[39m=\u001b[39m gradients_util\u001b[39m.\u001b[39mPossibleTapeGradientTypes(args)\n\u001b[1;32m   1857\u001b[0m \u001b[39mif\u001b[39;00m (possible_gradient_type \u001b[39m==\u001b[39m gradients_util\u001b[39m.\u001b[39mPOSSIBLE_GRADIENT_TYPES_NONE\n\u001b[1;32m   1858\u001b[0m     \u001b[39mand\u001b[39;00m executing_eagerly):\n\u001b[1;32m   1859\u001b[0m   \u001b[39m# No tape is watching; skip to running the function.\u001b[39;00m\n\u001b[0;32m-> 1860\u001b[0m   \u001b[39mreturn\u001b[39;00m \u001b[39mself\u001b[39m\u001b[39m.\u001b[39m_build_call_outputs(\u001b[39mself\u001b[39;49m\u001b[39m.\u001b[39;49m_inference_function\u001b[39m.\u001b[39;49mcall(\n\u001b[1;32m   1861\u001b[0m       ctx, args, cancellation_manager\u001b[39m=\u001b[39;49mcancellation_manager))\n\u001b[1;32m   1862\u001b[0m forward_backward \u001b[39m=\u001b[39m \u001b[39mself\u001b[39m\u001b[39m.\u001b[39m_select_forward_and_backward_functions(\n\u001b[1;32m   1863\u001b[0m     args,\n\u001b[1;32m   1864\u001b[0m     possible_gradient_type,\n\u001b[1;32m   1865\u001b[0m     executing_eagerly)\n\u001b[1;32m   1866\u001b[0m forward_function, args_with_tangents \u001b[39m=\u001b[39m forward_backward\u001b[39m.\u001b[39mforward()\n",
      "File \u001b[0;32m~/workspace/canshield-can-ids/pyenv10/lib/python3.10/site-packages/tensorflow/python/eager/function.py:497\u001b[0m, in \u001b[0;36m_EagerDefinedFunction.call\u001b[0;34m(self, ctx, args, cancellation_manager)\u001b[0m\n\u001b[1;32m    495\u001b[0m \u001b[39mwith\u001b[39;00m _InterpolateFunctionError(\u001b[39mself\u001b[39m):\n\u001b[1;32m    496\u001b[0m   \u001b[39mif\u001b[39;00m cancellation_manager \u001b[39mis\u001b[39;00m \u001b[39mNone\u001b[39;00m:\n\u001b[0;32m--> 497\u001b[0m     outputs \u001b[39m=\u001b[39m execute\u001b[39m.\u001b[39;49mexecute(\n\u001b[1;32m    498\u001b[0m         \u001b[39mstr\u001b[39;49m(\u001b[39mself\u001b[39;49m\u001b[39m.\u001b[39;49msignature\u001b[39m.\u001b[39;49mname),\n\u001b[1;32m    499\u001b[0m         num_outputs\u001b[39m=\u001b[39;49m\u001b[39mself\u001b[39;49m\u001b[39m.\u001b[39;49m_num_outputs,\n\u001b[1;32m    500\u001b[0m         inputs\u001b[39m=\u001b[39;49margs,\n\u001b[1;32m    501\u001b[0m         attrs\u001b[39m=\u001b[39;49mattrs,\n\u001b[1;32m    502\u001b[0m         ctx\u001b[39m=\u001b[39;49mctx)\n\u001b[1;32m    503\u001b[0m   \u001b[39melse\u001b[39;00m:\n\u001b[1;32m    504\u001b[0m     outputs \u001b[39m=\u001b[39m execute\u001b[39m.\u001b[39mexecute_with_cancellation(\n\u001b[1;32m    505\u001b[0m         \u001b[39mstr\u001b[39m(\u001b[39mself\u001b[39m\u001b[39m.\u001b[39msignature\u001b[39m.\u001b[39mname),\n\u001b[1;32m    506\u001b[0m         num_outputs\u001b[39m=\u001b[39m\u001b[39mself\u001b[39m\u001b[39m.\u001b[39m_num_outputs,\n\u001b[0;32m   (...)\u001b[0m\n\u001b[1;32m    509\u001b[0m         ctx\u001b[39m=\u001b[39mctx,\n\u001b[1;32m    510\u001b[0m         cancellation_manager\u001b[39m=\u001b[39mcancellation_manager)\n",
      "File \u001b[0;32m~/workspace/canshield-can-ids/pyenv10/lib/python3.10/site-packages/tensorflow/python/eager/execute.py:54\u001b[0m, in \u001b[0;36mquick_execute\u001b[0;34m(op_name, num_outputs, inputs, attrs, ctx, name)\u001b[0m\n\u001b[1;32m     52\u001b[0m \u001b[39mtry\u001b[39;00m:\n\u001b[1;32m     53\u001b[0m   ctx\u001b[39m.\u001b[39mensure_initialized()\n\u001b[0;32m---> 54\u001b[0m   tensors \u001b[39m=\u001b[39m pywrap_tfe\u001b[39m.\u001b[39;49mTFE_Py_Execute(ctx\u001b[39m.\u001b[39;49m_handle, device_name, op_name,\n\u001b[1;32m     55\u001b[0m                                       inputs, attrs, num_outputs)\n\u001b[1;32m     56\u001b[0m \u001b[39mexcept\u001b[39;00m core\u001b[39m.\u001b[39m_NotOkStatusException \u001b[39mas\u001b[39;00m e:\n\u001b[1;32m     57\u001b[0m   \u001b[39mif\u001b[39;00m name \u001b[39mis\u001b[39;00m \u001b[39mnot\u001b[39;00m \u001b[39mNone\u001b[39;00m:\n",
      "\u001b[0;31mKeyboardInterrupt\u001b[0m: "
     ]
    }
   ],
   "source": [
    "#------- Initilizing models/loading model-------------\n",
    "#-------- Transfering the model-------------------------------\n",
    "for transfer in [True]:\n",
    "    for time_step in time_steps:\n",
    "        for sampling_period in sampling_periods:\n",
    "            print(\"time_step: \", time_step, \" sampling_period:\", sampling_period)\n",
    "\n",
    "            if transfer == True:\n",
    "\n",
    "                #Check for existing model............................\n",
    "                print(\"Initialzing transfer learning......\")\n",
    "                #.................  Loading existing trained model ................\n",
    "                sampling_period_to_look = sampling_period\n",
    "                while(True):\n",
    "                    checkpoint_path_to_look = f\"AE_Models//{dataset}//autoendoer_canshield_{version}_{dataset}_{time_step}_1_{sampling_period_to_look}_{transfer}.h5\"\n",
    "\n",
    "                    if file_exists(checkpoint_path_to_look) or sampling_period_to_look <= 1:\n",
    "                        print(\"We got something....\")\n",
    "                        try:\n",
    "                            autoencoder = load_model(checkpoint_path_to_look)\n",
    "                            print(f\"Loading the pre-trained model...{checkpoint_path_to_look}\")\n",
    "                        except:\n",
    "                            print(\"No model was found!!!!\")\n",
    "                            encoder, decoder = get_encoder_decoder(time_step)\n",
    "                            autoencoder = get_autoconder(encoder, decoder)\n",
    "                            print(\"Training from the scratch.....\") \n",
    "                        break\n",
    "                    else:\n",
    "                        print(f\"Model does not exit.\")\n",
    "                        sampling_period_to_look -= 5 if sampling_period_to_look > 5 else 1\n",
    "                        print(f\"Looking for the next model..{sampling_period_to_look}\")\n",
    "                        \n",
    "            if transfer == False:\n",
    "                #Start a new network............................\n",
    "                print(\"Transfer False\")\n",
    "                encoder, decoder = get_encoder_decoder(time_step)\n",
    "                autoencoder = get_autoconder(encoder, decoder)\n",
    "                print(\"Training from the scratch.....\") \n",
    "            #.................................................................\n",
    "\n",
    "            #Loading datasets..................................\n",
    "            # reading each dataset in a df file\n",
    "            for file_indx, (file_name, file_dir) in enumerate(zip(training_files, training_dirs)):\n",
    "                key_key = f'{time_step}_{sampling_period}_{file_indx}_{file_name}_{transfer}_{version}'\n",
    "\n",
    "                if file_exists(f\"Saved_Data//history_{key_key}.json\"):\n",
    "                    print('Already Trained')\n",
    "                    continue   \n",
    "                \n",
    "                try:\n",
    "                    del X_train\n",
    "                except:\n",
    "                    pass\n",
    "                \n",
    "                print(\"Loading dataset: \",key_key)\n",
    "                # Checking if the signalwise data already exists\n",
    "                X_train = pd.read_csv(file_dir, index_col = 0) \n",
    "                print(f\"{file_name} onboarded!\")\n",
    "                print(\"Before : \", X_train.shape)\n",
    "\n",
    "                # Defining the number of signals..............................\n",
    "                num_of_train_samples = int(X_train.shape[0]*training_samples)\n",
    "\n",
    "                X_train = X_train.iloc[0:num_of_train_samples].copy()\n",
    "                X_train = X_train[signals_in_cluster].astype(float).copy()\n",
    "\n",
    "                if dataset == 'road':\n",
    "                    # Forward filling algorithm........\n",
    "                    print(\"Forward filling...\")\n",
    "                    X_train = X_train.ffill().copy()\n",
    "                    X_train = X_train.bfill().dropna()   \n",
    "                    #--------------------------------\n",
    "                    print(\"X_train.shape\", X_train.shape)\n",
    "                    print(\"Done data treatment..\")\n",
    "                    #------------------------------------\n",
    "                else:\n",
    "                    print(\"No treatment needed for SynCAN!\")\n",
    "\n",
    "                #Scaling dataset..................................\n",
    "                X_train = X_train.values.copy()  \n",
    "                scaler_train = get_minmax_scaler(signals_in_cluster)\n",
    "                X_train = scaler_train.transform(X_train).copy()\n",
    "\n",
    "                # Creating sequences...........................................\n",
    "                print(\"Creating sequences....\")\n",
    "                x_train_seq = create_x_sequences(X_train, time_step, window_step, sampling_period).copy()\n",
    "                print(\"Training input shape: \", x_train_seq.shape)\n",
    "\n",
    "                max_epoch = 1000\n",
    "\n",
    "                print(\"Max_epoch: \", max_epoch)\n",
    "\n",
    "                #-----------------------------------------------------------\n",
    "                plt.figure()\n",
    "                sns.heatmap(x_train_seq[100,:,:,0])\n",
    "                plt.title(f\"{sampling_period}_{file_name}\")\n",
    "                plt.show()\n",
    "                #-----------------------------------------------------------\n",
    "\n",
    "\n",
    "                #----------------  Starting the training--------------------\n",
    "                #.......................... Training the model ....................\n",
    "                print(\"------------- Starting the training process----------------\")\n",
    "                checkpoint_path = f\"AE_Models//{dataset}//autoendoer_canshield_{version}_{dataset}_{time_step}_1_{sampling_period}_{transfer}.h5\"\n",
    "\n",
    "                #----------- Defining Callback-------------------------------------\n",
    "                keras_callbacks   = [\n",
    "                      EarlyStopping(monitor='val_loss', patience=10, mode='min'),\n",
    "                      ModelCheckpoint(checkpoint_path, monitor='val_loss', save_best_only = True, mode='auto', verbose=1)\n",
    "                ]\n",
    "                #----------------------------------------------------------------\n",
    "\n",
    "                # Pretraining visulization.......................................\n",
    "                vis_ae(save = False)\n",
    "                # Initializing the training.......................................\n",
    "                history = autoencoder.fit(\n",
    "                    x_train_seq,\n",
    "                    x_train_seq,\n",
    "                    epochs=max_epoch ,\n",
    "                    batch_size=128,\n",
    "                    validation_split=0.1,\n",
    "                    callbacks=keras_callbacks\n",
    "                )\n",
    "\n",
    "                #Saving data.........................................................\n",
    "                with open(f\"Saved_Data//history_{key_key}.json\", \"w\") as outfile:\n",
    "                    json.dump(history.history, outfile)\n",
    "\n",
    "    #             autoencoder.save(checkpoint_path)\n",
    "                #-------------------------------------------------------------------\n",
    "                print(\"------------------------ Done ------------------------\")\n",
    "\n",
    "                # Visualizing the training performance...........\n",
    "                # Post-training visulization.......................................\n",
    "                vis_ae(save = True)"
   ]
  },
  {
   "cell_type": "code",
   "execution_count": 28,
   "metadata": {},
   "outputs": [
    {
     "name": "stdout",
     "output_type": "stream",
     "text": [
      "------------------------ Done ------------------------\n",
      "------------- Showing reconstruction example -----------\n",
      "1/1 [==============================] - 0s 12ms/step\n"
     ]
    },
    {
     "data": {
      "image/png": "[encoded data removed]",
      "text/plain": [
       "<Figure size 864x288 with 6 Axes>"
      ]
     },
     "metadata": {
      "needs_background": "light"
     },
     "output_type": "display_data"
    }
   ],
   "source": [
    "#-------------------------------------------------------------------\n",
    "print(\"------------------------ Done ------------------------\")\n",
    "\n",
    "# Visualizing the training performance...........\n",
    "print(\"------------- Showing reconstruction example -----------\")\n",
    "input_image = x_train_seq[0:1].copy()\n",
    "output_image = autoencoder.predict(input_image)\n",
    "recon_loss = np.abs(output_image - input_image)\n",
    "\n",
    "#------- Ploting the data -------------------\n",
    "fig, axes = plt.subplots(1, 3, figsize = (12, 4))\n",
    "\n",
    "sns.heatmap(input_image[0,:,:,0], ax = axes [0], vmin = 0, vmax = 1)\n",
    "axes[0].set_title(\"input_image\")\n",
    "sns.heatmap(output_image[0,:,:,0], ax = axes[1], vmin = 0, vmax = 1)\n",
    "axes[1].set_title(\"output_image\")\n",
    "sns.heatmap(recon_loss[0,:,:,0], ax = axes[2], vmin = 0, vmax = 1)\n",
    "axes[2].set_title(\"recon_loss\")\n",
    "plt.tight_layout()\n",
    "plt.show()\n",
    "#-----------------------------------------------------"
   ]
  },
  {
   "cell_type": "code",
   "execution_count": 31,
   "metadata": {},
   "outputs": [
    {
     "name": "stdout",
     "output_type": "stream",
     "text": [
      "Original Dimensions :  (16, 20, 1)\n"
     ]
    },
    {
     "ename": "NameError",
     "evalue": "name 'cv2' is not defined",
     "output_type": "error",
     "traceback": [
      "\u001b[0;31m---------------------------------------------------------------------------\u001b[0m",
      "\u001b[0;31mNameError\u001b[0m                                 Traceback (most recent call last)",
      "\u001b[1;32m/home/hasan/workspace/canshield-can-ids/CANShiled_Train_SynCAN.ipynb Cell 26\u001b[0m in \u001b[0;36m<cell line: 14>\u001b[0;34m()\u001b[0m\n\u001b[1;32m     <a href='vscode-notebook-cell://ssh-remote%2B38.68.237.209/home/hasan/workspace/canshield-can-ids/CANShiled_Train_SynCAN.ipynb#Y306sdnNjb2RlLXJlbW90ZQ%3D%3D?line=10'>11</a>\u001b[0m dim \u001b[39m=\u001b[39m (width, height)\n\u001b[1;32m     <a href='vscode-notebook-cell://ssh-remote%2B38.68.237.209/home/hasan/workspace/canshield-can-ids/CANShiled_Train_SynCAN.ipynb#Y306sdnNjb2RlLXJlbW90ZQ%3D%3D?line=12'>13</a>\u001b[0m \u001b[39m# resize image\u001b[39;00m\n\u001b[0;32m---> <a href='vscode-notebook-cell://ssh-remote%2B38.68.237.209/home/hasan/workspace/canshield-can-ids/CANShiled_Train_SynCAN.ipynb#Y306sdnNjb2RlLXJlbW90ZQ%3D%3D?line=13'>14</a>\u001b[0m resized \u001b[39m=\u001b[39m cv2\u001b[39m.\u001b[39mresize(img, dim, interpolation \u001b[39m=\u001b[39m cv2\u001b[39m.\u001b[39mINTER_AREA)\n\u001b[1;32m     <a href='vscode-notebook-cell://ssh-remote%2B38.68.237.209/home/hasan/workspace/canshield-can-ids/CANShiled_Train_SynCAN.ipynb#Y306sdnNjb2RlLXJlbW90ZQ%3D%3D?line=15'>16</a>\u001b[0m \u001b[39mprint\u001b[39m(\u001b[39m'\u001b[39m\u001b[39mResized Dimensions : \u001b[39m\u001b[39m'\u001b[39m,resized\u001b[39m.\u001b[39mshape)\n\u001b[1;32m     <a href='vscode-notebook-cell://ssh-remote%2B38.68.237.209/home/hasan/workspace/canshield-can-ids/CANShiled_Train_SynCAN.ipynb#Y306sdnNjb2RlLXJlbW90ZQ%3D%3D?line=17'>18</a>\u001b[0m plt\u001b[39m.\u001b[39mimshow(resized)\n",
      "\u001b[0;31mNameError\u001b[0m: name 'cv2' is not defined"
     ]
    }
   ],
   "source": [
    "img = input_image[0]\n",
    " \n",
    "print('Original Dimensions : ',img.shape)\n",
    " \n",
    "# width = 20\n",
    "# height = img.shape[0] # keep original height\n",
    "# dim = (width, height)\n",
    "\n",
    "width = 20\n",
    "height = 20 # keep original height\n",
    "dim = (width, height)\n",
    " \n",
    "# resize image\n",
    "resized = cv2.resize(img, dim, interpolation = cv2.INTER_AREA)\n",
    " \n",
    "print('Resized Dimensions : ',resized.shape)\n",
    " \n",
    "plt.imshow(resized)\n",
    "plt.show()"
   ]
  },
  {
   "cell_type": "code",
   "execution_count": 33,
   "metadata": {},
   "outputs": [
    {
     "name": "stdout",
     "output_type": "stream",
     "text": [
      "------------------------ Done ------------------------\n",
      "------------- Showing reconstruction example -----------\n",
      "1/1 [==============================] - 0s 12ms/step\n"
     ]
    },
    {
     "ename": "ValueError",
     "evalue": "Must pass 2-d input. shape=(16, 20, 1)",
     "output_type": "error",
     "traceback": [
      "\u001b[0;31m---------------------------------------------------------------------------\u001b[0m",
      "\u001b[0;31mValueError\u001b[0m                                Traceback (most recent call last)",
      "\u001b[1;32m/home/hasan/workspace/canshield-can-ids/CANShiled_Train_SynCAN.ipynb Cell 27\u001b[0m in \u001b[0;36m<cell line: 19>\u001b[0;34m()\u001b[0m\n\u001b[1;32m     <a href='vscode-notebook-cell://ssh-remote%2B38.68.237.209/home/hasan/workspace/canshield-can-ids/CANShiled_Train_SynCAN.ipynb#X56sdnNjb2RlLXJlbW90ZQ%3D%3D?line=15'>16</a>\u001b[0m \u001b[39m#------- Ploting the data -------------------\u001b[39;00m\n\u001b[1;32m     <a href='vscode-notebook-cell://ssh-remote%2B38.68.237.209/home/hasan/workspace/canshield-can-ids/CANShiled_Train_SynCAN.ipynb#X56sdnNjb2RlLXJlbW90ZQ%3D%3D?line=16'>17</a>\u001b[0m fig, axes \u001b[39m=\u001b[39m plt\u001b[39m.\u001b[39msubplots(\u001b[39m1\u001b[39m, \u001b[39m3\u001b[39m, figsize \u001b[39m=\u001b[39m (\u001b[39m12\u001b[39m, \u001b[39m4\u001b[39m))\n\u001b[0;32m---> <a href='vscode-notebook-cell://ssh-remote%2B38.68.237.209/home/hasan/workspace/canshield-can-ids/CANShiled_Train_SynCAN.ipynb#X56sdnNjb2RlLXJlbW90ZQ%3D%3D?line=18'>19</a>\u001b[0m sns\u001b[39m.\u001b[39;49mheatmap(input_image, ax \u001b[39m=\u001b[39;49m axes [\u001b[39m0\u001b[39;49m], vmin \u001b[39m=\u001b[39;49m \u001b[39m0\u001b[39;49m, vmax \u001b[39m=\u001b[39;49m \u001b[39m1\u001b[39;49m)\n\u001b[1;32m     <a href='vscode-notebook-cell://ssh-remote%2B38.68.237.209/home/hasan/workspace/canshield-can-ids/CANShiled_Train_SynCAN.ipynb#X56sdnNjb2RlLXJlbW90ZQ%3D%3D?line=19'>20</a>\u001b[0m axes[\u001b[39m0\u001b[39m]\u001b[39m.\u001b[39mset_title(\u001b[39m\"\u001b[39m\u001b[39minput_image\u001b[39m\u001b[39m\"\u001b[39m)\n\u001b[1;32m     <a href='vscode-notebook-cell://ssh-remote%2B38.68.237.209/home/hasan/workspace/canshield-can-ids/CANShiled_Train_SynCAN.ipynb#X56sdnNjb2RlLXJlbW90ZQ%3D%3D?line=20'>21</a>\u001b[0m sns\u001b[39m.\u001b[39mheatmap(output_image, ax \u001b[39m=\u001b[39m axes[\u001b[39m1\u001b[39m], vmin \u001b[39m=\u001b[39m \u001b[39m0\u001b[39m, vmax \u001b[39m=\u001b[39m \u001b[39m1\u001b[39m)\n",
      "File \u001b[0;32m~/workspace/canshield-can-ids/pyenv10/lib/python3.10/site-packages/seaborn/_decorators.py:46\u001b[0m, in \u001b[0;36m_deprecate_positional_args.<locals>.inner_f\u001b[0;34m(*args, **kwargs)\u001b[0m\n\u001b[1;32m     36\u001b[0m     warnings\u001b[39m.\u001b[39mwarn(\n\u001b[1;32m     37\u001b[0m         \u001b[39m\"\u001b[39m\u001b[39mPass the following variable\u001b[39m\u001b[39m{}\u001b[39;00m\u001b[39m as \u001b[39m\u001b[39m{}\u001b[39;00m\u001b[39mkeyword arg\u001b[39m\u001b[39m{}\u001b[39;00m\u001b[39m: \u001b[39m\u001b[39m{}\u001b[39;00m\u001b[39m. \u001b[39m\u001b[39m\"\u001b[39m\n\u001b[1;32m     38\u001b[0m         \u001b[39m\"\u001b[39m\u001b[39mFrom version 0.12, the only valid positional argument \u001b[39m\u001b[39m\"\u001b[39m\n\u001b[0;32m   (...)\u001b[0m\n\u001b[1;32m     43\u001b[0m         \u001b[39mFutureWarning\u001b[39;00m\n\u001b[1;32m     44\u001b[0m     )\n\u001b[1;32m     45\u001b[0m kwargs\u001b[39m.\u001b[39mupdate({k: arg \u001b[39mfor\u001b[39;00m k, arg \u001b[39min\u001b[39;00m \u001b[39mzip\u001b[39m(sig\u001b[39m.\u001b[39mparameters, args)})\n\u001b[0;32m---> 46\u001b[0m \u001b[39mreturn\u001b[39;00m f(\u001b[39m*\u001b[39;49m\u001b[39m*\u001b[39;49mkwargs)\n",
      "File \u001b[0;32m~/workspace/canshield-can-ids/pyenv10/lib/python3.10/site-packages/seaborn/matrix.py:540\u001b[0m, in \u001b[0;36mheatmap\u001b[0;34m(data, vmin, vmax, cmap, center, robust, annot, fmt, annot_kws, linewidths, linecolor, cbar, cbar_kws, cbar_ax, square, xticklabels, yticklabels, mask, ax, **kwargs)\u001b[0m\n\u001b[1;32m    362\u001b[0m \u001b[39m\"\"\"Plot rectangular data as a color-encoded matrix.\u001b[39;00m\n\u001b[1;32m    363\u001b[0m \n\u001b[1;32m    364\u001b[0m \u001b[39mThis is an Axes-level function and will draw the heatmap into the\u001b[39;00m\n\u001b[0;32m   (...)\u001b[0m\n\u001b[1;32m    537\u001b[0m \u001b[39m    ...     ax = sns.heatmap(corr, mask=mask, vmax=.3, square=True)\u001b[39;00m\n\u001b[1;32m    538\u001b[0m \u001b[39m\"\"\"\u001b[39;00m\n\u001b[1;32m    539\u001b[0m \u001b[39m# Initialize the plotter object\u001b[39;00m\n\u001b[0;32m--> 540\u001b[0m plotter \u001b[39m=\u001b[39m _HeatMapper(data, vmin, vmax, cmap, center, robust, annot, fmt,\n\u001b[1;32m    541\u001b[0m                       annot_kws, cbar, cbar_kws, xticklabels,\n\u001b[1;32m    542\u001b[0m                       yticklabels, mask)\n\u001b[1;32m    544\u001b[0m \u001b[39m# Add the pcolormesh kwargs here\u001b[39;00m\n\u001b[1;32m    545\u001b[0m kwargs[\u001b[39m\"\u001b[39m\u001b[39mlinewidths\u001b[39m\u001b[39m\"\u001b[39m] \u001b[39m=\u001b[39m linewidths\n",
      "File \u001b[0;32m~/workspace/canshield-can-ids/pyenv10/lib/python3.10/site-packages/seaborn/matrix.py:106\u001b[0m, in \u001b[0;36m_HeatMapper.__init__\u001b[0;34m(self, data, vmin, vmax, cmap, center, robust, annot, fmt, annot_kws, cbar, cbar_kws, xticklabels, yticklabels, mask)\u001b[0m\n\u001b[1;32m    104\u001b[0m \u001b[39melse\u001b[39;00m:\n\u001b[1;32m    105\u001b[0m     plot_data \u001b[39m=\u001b[39m np\u001b[39m.\u001b[39masarray(data)\n\u001b[0;32m--> 106\u001b[0m     data \u001b[39m=\u001b[39m pd\u001b[39m.\u001b[39;49mDataFrame(plot_data)\n\u001b[1;32m    108\u001b[0m \u001b[39m# Validate the mask and convet to DataFrame\u001b[39;00m\n\u001b[1;32m    109\u001b[0m mask \u001b[39m=\u001b[39m _matrix_mask(data, mask)\n",
      "File \u001b[0;32m~/workspace/canshield-can-ids/pyenv10/lib/python3.10/site-packages/pandas/core/frame.py:694\u001b[0m, in \u001b[0;36mDataFrame.__init__\u001b[0;34m(self, data, index, columns, dtype, copy)\u001b[0m\n\u001b[1;32m    684\u001b[0m         mgr \u001b[39m=\u001b[39m dict_to_mgr(\n\u001b[1;32m    685\u001b[0m             \u001b[39m# error: Item \"ndarray\" of \"Union[ndarray, Series, Index]\" has no\u001b[39;00m\n\u001b[1;32m    686\u001b[0m             \u001b[39m# attribute \"name\"\u001b[39;00m\n\u001b[0;32m   (...)\u001b[0m\n\u001b[1;32m    691\u001b[0m             typ\u001b[39m=\u001b[39mmanager,\n\u001b[1;32m    692\u001b[0m         )\n\u001b[1;32m    693\u001b[0m     \u001b[39melse\u001b[39;00m:\n\u001b[0;32m--> 694\u001b[0m         mgr \u001b[39m=\u001b[39m ndarray_to_mgr(\n\u001b[1;32m    695\u001b[0m             data,\n\u001b[1;32m    696\u001b[0m             index,\n\u001b[1;32m    697\u001b[0m             columns,\n\u001b[1;32m    698\u001b[0m             dtype\u001b[39m=\u001b[39;49mdtype,\n\u001b[1;32m    699\u001b[0m             copy\u001b[39m=\u001b[39;49mcopy,\n\u001b[1;32m    700\u001b[0m             typ\u001b[39m=\u001b[39;49mmanager,\n\u001b[1;32m    701\u001b[0m         )\n\u001b[1;32m    703\u001b[0m \u001b[39m# For data is list-like, or Iterable (will consume into list)\u001b[39;00m\n\u001b[1;32m    704\u001b[0m \u001b[39melif\u001b[39;00m is_list_like(data):\n",
      "File \u001b[0;32m~/workspace/canshield-can-ids/pyenv10/lib/python3.10/site-packages/pandas/core/internals/construction.py:331\u001b[0m, in \u001b[0;36mndarray_to_mgr\u001b[0;34m(values, index, columns, dtype, copy, typ)\u001b[0m\n\u001b[1;32m    326\u001b[0m         values \u001b[39m=\u001b[39m values\u001b[39m.\u001b[39mreshape(\u001b[39m-\u001b[39m\u001b[39m1\u001b[39m, \u001b[39m1\u001b[39m)\n\u001b[1;32m    328\u001b[0m \u001b[39melse\u001b[39;00m:\n\u001b[1;32m    329\u001b[0m     \u001b[39m# by definition an array here\u001b[39;00m\n\u001b[1;32m    330\u001b[0m     \u001b[39m# the dtypes will be coerced to a single dtype\u001b[39;00m\n\u001b[0;32m--> 331\u001b[0m     values \u001b[39m=\u001b[39m _prep_ndarray(values, copy\u001b[39m=\u001b[39;49mcopy_on_sanitize)\n\u001b[1;32m    333\u001b[0m \u001b[39mif\u001b[39;00m dtype \u001b[39mis\u001b[39;00m \u001b[39mnot\u001b[39;00m \u001b[39mNone\u001b[39;00m \u001b[39mand\u001b[39;00m \u001b[39mnot\u001b[39;00m is_dtype_equal(values\u001b[39m.\u001b[39mdtype, dtype):\n\u001b[1;32m    334\u001b[0m     shape \u001b[39m=\u001b[39m values\u001b[39m.\u001b[39mshape\n",
      "File \u001b[0;32m~/workspace/canshield-can-ids/pyenv10/lib/python3.10/site-packages/pandas/core/internals/construction.py:591\u001b[0m, in \u001b[0;36m_prep_ndarray\u001b[0;34m(values, copy)\u001b[0m\n\u001b[1;32m    589\u001b[0m     values \u001b[39m=\u001b[39m values\u001b[39m.\u001b[39mreshape((values\u001b[39m.\u001b[39mshape[\u001b[39m0\u001b[39m], \u001b[39m1\u001b[39m))\n\u001b[1;32m    590\u001b[0m \u001b[39melif\u001b[39;00m values\u001b[39m.\u001b[39mndim \u001b[39m!=\u001b[39m \u001b[39m2\u001b[39m:\n\u001b[0;32m--> 591\u001b[0m     \u001b[39mraise\u001b[39;00m \u001b[39mValueError\u001b[39;00m(\u001b[39mf\u001b[39m\u001b[39m\"\u001b[39m\u001b[39mMust pass 2-d input. shape=\u001b[39m\u001b[39m{\u001b[39;00mvalues\u001b[39m.\u001b[39mshape\u001b[39m}\u001b[39;00m\u001b[39m\"\u001b[39m)\n\u001b[1;32m    593\u001b[0m \u001b[39mreturn\u001b[39;00m values\n",
      "\u001b[0;31mValueError\u001b[0m: Must pass 2-d input. shape=(16, 20, 1)"
     ]
    },
    {
     "data": {
      "image/png": "[encoded data removed]",
      "text/plain": [
       "<Figure size 864x288 with 3 Axes>"
      ]
     },
     "metadata": {
      "needs_background": "light"
     },
     "output_type": "display_data"
    }
   ],
   "source": [
    "#-------------------------------------------------------------------\n",
    "print(\"------------------------ Done ------------------------\")\n",
    "\n",
    "# Visualizing the training performance...........\n",
    "print(\"------------- Showing reconstruction example -----------\")\n",
    "input_image = x_train_seq[0:1].copy()\n",
    "\n",
    "\n",
    "output_image = autoencoder.predict(input_image)\n",
    "recon_loss = np.abs(output_image - input_image)\n",
    "\n",
    "input_image = cv2.resize(input_image[0], dim, interpolation = cv2.INTER_AREA)\n",
    "output_image = cv2.resize(output_image[0], dim, interpolation = cv2.INTER_AREA)\n",
    "recon_loss =recon_loss[0], dim, interpolation = cv2.INTER_AREA)\n",
    "\n",
    "#------- Ploting the data -------------------\n",
    "fig, axes = plt.subplots(1, 3, figsize = (12, 4))\n",
    "\n",
    "sns.heatmap(input_image, ax = axes [0], vmin = 0, vmax = 1)\n",
    "axes[0].set_title(\"input_image\")\n",
    "sns.heatmap(output_image, ax = axes[1], vmin = 0, vmax = 1)\n",
    "axes[1].set_title(\"output_image\")\n",
    "sns.heatmap(recon_loss, ax = axes[2], vmin = 0, vmax = 1)\n",
    "axes[2].set_title(\"recon_loss\")\n",
    "plt.tight_layout()\n",
    "# plt.savefig(f\"plots//{dataset}//Training_Loss_{key_key}.jpg\", dpi = 350)\n",
    "plt.show()\n",
    "#-----------------------------------------------------"
   ]
  },
  {
   "cell_type": "code",
   "execution_count": 34,
   "metadata": {},
   "outputs": [],
   "source": [
    "time_steps = [8, 16]\n",
    "sampling_periods = [1, 5, 10, 20, 50]"
   ]
  },
  {
   "cell_type": "code",
   "execution_count": 35,
   "metadata": {},
   "outputs": [],
   "source": [
    "training_files = ['train_3', 'train_4', 'train_1', 'train_2']"
   ]
  },
  {
   "cell_type": "code",
   "execution_count": 36,
   "metadata": {},
   "outputs": [
    {
     "data": {
      "text/plain": [
       "['/home/hasan/workspace/canshield-can-ids//..//data//syncan//generated//ambients/train_3_generated.csv',\n",
       " '/home/hasan/workspace/canshield-can-ids//..//data//syncan//generated//ambients/train_4_generated.csv',\n",
       " '/home/hasan/workspace/canshield-can-ids//..//data//syncan//generated//ambients/train_1_generated.csv',\n",
       " '/home/hasan/workspace/canshield-can-ids//..//data//syncan//generated//ambients/train_2_generated.csv']"
      ]
     },
     "execution_count": 36,
     "metadata": {},
     "output_type": "execute_result"
    }
   ],
   "source": [
    "training_dirs = ['/home/hasan/workspace/canshield-can-ids//..//data//syncan//generated//ambients/train_3_generated.csv',\n",
    "'/home/hasan/workspace/canshield-can-ids//..//data//syncan//generated//ambients/train_4_generated.csv',\n",
    "'/home/hasan/workspace/canshield-can-ids//..//data//syncan//generated//ambients/train_1_generated.csv',\n",
    "'/home/hasan/workspace/canshield-can-ids//..//data//syncan//generated//ambients/train_2_generated.csv']\n",
    "training_dirs\n"
   ]
  },
  {
   "cell_type": "code",
   "execution_count": 37,
   "metadata": {},
   "outputs": [
    {
     "name": "stdout",
     "output_type": "stream",
     "text": [
      "Except 8_1_0_train_3\n",
      "Except 8_1_0_train_3\n",
      "Except 8_1_1_train_4\n",
      "Except 8_1_1_train_4\n",
      "Except 8_1_2_train_1\n",
      "Except 8_1_2_train_1\n",
      "Except 8_1_3_train_2\n",
      "Except 8_1_3_train_2\n",
      "8_5_0_train_3_True\n",
      "8_5_0_train_3_False\n",
      "8_5_1_train_4_True\n",
      "8_5_1_train_4_False\n",
      "8_5_2_train_1_True\n",
      "8_5_2_train_1_False\n",
      "8_5_3_train_2_True\n",
      "8_5_3_train_2_False\n",
      "8_10_0_train_3_True\n",
      "8_10_0_train_3_False\n",
      "8_10_1_train_4_True\n",
      "8_10_1_train_4_False\n",
      "8_10_2_train_1_True\n",
      "8_10_2_train_1_False\n",
      "8_10_3_train_2_True\n",
      "8_10_3_train_2_False\n",
      "8_20_0_train_3_True\n",
      "8_20_0_train_3_False\n",
      "8_20_1_train_4_True\n",
      "8_20_1_train_4_False\n",
      "8_20_2_train_1_True\n",
      "8_20_2_train_1_False\n",
      "8_20_3_train_2_True\n",
      "8_20_3_train_2_False\n",
      "8_50_0_train_3_True\n",
      "8_50_0_train_3_False\n",
      "8_50_1_train_4_True\n",
      "8_50_1_train_4_False\n",
      "8_50_2_train_1_True\n",
      "8_50_2_train_1_False\n",
      "8_50_3_train_2_True\n",
      "8_50_3_train_2_False\n",
      "Except 16_1_0_train_3\n",
      "Except 16_1_0_train_3\n",
      "Except 16_1_1_train_4\n",
      "Except 16_1_1_train_4\n",
      "Except 16_1_2_train_1\n",
      "Except 16_1_2_train_1\n",
      "Except 16_1_3_train_2\n",
      "Except 16_1_3_train_2\n",
      "16_5_0_train_3_True\n",
      "16_5_0_train_3_False\n",
      "16_5_1_train_4_True\n",
      "16_5_1_train_4_False\n",
      "16_5_2_train_1_True\n",
      "16_5_2_train_1_False\n",
      "16_5_3_train_2_True\n",
      "16_5_3_train_2_False\n",
      "16_10_0_train_3_True\n",
      "16_10_0_train_3_False\n",
      "16_10_1_train_4_True\n",
      "16_10_1_train_4_False\n",
      "16_10_2_train_1_True\n",
      "16_10_2_train_1_False\n",
      "16_10_3_train_2_True\n",
      "16_10_3_train_2_False\n",
      "16_20_0_train_3_True\n",
      "16_20_0_train_3_False\n",
      "16_20_1_train_4_True\n",
      "16_20_1_train_4_False\n",
      "16_20_2_train_1_True\n",
      "16_20_2_train_1_False\n",
      "16_20_3_train_2_True\n",
      "16_20_3_train_2_False\n",
      "16_50_0_train_3_True\n",
      "16_50_0_train_3_False\n",
      "16_50_1_train_4_True\n",
      "16_50_1_train_4_False\n",
      "16_50_2_train_1_True\n",
      "16_50_2_train_1_False\n",
      "16_50_3_train_2_True\n",
      "16_50_3_train_2_False\n"
     ]
    },
    {
     "data": {
      "text/html": [
       "<div>\n",
       "<style scoped>\n",
       "    .dataframe tbody tr th:only-of-type {\n",
       "        vertical-align: middle;\n",
       "    }\n",
       "\n",
       "    .dataframe tbody tr th {\n",
       "        vertical-align: top;\n",
       "    }\n",
       "\n",
       "    .dataframe thead th {\n",
       "        text-align: right;\n",
       "    }\n",
       "</style>\n",
       "<table border=\"1\" class=\"dataframe\">\n",
       "  <thead>\n",
       "    <tr style=\"text-align: right;\">\n",
       "      <th></th>\n",
       "      <th>loss</th>\n",
       "      <th>val_loss</th>\n",
       "      <th>Time step</th>\n",
       "      <th>Sampling period</th>\n",
       "      <th>File no</th>\n",
       "      <th>Transfer</th>\n",
       "      <th>Epoch</th>\n",
       "    </tr>\n",
       "  </thead>\n",
       "  <tbody>\n",
       "    <tr>\n",
       "      <th>0</th>\n",
       "      <td>0.438247</td>\n",
       "      <td>0.449640</td>\n",
       "      <td>8</td>\n",
       "      <td>1</td>\n",
       "      <td>1</td>\n",
       "      <td>True</td>\n",
       "      <td>1</td>\n",
       "    </tr>\n",
       "    <tr>\n",
       "      <th>1</th>\n",
       "      <td>0.424056</td>\n",
       "      <td>0.444885</td>\n",
       "      <td>8</td>\n",
       "      <td>1</td>\n",
       "      <td>1</td>\n",
       "      <td>True</td>\n",
       "      <td>2</td>\n",
       "    </tr>\n",
       "    <tr>\n",
       "      <th>2</th>\n",
       "      <td>0.420345</td>\n",
       "      <td>0.442087</td>\n",
       "      <td>8</td>\n",
       "      <td>1</td>\n",
       "      <td>1</td>\n",
       "      <td>True</td>\n",
       "      <td>3</td>\n",
       "    </tr>\n",
       "    <tr>\n",
       "      <th>3</th>\n",
       "      <td>0.418378</td>\n",
       "      <td>0.440496</td>\n",
       "      <td>8</td>\n",
       "      <td>1</td>\n",
       "      <td>1</td>\n",
       "      <td>True</td>\n",
       "      <td>4</td>\n",
       "    </tr>\n",
       "    <tr>\n",
       "      <th>4</th>\n",
       "      <td>0.417181</td>\n",
       "      <td>0.439518</td>\n",
       "      <td>8</td>\n",
       "      <td>1</td>\n",
       "      <td>1</td>\n",
       "      <td>True</td>\n",
       "      <td>5</td>\n",
       "    </tr>\n",
       "    <tr>\n",
       "      <th>...</th>\n",
       "      <td>...</td>\n",
       "      <td>...</td>\n",
       "      <td>...</td>\n",
       "      <td>...</td>\n",
       "      <td>...</td>\n",
       "      <td>...</td>\n",
       "      <td>...</td>\n",
       "    </tr>\n",
       "    <tr>\n",
       "      <th>2577</th>\n",
       "      <td>0.425439</td>\n",
       "      <td>0.415920</td>\n",
       "      <td>16</td>\n",
       "      <td>50</td>\n",
       "      <td>4</td>\n",
       "      <td>False</td>\n",
       "      <td>167</td>\n",
       "    </tr>\n",
       "    <tr>\n",
       "      <th>2578</th>\n",
       "      <td>0.425401</td>\n",
       "      <td>0.421741</td>\n",
       "      <td>16</td>\n",
       "      <td>50</td>\n",
       "      <td>4</td>\n",
       "      <td>False</td>\n",
       "      <td>168</td>\n",
       "    </tr>\n",
       "    <tr>\n",
       "      <th>2579</th>\n",
       "      <td>0.425389</td>\n",
       "      <td>0.416532</td>\n",
       "      <td>16</td>\n",
       "      <td>50</td>\n",
       "      <td>4</td>\n",
       "      <td>False</td>\n",
       "      <td>169</td>\n",
       "    </tr>\n",
       "    <tr>\n",
       "      <th>2580</th>\n",
       "      <td>0.425324</td>\n",
       "      <td>0.416171</td>\n",
       "      <td>16</td>\n",
       "      <td>50</td>\n",
       "      <td>4</td>\n",
       "      <td>False</td>\n",
       "      <td>170</td>\n",
       "    </tr>\n",
       "    <tr>\n",
       "      <th>2581</th>\n",
       "      <td>0.425330</td>\n",
       "      <td>0.415424</td>\n",
       "      <td>16</td>\n",
       "      <td>50</td>\n",
       "      <td>4</td>\n",
       "      <td>False</td>\n",
       "      <td>171</td>\n",
       "    </tr>\n",
       "  </tbody>\n",
       "</table>\n",
       "<p>2582 rows × 7 columns</p>\n",
       "</div>"
      ],
      "text/plain": [
       "          loss  val_loss  Time step  Sampling period  File no  Transfer  Epoch\n",
       "0     0.438247  0.449640          8                1        1      True      1\n",
       "1     0.424056  0.444885          8                1        1      True      2\n",
       "2     0.420345  0.442087          8                1        1      True      3\n",
       "3     0.418378  0.440496          8                1        1      True      4\n",
       "4     0.417181  0.439518          8                1        1      True      5\n",
       "...        ...       ...        ...              ...      ...       ...    ...\n",
       "2577  0.425439  0.415920         16               50        4     False    167\n",
       "2578  0.425401  0.421741         16               50        4     False    168\n",
       "2579  0.425389  0.416532         16               50        4     False    169\n",
       "2580  0.425324  0.416171         16               50        4     False    170\n",
       "2581  0.425330  0.415424         16               50        4     False    171\n",
       "\n",
       "[2582 rows x 7 columns]"
      ]
     },
     "execution_count": 37,
     "metadata": {},
     "output_type": "execute_result"
    }
   ],
   "source": [
    "loss_df_final = pd.DataFrame([]) \n",
    "\n",
    "for time_step in time_steps:\n",
    "    for sampling_period in sampling_periods:\n",
    "        start = 1\n",
    "        for file_indx, (file_name, file_dir) in enumerate(zip(training_files, training_dirs)):\n",
    "            for transfer in [True, False]:\n",
    "                losses = {}\n",
    "                losses['loss'] = []\n",
    "                losses['val_loss'] = []\n",
    "#                 print(file_indx)\n",
    "                try:\n",
    "                    key_key = f'{time_step}_{sampling_period}_{file_indx}_{file_name}_{transfer}'\n",
    "                    # Opening JSON file & returns JSON object as a dict\n",
    "                    f = open(f\"data//training//history_{key_key}.json\")\n",
    "                    data = json.load(f)\n",
    "                    print(key_key)\n",
    "                except:\n",
    "                    key_key = f'{time_step}_{sampling_period}_{file_indx}_{file_name}'\n",
    "                    print(\"Except\", key_key)\n",
    "                    # Opening JSON file & returns JSON object as a dict\n",
    "                    f = open(f\"data//training//history_{key_key}.json\")\n",
    "                    data = json.load(f)\n",
    "\n",
    "                losses['loss'] += data ['loss']\n",
    "                losses['val_loss'] += data ['val_loss']\n",
    "                #-----------------------\n",
    "                loss_df = pd.DataFrame(losses)\n",
    "                loss_df['Time step'] = time_step\n",
    "                loss_df['Sampling period'] = sampling_period\n",
    "                loss_df['File no'] = file_indx+1\n",
    "                loss_df['Transfer'] = transfer\n",
    "                loss_df['Epoch'] = list(loss_df.index+start)\n",
    "                start += len(loss_df['Epoch'])\n",
    "\n",
    "\n",
    "                loss_df_final = pd.concat([loss_df_final, loss_df], ignore_index = True)\n",
    "            \n",
    "loss_df_final"
   ]
  },
  {
   "cell_type": "code",
   "execution_count": 38,
   "metadata": {},
   "outputs": [
    {
     "data": {
      "image/png": "[encoded data removed]",
      "text/plain": [
       "<Figure size 432x288 with 1 Axes>"
      ]
     },
     "metadata": {
      "needs_background": "light"
     },
     "output_type": "display_data"
    }
   ],
   "source": [
    "palette=['r', 'g', 'b', 'k', 'c'] #, 'b','k']\n",
    "plt.figure(figsize=(6,4))\n",
    "# sns.color_palette(\"viridis\", as_cmap=True)\n",
    "sns.lineplot(data = loss_df_final, x = 'Epoch', y = 'loss'\n",
    "             , hue = 'Sampling period', style = 'File no',  linewidth = '2'\n",
    "             , palette=palette[0:5], markers = True, alpha = 0.90)\n",
    "plt.legend(bbox_to_anchor = (0.99, 0.9))\n",
    "plt.title(\"Loss curve for CANshield\")\n",
    "plt.tight_layout()\n",
    "plt.grid(True)\n",
    "plt.savefig(f\"plots//{dataset}//Trasfer_loss_16.jpg\", dpi = 350)\n",
    "plt.show()"
   ]
  },
  {
   "cell_type": "code",
   "execution_count": 39,
   "metadata": {},
   "outputs": [
    {
     "data": {
      "text/html": [
       "<div>\n",
       "<style scoped>\n",
       "    .dataframe tbody tr th:only-of-type {\n",
       "        vertical-align: middle;\n",
       "    }\n",
       "\n",
       "    .dataframe tbody tr th {\n",
       "        vertical-align: top;\n",
       "    }\n",
       "\n",
       "    .dataframe thead th {\n",
       "        text-align: right;\n",
       "    }\n",
       "</style>\n",
       "<table border=\"1\" class=\"dataframe\">\n",
       "  <thead>\n",
       "    <tr style=\"text-align: right;\">\n",
       "      <th></th>\n",
       "      <th>loss</th>\n",
       "      <th>val_loss</th>\n",
       "      <th>Time step</th>\n",
       "      <th>Sampling period</th>\n",
       "      <th>File no</th>\n",
       "      <th>Transfer</th>\n",
       "      <th>Epoch</th>\n",
       "    </tr>\n",
       "  </thead>\n",
       "  <tbody>\n",
       "    <tr>\n",
       "      <th>0</th>\n",
       "      <td>0.438247</td>\n",
       "      <td>0.449640</td>\n",
       "      <td>8</td>\n",
       "      <td>1</td>\n",
       "      <td>1</td>\n",
       "      <td>True</td>\n",
       "      <td>1</td>\n",
       "    </tr>\n",
       "    <tr>\n",
       "      <th>1</th>\n",
       "      <td>0.424056</td>\n",
       "      <td>0.444885</td>\n",
       "      <td>8</td>\n",
       "      <td>1</td>\n",
       "      <td>1</td>\n",
       "      <td>True</td>\n",
       "      <td>2</td>\n",
       "    </tr>\n",
       "    <tr>\n",
       "      <th>2</th>\n",
       "      <td>0.420345</td>\n",
       "      <td>0.442087</td>\n",
       "      <td>8</td>\n",
       "      <td>1</td>\n",
       "      <td>1</td>\n",
       "      <td>True</td>\n",
       "      <td>3</td>\n",
       "    </tr>\n",
       "    <tr>\n",
       "      <th>3</th>\n",
       "      <td>0.418378</td>\n",
       "      <td>0.440496</td>\n",
       "      <td>8</td>\n",
       "      <td>1</td>\n",
       "      <td>1</td>\n",
       "      <td>True</td>\n",
       "      <td>4</td>\n",
       "    </tr>\n",
       "    <tr>\n",
       "      <th>4</th>\n",
       "      <td>0.417181</td>\n",
       "      <td>0.439518</td>\n",
       "      <td>8</td>\n",
       "      <td>1</td>\n",
       "      <td>1</td>\n",
       "      <td>True</td>\n",
       "      <td>5</td>\n",
       "    </tr>\n",
       "    <tr>\n",
       "      <th>...</th>\n",
       "      <td>...</td>\n",
       "      <td>...</td>\n",
       "      <td>...</td>\n",
       "      <td>...</td>\n",
       "      <td>...</td>\n",
       "      <td>...</td>\n",
       "      <td>...</td>\n",
       "    </tr>\n",
       "    <tr>\n",
       "      <th>2577</th>\n",
       "      <td>0.425439</td>\n",
       "      <td>0.415920</td>\n",
       "      <td>16</td>\n",
       "      <td>50</td>\n",
       "      <td>4</td>\n",
       "      <td>False</td>\n",
       "      <td>167</td>\n",
       "    </tr>\n",
       "    <tr>\n",
       "      <th>2578</th>\n",
       "      <td>0.425401</td>\n",
       "      <td>0.421741</td>\n",
       "      <td>16</td>\n",
       "      <td>50</td>\n",
       "      <td>4</td>\n",
       "      <td>False</td>\n",
       "      <td>168</td>\n",
       "    </tr>\n",
       "    <tr>\n",
       "      <th>2579</th>\n",
       "      <td>0.425389</td>\n",
       "      <td>0.416532</td>\n",
       "      <td>16</td>\n",
       "      <td>50</td>\n",
       "      <td>4</td>\n",
       "      <td>False</td>\n",
       "      <td>169</td>\n",
       "    </tr>\n",
       "    <tr>\n",
       "      <th>2580</th>\n",
       "      <td>0.425324</td>\n",
       "      <td>0.416171</td>\n",
       "      <td>16</td>\n",
       "      <td>50</td>\n",
       "      <td>4</td>\n",
       "      <td>False</td>\n",
       "      <td>170</td>\n",
       "    </tr>\n",
       "    <tr>\n",
       "      <th>2581</th>\n",
       "      <td>0.425330</td>\n",
       "      <td>0.415424</td>\n",
       "      <td>16</td>\n",
       "      <td>50</td>\n",
       "      <td>4</td>\n",
       "      <td>False</td>\n",
       "      <td>171</td>\n",
       "    </tr>\n",
       "  </tbody>\n",
       "</table>\n",
       "<p>2582 rows × 7 columns</p>\n",
       "</div>"
      ],
      "text/plain": [
       "          loss  val_loss  Time step Sampling period File no  Transfer  Epoch\n",
       "0     0.438247  0.449640          8               1       1      True      1\n",
       "1     0.424056  0.444885          8               1       1      True      2\n",
       "2     0.420345  0.442087          8               1       1      True      3\n",
       "3     0.418378  0.440496          8               1       1      True      4\n",
       "4     0.417181  0.439518          8               1       1      True      5\n",
       "...        ...       ...        ...             ...     ...       ...    ...\n",
       "2577  0.425439  0.415920         16              50       4     False    167\n",
       "2578  0.425401  0.421741         16              50       4     False    168\n",
       "2579  0.425389  0.416532         16              50       4     False    169\n",
       "2580  0.425324  0.416171         16              50       4     False    170\n",
       "2581  0.425330  0.415424         16              50       4     False    171\n",
       "\n",
       "[2582 rows x 7 columns]"
      ]
     },
     "execution_count": 39,
     "metadata": {},
     "output_type": "execute_result"
    }
   ],
   "source": [
    "loss_df_final['File no'] = loss_df_final['File no'].astype(str)\n",
    "loss_df_final['Sampling period'] = loss_df_final['Sampling period'].astype(str)\n",
    "loss_df_final"
   ]
  },
  {
   "cell_type": "code",
   "execution_count": 40,
   "metadata": {},
   "outputs": [
    {
     "data": {
      "text/plain": [
       "<Figure size 360x288 with 0 Axes>"
      ]
     },
     "metadata": {},
     "output_type": "display_data"
    },
    {
     "data": {
      "image/png": "[encoded data removed]",
      "text/plain": [
       "<Figure size 762.375x360 with 2 Axes>"
      ]
     },
     "metadata": {
      "needs_background": "light"
     },
     "output_type": "display_data"
    }
   ],
   "source": [
    "plt.figure(figsize=(5,4))\n",
    "sns.displot(data = loss_df_final, x = 'Sampling period', stat='count'\n",
    "            , hue=\"File no\", multiple=\"stack\", col=\"Transfer\"\n",
    "            , alpha = 0.5, shrink=.75)  #, y = 'loss', hue = 'Time step', style = 'Time step', marker = 'p')\n",
    "# plt.title(\"Training Cost for CANSheild on SynCAN\")\n",
    "# plt.legend()\n",
    "# plt.grid(True)\n",
    "plt.ylabel(\"Epoch\")\n",
    "plt.tight_layout()\n",
    "plt.savefig(f\"plots//{dataset}//Trasfer_loss_cost_16.jpg\", dpi = 500)\n",
    "plt.show()"
   ]
  },
  {
   "cell_type": "code",
   "execution_count": 41,
   "metadata": {},
   "outputs": [
    {
     "name": "stderr",
     "output_type": "stream",
     "text": [
      "/tmp/ipykernel_1734184/680822860.py:1: SettingWithCopyWarning: \n",
      "A value is trying to be set on a copy of a slice from a DataFrame\n",
      "\n",
      "See the caveats in the documentation: https://pandas.pydata.org/pandas-docs/stable/user_guide/indexing.html#returning-a-view-versus-a-copy\n",
      "  loss_df_final['Transfer'][loss_df_final['Transfer'] == True] = \"With\"\n"
     ]
    }
   ],
   "source": [
    "loss_df_final['Transfer'][loss_df_final['Transfer'] == True] = \"With\"\n",
    "loss_df_final['Transfer'][loss_df_final['Transfer'] == False] = \"Without\""
   ]
  },
  {
   "cell_type": "code",
   "execution_count": 42,
   "metadata": {},
   "outputs": [
    {
     "name": "stderr",
     "output_type": "stream",
     "text": [
      "No artists with labels found to put in legend.  Note that artists whose label start with an underscore are ignored when legend() is called with no argument.\n"
     ]
    },
    {
     "data": {
      "image/png": "[encoded data removed]",
      "text/plain": [
       "<Figure size 180x144 with 1 Axes>"
      ]
     },
     "metadata": {
      "needs_background": "light"
     },
     "output_type": "display_data"
    }
   ],
   "source": [
    "ts = 8\n",
    "plt.figure(figsize=(2.5,2))\n",
    "sns.histplot(data = loss_df_final[loss_df_final['Time step'] >= ts], x = 'Sampling period', stat='count', hue=\"Transfer\"\n",
    "             , multiple='dodge', alpha = 0.75, shrink=.75)  #, y = 'loss', hue = 'Time step', style = 'Time step', marker = 'p')\n",
    "plt.title(\"Training Overhead\")\n",
    "plt.legend().set_visible(False)\n",
    "plt.grid(True)\n",
    "plt.ylabel(\"Epoch\")\n",
    "plt.tight_layout()\n",
    "plt.savefig(f\"plots//{dataset}//Trasfer_loss_cost_{ts}.jpg\", dpi = 300)\n",
    "plt.savefig(f\"plots//{dataset}//Trasfer_loss_cost_{ts}.pdf\") #, dpi = 250)\n",
    "plt.show()"
   ]
  },
  {
   "cell_type": "code",
   "execution_count": 43,
   "metadata": {},
   "outputs": [
    {
     "data": {
      "image/png": "[encoded data removed]",
      "text/plain": [
       "<Figure size 288x144 with 1 Axes>"
      ]
     },
     "metadata": {
      "needs_background": "light"
     },
     "output_type": "display_data"
    }
   ],
   "source": [
    "plt.figure(figsize=(4.0,2))\n",
    "# sns.violinplot(data = loss_df_final[loss_df_final['Time step'] >= 8], x = 'Sampling period', y= 'loss', hue=\"Transfer\", alpha = 0.75)\n",
    "sns.boxplot(data = loss_df_final[loss_df_final['Time step'] >= 8], x = 'Sampling period', y= 'loss', hue=\"Transfer\") #, alpha = 0.75)\n",
    "plt.grid(True)\n",
    "plt.title(\"Model's Performance\")\n",
    "plt.ylabel(\"Validation Loss\")\n",
    "plt.legend(title = \"Transfer Learning\", ncol = 1, bbox_to_anchor = (1,1))\n",
    "\n",
    "plt.tight_layout()\n",
    "plt.savefig(f\"plots//{dataset}//Trasfer_loss_min_{ts}.jpg\", dpi = 300)\n",
    "plt.savefig(f\"plots//{dataset}//Trasfer_loss_min_{ts}.pdf\") #, dpi = 500)\n",
    "plt.show()"
   ]
  },
  {
   "cell_type": "code",
   "execution_count": 44,
   "metadata": {},
   "outputs": [
    {
     "data": {
      "image/png": "[encoded data removed]",
      "text/plain": [
       "<Figure size 463.8x216 with 2 Axes>"
      ]
     },
     "metadata": {
      "needs_background": "light"
     },
     "output_type": "display_data"
    }
   ],
   "source": [
    "g = sns.catplot(x=\"Sampling period\", y=\"val_loss\", hue=\"Transfer\",\n",
    "                col=\"Time step\", kind=\"violin\", data=loss_df_final,\n",
    "                height=3, aspect=.9)"
   ]
  },
  {
   "cell_type": "code",
   "execution_count": 45,
   "metadata": {},
   "outputs": [],
   "source": [
    "loss_df_final_new = loss_df_final.groupby(['Time step', 'Sampling period', 'Transfer']).count()\n",
    "loss_df_final_new[['Time step', 'Sampling period', 'Transfer']] =  [list(x) for x in loss_df_final_new.index]"
   ]
  },
  {
   "cell_type": "code",
   "execution_count": 46,
   "metadata": {},
   "outputs": [
    {
     "data": {
      "image/png": "[encoded data removed]",
      "text/plain": [
       "<Figure size 463.8x216 with 2 Axes>"
      ]
     },
     "metadata": {
      "needs_background": "light"
     },
     "output_type": "display_data"
    }
   ],
   "source": [
    "g = sns.catplot(x=\"Sampling period\", y=\"Epoch\", hue=\"Transfer\",\n",
    "                col=\"Time step\", kind=\"bar\", data=loss_df_final_new,\n",
    "                height=3, aspect=.9)"
   ]
  },
  {
   "cell_type": "code",
   "execution_count": 47,
   "metadata": {},
   "outputs": [],
   "source": [
    "loss_df_final_new = loss_df_final.groupby(['Time step', 'Sampling period', 'Transfer']).min()\n",
    "loss_df_final_new[['Time step', 'Sampling period', 'Transfer']] =  [list(x) for x in loss_df_final_new.index]"
   ]
  },
  {
   "cell_type": "code",
   "execution_count": 48,
   "metadata": {},
   "outputs": [
    {
     "data": {
      "image/png": "[encoded data removed]",
      "text/plain": [
       "<Figure size 463.8x216 with 2 Axes>"
      ]
     },
     "metadata": {
      "needs_background": "light"
     },
     "output_type": "display_data"
    }
   ],
   "source": [
    "g = sns.catplot(x=\"Sampling period\", y=\"loss\", hue=\"Transfer\",\n",
    "                col=\"Time step\", kind=\"bar\", data=loss_df_final_new,\n",
    "                height=3, aspect=.9)"
   ]
  },
  {
   "cell_type": "code",
   "execution_count": 52,
   "metadata": {},
   "outputs": [
    {
     "name": "stdout",
     "output_type": "stream",
     "text": [
      "------------------------ Done ------------------------\n",
      "------------- Showing reconstruction example -----------\n",
      "1/1 [==============================] - 0s 37ms/step\n",
      "1/1 [==============================] - 0s 43ms/step\n"
     ]
    },
    {
     "data": {
      "image/png": "[encoded data removed]",
      "text/plain": [
       "<Figure size 864x288 with 6 Axes>"
      ]
     },
     "metadata": {
      "needs_background": "light"
     },
     "output_type": "display_data"
    }
   ],
   "source": [
    "#-------------------------------------------------------------------\n",
    "print(\"------------------------ Done ------------------------\")\n",
    "\n",
    "# Visualizing the training performance...........\n",
    "print(\"------------- Showing reconstruction example -----------\")\n",
    "input_image = x_train_seq[1000:1001].copy()\n",
    "encoded_image = encoder.predict(input_image)\n",
    "output_image = decoder.predict(encoded_image)\n",
    "recon_loss = np.abs(output_image - input_image)\n",
    "\n",
    "#------- Ploting the data -------------------\n",
    "fig, axes = plt.subplots(1, 3, figsize = (12, 4))\n",
    "\n",
    "sns.heatmap(input_image[0,:,:,0], ax = axes [0], vmin = 0, vmax = 1)\n",
    "axes[0].set_title(\"input_image\")\n",
    "sns.heatmap(encoded_image.reshape(16,-1), ax = axes[1], vmin = 0, vmax = 1)\n",
    "axes[1].set_title(\"encoded_image\")\n",
    "sns.heatmap(output_image[0,:,:,0], ax = axes[2], vmin = 0, vmax = 1)\n",
    "axes[2].set_title(\"output_image\")\n",
    "plt.tight_layout()\n",
    "# plt.savefig(f\"plots//{dataset}//Training_Loss_{key_key}.jpg\", dpi = 350)\n",
    "plt.show()\n",
    "#-----------------------------------------------------"
   ]
  },
  {
   "cell_type": "code",
   "execution_count": 53,
   "metadata": {},
   "outputs": [],
   "source": [
    "encoder_v2 = encoder"
   ]
  },
  {
   "cell_type": "code",
   "execution_count": 54,
   "metadata": {},
   "outputs": [],
   "source": [
    "# encoder_v2.get_weights() = 0\n",
    "# encoder_v2.get_weights()"
   ]
  },
  {
   "cell_type": "code",
   "execution_count": 55,
   "metadata": {},
   "outputs": [],
   "source": [
    "# from tensorflow.keras.models import load_model\n",
    "# sampling_period_to_look = 5\n",
    "# checkpoint_path_to_look = f\"AE_Models//autoendoer_canshield_{dataset}_{time_step}_{window_step}_{sampling_period_to_look}_{training_samples}.h5\"\n",
    "# print(checkpoint_path_to_look)\n",
    "# if file_exists(checkpoint_path_to_look) or sampling_period_to_look <= 1:\n",
    "#     print(\"We got something....\")\n",
    "#     try:\n",
    "#         autoencoder = load_model(checkpoint_path_to_look)\n",
    "#         print(f\"Loading the pre-trained model...{checkpoint_path_to_look}\")\n",
    "#     except:\n",
    "#         print(\"No model was found!!!!\")\n",
    "#         autoencoder = get_autoconder((time_step, noOfSignals, 1))\n",
    "#         print(\"Training from the scratch.....\") \n",
    "    \n",
    "# else:\n",
    "#     print(f\"Model does not exit.\")\n",
    "#     sampling_period_to_look -= 5 if sampling_period_to_look > 5 else 1\n",
    "#     print(f\"Looking for the next model..{sampling_period_to_look}\")"
   ]
  },
  {
   "cell_type": "code",
   "execution_count": 56,
   "metadata": {},
   "outputs": [],
   "source": [
    "# print(\"We got something....\")\n",
    "# try:\n",
    "#     autoencoder = load_model(checkpoint_path_to_look)\n",
    "#     print(f\"Loading the pre-trained model...{checkpoint_path_to_look}\")\n",
    "# except:\n",
    "#     print(\"No model was found!!!!\")\n",
    "#     autoencoder = get_autoconder((time_step, noOfSignals, 1))\n",
    "#     print(\"Training from the scratch.....\")"
   ]
  },
  {
   "cell_type": "code",
   "execution_count": 57,
   "metadata": {},
   "outputs": [],
   "source": [
    "# autoencoder = load_model(checkpoint_path_to_look)"
   ]
  },
  {
   "cell_type": "code",
   "execution_count": 58,
   "metadata": {},
   "outputs": [],
   "source": [
    "# checkpoint_path_to_look"
   ]
  },
  {
   "cell_type": "code",
   "execution_count": 59,
   "metadata": {},
   "outputs": [],
   "source": [
    "# with open(f\"Saved_Data//history_{key_key}.json\", \"w\") as outfile:\n",
    "#     json.dump(history, outfile)\n",
    "\n",
    "# autoencoder.save(checkpoint_path)"
   ]
  },
  {
   "cell_type": "code",
   "execution_count": 60,
   "metadata": {},
   "outputs": [],
   "source": [
    "# autoencoder.save(checkpoint_path)"
   ]
  },
  {
   "cell_type": "code",
   "execution_count": null,
   "metadata": {},
   "outputs": [],
   "source": []
  },
  {
   "cell_type": "code",
   "execution_count": null,
   "metadata": {},
   "outputs": [],
   "source": []
  },
  {
   "cell_type": "code",
   "execution_count": null,
   "metadata": {},
   "outputs": [],
   "source": []
  },
  {
   "cell_type": "code",
   "execution_count": null,
   "metadata": {},
   "outputs": [],
   "source": []
  },
  {
   "cell_type": "code",
   "execution_count": null,
   "metadata": {},
   "outputs": [],
   "source": []
  },
  {
   "cell_type": "code",
   "execution_count": null,
   "metadata": {},
   "outputs": [],
   "source": []
  },
  {
   "cell_type": "code",
   "execution_count": null,
   "metadata": {},
   "outputs": [],
   "source": []
  },
  {
   "cell_type": "code",
   "execution_count": null,
   "metadata": {},
   "outputs": [],
   "source": []
  },
  {
   "cell_type": "code",
   "execution_count": null,
   "metadata": {},
   "outputs": [],
   "source": [
    "# if time_step == 20:\n"
   ]
  },
  {
   "cell_type": "code",
   "execution_count": null,
   "metadata": {},
   "outputs": [],
   "source": [
    "encoded.shape"
   ]
  },
  {
   "cell_type": "code",
   "execution_count": null,
   "metadata": {},
   "outputs": [],
   "source": []
  },
  {
   "cell_type": "code",
   "execution_count": null,
   "metadata": {},
   "outputs": [],
   "source": [
    "def Encoder():\n",
    "    input_img = keras.Input(shape=(28, 28, 1))  # adapt this if using `channels_first` image data format   \n",
    "    e1 = Conv2D(16, (3, 3), activation='relu', padding='same')(input_img)\n",
    "    e2 = MaxPooling2D((2, 2), padding='same')(e1)\n",
    "    e3 = Conv2D(8, (3, 3), activation='relu', padding='same')(e2)\n",
    "    e4 = MaxPooling2D((2, 2), padding='same')(e3)\n",
    "    e5 = Conv2D(8, (3, 3), activation='relu', padding='same')(e4)\n",
    "    e6 = MaxPooling2D((2, 2), padding='same')(e5)\n",
    "    return keras.Model(input_img, e6)\n",
    "\n",
    "\n",
    "def Decoder():\n",
    "    input_img = keras.Input(shape=(4, 4, 8))  # adapt this if using `channels_first` image data format   \n",
    "    d1 = Conv2D(8, (3, 3), activation='relu', padding='same')(input_img)\n",
    "    d2 = UpSampling2D((2, 2))(d1)\n",
    "    d3 = Conv2D(8, (3, 3), activation='relu', padding='same')(d2)\n",
    "    d4 = UpSampling2D((2, 2))(d3)\n",
    "    d5 = Conv2D(16, (3, 3), activation='relu')(d4)\n",
    "    d6 = UpSampling2D((2, 2))(d5)\n",
    "    d7 = Conv2D(1, (3, 3), activation='sigmoid', padding='same')(d6)\n",
    "    return keras.Model(input_img, d7)\n",
    "\n",
    "\n",
    "# define input to the model:\n",
    "x = keras.Input(shape=(28, 28, 1))\n",
    "# make the model:\n",
    "encoder_model = Encoder()\n",
    "decoder_model = Decoder()\n",
    "autoencoder = keras.Model(x, decoder_model(encoder_model(x)))\n",
    "\n",
    "# compile the model:\n",
    "autoencoder.compile(optimizer='adadelta', loss='binary_crossentropy')\n",
    "autoencoder.summary()"
   ]
  },
  {
   "cell_type": "code",
   "execution_count": null,
   "metadata": {},
   "outputs": [],
   "source": []
  },
  {
   "cell_type": "code",
   "execution_count": null,
   "metadata": {},
   "outputs": [],
   "source": []
  },
  {
   "cell_type": "code",
   "execution_count": null,
   "metadata": {},
   "outputs": [],
   "source": [
    "import keras\n",
    "from keras import layers\n",
    "from keras import regularizers\n",
    "\n",
    "\n",
    "# This is the size of our encoded representations\n",
    "encoding_dim = 32  # 32 floats -> compression of factor 24.5, assuming the input is 784 floats\n",
    "\n",
    "# This is our input image\n",
    "input_img = keras.Input(shape=(784,))\n",
    "\n",
    "# # \"encoded\" is the encoded representation of the input\n",
    "# encoded = layers.Dense(encoding_dim, activation='relu')(input_img)\n",
    "# Add a Dense layer with a L1 activity regularizer\n",
    "encoded = layers.Dense(encoding_dim, activation='relu',\n",
    "                activity_regularizer=regularizers.l1(10e-5))(input_img)\n",
    "\n",
    "# \"decoded\" is the lossy reconstruction of the input\n",
    "decoded = layers.Dense(784, activation='sigmoid')(encoded)\n",
    "\n",
    "# This model maps an input to its reconstruction\n",
    "autoencoder = keras.Model(input_img, decoded)"
   ]
  },
  {
   "cell_type": "code",
   "execution_count": null,
   "metadata": {},
   "outputs": [],
   "source": []
  },
  {
   "cell_type": "code",
   "execution_count": null,
   "metadata": {},
   "outputs": [],
   "source": [
    "# This model maps an input to its encoded representation\n",
    "encoder = keras.Model(input_img, encoded)\n",
    "# This is our encoded (32-dimensional) input\n",
    "encoded_input = keras.Input(shape=(encoding_dim,))\n",
    "# Retrieve the last layer of the autoencoder model\n",
    "decoder_layer = autoencoder.layers[-1]\n",
    "# Create the decoder model\n",
    "decoder = keras.Model(encoded_input, decoder_layer(encoded_input))"
   ]
  },
  {
   "cell_type": "code",
   "execution_count": null,
   "metadata": {},
   "outputs": [],
   "source": [
    "autoencoder.compile(optimizer='adam', loss='binary_crossentropy')"
   ]
  },
  {
   "cell_type": "code",
   "execution_count": null,
   "metadata": {},
   "outputs": [],
   "source": [
    "from keras.datasets import mnist\n",
    "import numpy as np\n",
    "(x_train, _), (x_test, _) = mnist.load_data()"
   ]
  },
  {
   "cell_type": "code",
   "execution_count": null,
   "metadata": {},
   "outputs": [],
   "source": []
  },
  {
   "cell_type": "code",
   "execution_count": null,
   "metadata": {},
   "outputs": [],
   "source": []
  },
  {
   "cell_type": "code",
   "execution_count": null,
   "metadata": {},
   "outputs": [],
   "source": []
  },
  {
   "cell_type": "code",
   "execution_count": null,
   "metadata": {},
   "outputs": [],
   "source": []
  },
  {
   "cell_type": "code",
   "execution_count": null,
   "metadata": {},
   "outputs": [],
   "source": []
  },
  {
   "cell_type": "code",
   "execution_count": null,
   "metadata": {},
   "outputs": [],
   "source": [
    "x_train = x_train.astype('float32') / 255.\n",
    "x_test = x_test.astype('float32') / 255.\n",
    "x_train = x_train.reshape((len(x_train), np.prod(x_train.shape[1:])))\n",
    "x_test = x_test.reshape((len(x_test), np.prod(x_test.shape[1:])))\n",
    "print(x_train.shape)\n",
    "print(x_test.shape)\n"
   ]
  },
  {
   "cell_type": "code",
   "execution_count": null,
   "metadata": {},
   "outputs": [],
   "source": [
    "def Encoder():\n",
    "    input_img = keras.Input(shape=(28, 28, 1))  # adapt this if using `channels_first` image data format   \n",
    "    x = Conv2D(16, (3, 3), activation='relu', padding='same')(input_img)\n",
    "    x = MaxPooling2D((2, 2), padding='same')(x)\n",
    "    x = Conv2D(8, (3, 3), activation='relu', padding='same')(x)\n",
    "    x = MaxPooling2D((2, 2), padding='same')(x)\n",
    "#     x = Conv2D(8, (3, 3), activation='relu', padding='same')(x)\n",
    "#     x = MaxPooling2D((2, 2), padding='same')(x)\n",
    "    x = Conv2D(8, (3, 3), activation='relu', padding='same')(x)\n",
    "    x = MaxPooling2D((2, 2), padding='same')(x)\n",
    "    return keras.Model(input_img, x)\n",
    "\n",
    "\n",
    "def Decoder():\n",
    "    input_img = keras.Input(shape=(4, 4, 8))  # adapt this if using `channels_first` image data format   \n",
    "    x = Conv2D(8, (3, 3), activation='relu', padding='same')(input_img)\n",
    "    x = UpSampling2D((2, 2))(x)\n",
    "    x = Conv2D(8, (3, 3), activation='relu', padding='same')(x)\n",
    "    x = UpSampling2D((2, 2))(x)\n",
    "#     x = Conv2D(16, (3, 3), activation='relu')(x)\n",
    "#     x = UpSampling2D((2, 2))(x)\n",
    "    x = Conv2D(16, (3, 3), activation='relu')(x)\n",
    "    x = UpSampling2D((2, 2))(x)\n",
    "    x = Conv2D(1, (3, 3), activation='sigmoid', padding='same')(x)\n",
    "    return keras.Model(input_img, x)\n",
    "\n",
    "\n",
    "# define input to the model:\n",
    "x = keras.Input(shape=(28, 28, 1))\n",
    "# make the model:\n",
    "encoder_model = Encoder()\n",
    "decoder_model = Decoder()\n",
    "autoencoder = keras.Model(x, decoder_model(encoder_model(x)))\n",
    "\n",
    "# compile the model:\n",
    "autoencoder.compile(optimizer='adadelta', loss='binary_crossentropy')\n",
    "autoencoder.summary()"
   ]
  },
  {
   "cell_type": "code",
   "execution_count": null,
   "metadata": {},
   "outputs": [],
   "source": [
    "n_filters_list = [16, 8, 8, 4]\n",
    "crop_0 = ((2, 2), (2, 2))\n",
    "crop_10 = ((3, 3), (2, 2))\n",
    "crop_20 = ((2, 2), (2, 2))\n",
    "\n",
    "crop_grid = crop_0\n",
    "\n",
    "input_img = keras.Input(shape=(28, 28, 1))    \n",
    "x = input_img\n",
    "for n_filters in n_filters_list:    \n",
    "    x = Conv2D(n_filters, (3, 3), activation='relu', padding='same')(x)\n",
    "    x = MaxPooling2D((2, 2), padding='same')(x)\n",
    "# x = Flatten()(x)\n",
    "# x = Dense(16)(x)\n",
    "encoder = keras.Model(input_img, x)\n",
    "\n",
    "\n",
    "encoded_img = keras.Input(shape= x.shape[1][1:])  \n",
    "x = encoded_img\n",
    "# x = keras.layers.Reshape((2, 2, 4))(x)\n",
    "for n_filters in n_filters_list[::-1]:    \n",
    "    x = Conv2D(n_filters, (3, 3), activation='relu', padding='same')(x)\n",
    "    x = UpSampling2D((2, 2))(x)\n",
    "\n",
    "x = Conv2D(1, (3, 3), activation='sigmoid', padding='same')(x)\n",
    "decoded = layers.Cropping2D(cropping= crop_grid)(x)\n",
    "decoder = keras.Model(encoded_img, decoded)\n",
    "\n",
    "\n",
    "# define input to the model:\n",
    "x = keras.Input(shape=(28, 28, 1))\n",
    "# make the model:\n",
    "autoencoder = keras.Model(x, decoder(encoder(x)))\n",
    "\n",
    "# compile the model:\n",
    "autoencoder.compile(optimizer='adadelta', loss='binary_crossentropy')\n",
    "autoencoder.summary()"
   ]
  },
  {
   "cell_type": "code",
   "execution_count": null,
   "metadata": {},
   "outputs": [],
   "source": [
    "input_img = keras.Input(shape=(28, 28, 1))  # adapt this if using `channels_first` image data format   \n",
    "\n",
    "x = Conv2D(16, (3, 3), activation='relu', padding='same')(input_img)\n",
    "x = MaxPooling2D((2, 2), padding='same')(x)\n",
    "x = Conv2D(8, (3, 3), activation='relu', padding='same')(x)\n",
    "x = MaxPooling2D((2, 2), padding='same')(x)\n",
    "x = Conv2D(8, (3, 3), activation='relu', padding='same')(x)\n",
    "x = MaxPooling2D((2, 2), padding='same')(x)\n",
    "\n",
    "encoder = keras.Model(input_img, x)\n",
    "\n",
    "\n",
    "\n",
    "# adapt this if using `channels_first` image data format   \n",
    "encoded_img = keras.Input(shape= x.shape[1][1:])  \n",
    "x = Conv2D(8, (3, 3), activation='relu', padding='same')(encoded_img)\n",
    "x = UpSampling2D((2, 2))(x)\n",
    "x = Conv2D(8, (3, 3), activation='relu', padding='same')(x)\n",
    "x = UpSampling2D((2, 2))(x)\n",
    "x = Conv2D(16, (3, 3), activation='relu')(x)\n",
    "x = UpSampling2D((2, 2))(x)\n",
    "x = Conv2D(1, (3, 3), activation='sigmoid', padding='same')(x)\n",
    "decoder = keras.Model(encoded_img, x)\n",
    "\n",
    "\n",
    "# define input to the model:\n",
    "x = keras.Input(shape=(28, 28, 1))\n",
    "# make the model:\n",
    "autoencoder = keras.Model(x, decoder(encoder(x)))\n",
    "\n",
    "# compile the model:\n",
    "autoencoder.compile(optimizer='adadelta', loss='binary_crossentropy')\n",
    "autoencoder.summary()"
   ]
  },
  {
   "cell_type": "code",
   "execution_count": null,
   "metadata": {},
   "outputs": [],
   "source": [
    "encoder.summary()"
   ]
  },
  {
   "cell_type": "code",
   "execution_count": null,
   "metadata": {},
   "outputs": [],
   "source": [
    "decoder.summary()"
   ]
  },
  {
   "cell_type": "code",
   "execution_count": null,
   "metadata": {},
   "outputs": [],
   "source": [
    "from keras.datasets import mnist\n",
    "import numpy as np\n",
    "\n",
    "(x_train, _), (x_test, _) = mnist.load_data()\n",
    "\n",
    "x_train = x_train.astype('float32') / 255.\n",
    "x_test = x_test.astype('float32') / 255.\n",
    "x_train = np.reshape(x_train, (len(x_train), 28, 28, 1))\n",
    "x_test = np.reshape(x_test, (len(x_test), 28, 28, 1))"
   ]
  },
  {
   "cell_type": "code",
   "execution_count": null,
   "metadata": {},
   "outputs": [],
   "source": [
    "autoencoder.fit(x_train, x_train,\n",
    "                epochs=15,\n",
    "                batch_size=256,\n",
    "                shuffle=True,\n",
    "                validation_data=(x_test, x_test))"
   ]
  },
  {
   "cell_type": "code",
   "execution_count": null,
   "metadata": {},
   "outputs": [],
   "source": [
    "# Encode and decode some digits\n",
    "# Note that we take them from the *test* set\n",
    "encoded_imgs = encoder.predict(x_test)\n",
    "decoded_imgs = decoder.predict(encoded_imgs)\n",
    "\n",
    "# Use Matplotlib (don't ask)\n",
    "import matplotlib.pyplot as plt\n",
    "\n",
    "n = 10  # How many digits we will display\n",
    "plt.figure(figsize=(20, 4))\n",
    "for i in range(n):\n",
    "    # Display original\n",
    "    ax = plt.subplot(2, n, i + 1)\n",
    "    plt.imshow(x_test[i].reshape(28, 28))\n",
    "    plt.gray()\n",
    "    ax.get_xaxis().set_visible(False)\n",
    "    ax.get_yaxis().set_visible(False)\n",
    "\n",
    "    # Display reconstruction\n",
    "    ax = plt.subplot(2, n, i + 1 + n)\n",
    "    plt.imshow(decoded_imgs[i].reshape(28, 28))\n",
    "    plt.gray()\n",
    "    ax.get_xaxis().set_visible(False)\n",
    "    ax.get_yaxis().set_visible(False)\n",
    "plt.show()"
   ]
  },
  {
   "cell_type": "code",
   "execution_count": null,
   "metadata": {},
   "outputs": [],
   "source": [
    "plt.imshow(encoded_imgs[0].reshape(1,-1))"
   ]
  },
  {
   "cell_type": "code",
   "execution_count": null,
   "metadata": {},
   "outputs": [],
   "source": [
    "plt.imshow(encoded_imgs[1].reshape(1,-1))"
   ]
  },
  {
   "cell_type": "code",
   "execution_count": null,
   "metadata": {},
   "outputs": [],
   "source": [
    "plt.imshow(encoded_imgs[2].reshape(1,-1))"
   ]
  },
  {
   "cell_type": "code",
   "execution_count": null,
   "metadata": {},
   "outputs": [],
   "source": [
    "plt.imshow(encoded_imgs[3].reshape(1,-1))"
   ]
  },
  {
   "cell_type": "code",
   "execution_count": null,
   "metadata": {},
   "outputs": [],
   "source": [
    "\n",
    "    "
   ]
  },
  {
   "cell_type": "code",
   "execution_count": null,
   "metadata": {},
   "outputs": [],
   "source": [
    "pd.DataFrame(encoded_imgs[_ == 2]).hist()"
   ]
  },
  {
   "cell_type": "code",
   "execution_count": null,
   "metadata": {},
   "outputs": [],
   "source": []
  },
  {
   "cell_type": "code",
   "execution_count": null,
   "metadata": {},
   "outputs": [],
   "source": []
  },
  {
   "cell_type": "code",
   "execution_count": null,
   "metadata": {},
   "outputs": [],
   "source": []
  },
  {
   "cell_type": "code",
   "execution_count": null,
   "metadata": {},
   "outputs": [],
   "source": []
  },
  {
   "cell_type": "code",
   "execution_count": null,
   "metadata": {},
   "outputs": [],
   "source": []
  },
  {
   "cell_type": "code",
   "execution_count": null,
   "metadata": {},
   "outputs": [],
   "source": [
    "# Encode and decode some digits\n",
    "# Note that we take them from the *test* set\n",
    "encoded_imgs = encoder.predict(x_test)\n",
    "decoded_imgs = decoder.predict(encoded_imgs)\n",
    "\n",
    "# Use Matplotlib (don't ask)\n",
    "import matplotlib.pyplot as plt\n",
    "\n",
    "n = 10  # How many digits we will display\n",
    "plt.figure(figsize=(20, 4))\n",
    "for i in range(n):\n",
    "    # Display original\n",
    "    ax = plt.subplot(2, n, i + 1)\n",
    "    plt.imshow(x_test[i].reshape(28, 28))\n",
    "    plt.gray()\n",
    "    ax.get_xaxis().set_visible(False)\n",
    "    ax.get_yaxis().set_visible(False)\n",
    "\n",
    "    # Display reconstruction\n",
    "    ax = plt.subplot(2, n, i + 1 + n)\n",
    "    plt.imshow(decoded_imgs[i].reshape(28, 28))\n",
    "    plt.gray()\n",
    "    ax.get_xaxis().set_visible(False)\n",
    "    ax.get_yaxis().set_visible(False)\n",
    "plt.show()"
   ]
  },
  {
   "cell_type": "code",
   "execution_count": null,
   "metadata": {},
   "outputs": [],
   "source": [
    "plt.plot(decoded_imgs[0])"
   ]
  },
  {
   "cell_type": "code",
   "execution_count": null,
   "metadata": {},
   "outputs": [],
   "source": []
  },
  {
   "cell_type": "code",
   "execution_count": null,
   "metadata": {},
   "outputs": [],
   "source": [
    "input_img = keras.Input(shape=(784,))\n",
    "encoded = layers.Dense(128, activation='relu')(input_img)\n",
    "encoded = layers.Dense(64, activation='relu')(encoded)\n",
    "encoded = layers.Dense(32, activation='relu')(encoded)\n",
    "\n",
    "decoded = layers.Dense(64, activation='relu')(encoded)\n",
    "decoded = layers.Dense(128, activation='relu')(decoded)\n",
    "decoded = layers.Dense(784, activation='sigmoid')(decoded)\n",
    "\n",
    "autoencoder = keras.Model(input_img, decoded)\n",
    "\n",
    "# This model maps an input to its encoded representation\n",
    "encoder = keras.Model(input_img, encoded)\n",
    "\n",
    "# This is our encoded (32-dimensional) input\n",
    "encoded_input = keras.Input(shape=(encoding_dim,))\n",
    "# Retrieve the last layer of the autoencoder model\n",
    "decoder_layer = autoencoder.layers[-1]\n",
    "# Create the decoder model\n",
    "decoder = keras.Model(encoded_input, decoder_layer(encoded_input))"
   ]
  },
  {
   "cell_type": "code",
   "execution_count": null,
   "metadata": {},
   "outputs": [],
   "source": [
    "encoded"
   ]
  },
  {
   "cell_type": "code",
   "execution_count": null,
   "metadata": {},
   "outputs": [],
   "source": [
    "encoded.shape[1][1:]"
   ]
  },
  {
   "cell_type": "code",
   "execution_count": null,
   "metadata": {},
   "outputs": [],
   "source": [
    "input_img"
   ]
  },
  {
   "cell_type": "code",
   "execution_count": null,
   "metadata": {},
   "outputs": [],
   "source": [
    "encoder = keras.Model(input_img, encoded)\n",
    "encoder.summary()"
   ]
  },
  {
   "cell_type": "code",
   "execution_count": null,
   "metadata": {},
   "outputs": [],
   "source": [
    "encoded.shape[1]"
   ]
  },
  {
   "cell_type": "code",
   "execution_count": null,
   "metadata": {},
   "outputs": [],
   "source": [
    "decoder = keras.Model(encoded.shape, decoded)\n",
    "decoder.summary()"
   ]
  },
  {
   "cell_type": "code",
   "execution_count": null,
   "metadata": {},
   "outputs": [],
   "source": [
    "autoencoder.compile(optimizer='adam', loss='binary_crossentropy')\n",
    "\n",
    "autoencoder.fit(x_train, x_train,\n",
    "                epochs=100,\n",
    "                batch_size=256,\n",
    "                shuffle=True,\n",
    "                validation_data=(x_test, x_test))"
   ]
  },
  {
   "cell_type": "code",
   "execution_count": null,
   "metadata": {},
   "outputs": [],
   "source": [
    "# Encode and decode some digits\n",
    "# Note that we take them from the *test* set\n",
    "encoded_imgs = encoder.predict(x_test)\n",
    "decoded_imgs = decoder.predict(encoded_imgs)\n",
    "\n",
    "# Use Matplotlib (don't ask)\n",
    "import matplotlib.pyplot as plt\n",
    "\n",
    "n = 10  # How many digits we will display\n",
    "plt.figure(figsize=(20, 4))\n",
    "for i in range(n):\n",
    "    # Display original\n",
    "    ax = plt.subplot(2, n, i + 1)\n",
    "    plt.imshow(x_test[i].reshape(28, 28))\n",
    "    plt.gray()\n",
    "    ax.get_xaxis().set_visible(False)\n",
    "    ax.get_yaxis().set_visible(False)\n",
    "\n",
    "    # Display reconstruction\n",
    "    ax = plt.subplot(2, n, i + 1 + n)\n",
    "    plt.imshow(decoded_imgs[i].reshape(28, 28))\n",
    "    plt.gray()\n",
    "    ax.get_xaxis().set_visible(False)\n",
    "    ax.get_yaxis().set_visible(False)\n",
    "plt.show()"
   ]
  },
  {
   "cell_type": "code",
   "execution_count": null,
   "metadata": {},
   "outputs": [],
   "source": []
  },
  {
   "cell_type": "code",
   "execution_count": null,
   "metadata": {},
   "outputs": [],
   "source": [
    "import keras\n",
    "from keras import layers\n",
    "\n",
    "input_img = keras.Input(shape=(28, 28, 1))\n",
    "\n",
    "x = layers.Conv2D(16, (3, 3), activation='relu', padding='same')(input_img)\n",
    "x = layers.MaxPooling2D((2, 2), padding='same')(x)\n",
    "x = layers.Conv2D(8, (3, 3), activation='relu', padding='same')(x)\n",
    "x = layers.MaxPooling2D((2, 2), padding='same')(x)\n",
    "x = layers.Conv2D(8, (3, 3), activation='relu', padding='same')(x)\n",
    "encoded = layers.MaxPooling2D((2, 2), padding='same')(x)\n",
    "\n",
    "# at this point the representation is (4, 4, 8) i.e. 128-dimensional\n",
    "\n",
    "x = layers.Conv2D(8, (3, 3), activation='relu', padding='same')(encoded)\n",
    "x = layers.UpSampling2D((2, 2))(x)\n",
    "x = layers.Conv2D(8, (3, 3), activation='relu', padding='same')(x)\n",
    "x = layers.UpSampling2D((2, 2))(x)\n",
    "x = layers.Conv2D(16, (3, 3), activation='relu')(x)\n",
    "x = layers.UpSampling2D((2, 2))(x)\n",
    "decoded = layers.Conv2D(1, (3, 3), activation='sigmoid', padding='same')(x)\n",
    "\n",
    "autoencoder = keras.Model(input_img, decoded)\n",
    "autoencoder.compile(optimizer='adam', loss='binary_crossentropy')\n",
    "autoencoder.summary()"
   ]
  },
  {
   "cell_type": "code",
   "execution_count": null,
   "metadata": {},
   "outputs": [],
   "source": [
    "input_img"
   ]
  },
  {
   "cell_type": "code",
   "execution_count": null,
   "metadata": {},
   "outputs": [],
   "source": [
    "encoder = keras.Model(input_img, encoded)\n",
    "encoder.summary()"
   ]
  },
  {
   "cell_type": "code",
   "execution_count": null,
   "metadata": {},
   "outputs": [],
   "source": [
    "input_img_d = keras.Input(shape= (4,4,8))\n",
    "input_img_d"
   ]
  },
  {
   "cell_type": "code",
   "execution_count": null,
   "metadata": {},
   "outputs": [],
   "source": [
    "autoencoder.layers[7:]"
   ]
  },
  {
   "cell_type": "code",
   "execution_count": null,
   "metadata": {},
   "outputs": [],
   "source": [
    "# This model maps an input to its encoded representation\n",
    "encoder = keras.Model(input_img, encoded)\n",
    "# This is our encoded (32-dimensional) input\n",
    "encoded_input = keras.Input(shape=(4,4,8,))\n",
    "\n",
    "# Retrieve the last layer of the autoencoder model\n",
    "# decoder_layer = autoencoder.layers[7:]\n",
    "# Create the decoder model\n",
    "decoder = keras.Model(encoded_input, decoded)\n",
    "decoder.summary()"
   ]
  },
  {
   "cell_type": "code",
   "execution_count": null,
   "metadata": {},
   "outputs": [],
   "source": [
    "decoder_layer"
   ]
  },
  {
   "cell_type": "code",
   "execution_count": null,
   "metadata": {},
   "outputs": [],
   "source": []
  },
  {
   "cell_type": "code",
   "execution_count": null,
   "metadata": {},
   "outputs": [],
   "source": []
  },
  {
   "cell_type": "code",
   "execution_count": null,
   "metadata": {},
   "outputs": [],
   "source": []
  },
  {
   "cell_type": "code",
   "execution_count": null,
   "metadata": {},
   "outputs": [],
   "source": []
  }
 ],
 "metadata": {
  "colab": {
   "collapsed_sections": [],
   "name": "timeseries_anomaly_detection",
   "provenance": [],
   "toc_visible": true
  },
  "kernelspec": {
   "display_name": "Python 3.x",
   "language": "python",
   "name": "python3"
  },
  "language_info": {
   "codemirror_mode": {
    "name": "ipython",
    "version": 3
   },
   "file_extension": ".py",
   "mimetype": "text/x-python",
   "name": "python",
   "nbconvert_exporter": "python",
   "pygments_lexer": "ipython3",
   "version": "3"
  },
  "vscode": {
   "interpreter": {
    "hash": "31f2aee4e71d21fbe5cf8b01ff0e069b9275f58929596ceb00d14d90e3e16cd6"
   }
  }
 },
 "nbformat": 4,
 "nbformat_minor": 1
}
