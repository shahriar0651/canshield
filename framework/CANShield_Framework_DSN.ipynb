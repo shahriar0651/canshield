{
 "cells": [
  {
   "cell_type": "code",
   "execution_count": 3,
   "id": "copyrighted-denial",
   "metadata": {},
   "outputs": [],
   "source": [
    "# importing libraries.......\n",
    "import pandas as pd\n",
    "import numpy as np\n",
    "import matplotlib.pyplot as plt\n",
    "import csv\n",
    "from tensorflow.keras.models import load_model\n",
    "import tensorflow as tf\n",
    "import matplotlib.pyplot as plt\n",
    "import datetime"
   ]
  },
  {
   "cell_type": "code",
   "execution_count": 4,
   "id": "collective-following",
   "metadata": {},
   "outputs": [
    {
     "ename": "FileNotFoundError",
     "evalue": "[Errno 2] No such file or directory: 'SynCAN Data Cut/test_flooding_cut.csv'",
     "output_type": "error",
     "traceback": [
      "\u001b[0;31m---------------------------------------------------------------------------\u001b[0m",
      "\u001b[0;31mFileNotFoundError\u001b[0m                         Traceback (most recent call last)",
      "\u001b[0;32m<ipython-input-4-655081fa330a>\u001b[0m in \u001b[0;36m<module>\u001b[0;34m\u001b[0m\n\u001b[1;32m     26\u001b[0m \u001b[0mdata_dir\u001b[0m \u001b[0;34m=\u001b[0m \u001b[0mfolder_dir\u001b[0m\u001b[0;34m+\u001b[0m\u001b[0mtarget_file\u001b[0m\u001b[0;34m+\u001b[0m\u001b[0;34m'_cut.csv'\u001b[0m\u001b[0;34m\u001b[0m\u001b[0;34m\u001b[0m\u001b[0m\n\u001b[1;32m     27\u001b[0m \u001b[0;34m\u001b[0m\u001b[0m\n\u001b[0;32m---> 28\u001b[0;31m \u001b[0;32mwith\u001b[0m \u001b[0mopen\u001b[0m\u001b[0;34m(\u001b[0m\u001b[0mdata_dir\u001b[0m\u001b[0;34m,\u001b[0m\u001b[0;34m'r'\u001b[0m\u001b[0;34m)\u001b[0m \u001b[0;32mas\u001b[0m \u001b[0mdest_f\u001b[0m\u001b[0;34m:\u001b[0m\u001b[0;34m\u001b[0m\u001b[0;34m\u001b[0m\u001b[0m\n\u001b[0m\u001b[1;32m     29\u001b[0m     data_iter = csv.reader(dest_f,\n\u001b[1;32m     30\u001b[0m                            \u001b[0mdelimiter\u001b[0m \u001b[0;34m=\u001b[0m \u001b[0;34m','\u001b[0m\u001b[0;34m,\u001b[0m\u001b[0;34m\u001b[0m\u001b[0;34m\u001b[0m\u001b[0m\n",
      "\u001b[0;31mFileNotFoundError\u001b[0m: [Errno 2] No such file or directory: 'SynCAN Data Cut/test_flooding_cut.csv'"
     ]
    }
   ],
   "source": [
    "# Loading parameters and dataset\n",
    "platform = \"PC\"\n",
    "\n",
    "if platform != \"PC\":\n",
    "    \n",
    "    #import libraries for led blinking\n",
    "    from gpiozero import LED\n",
    "\n",
    "    # Defining three LEDs\n",
    "    dataLED = LED(23)\n",
    "    attackLED = LED(24)\n",
    "    detectionLED = LED(25)\n",
    "\n",
    "\n",
    "# Defining IDs and number of associated signals\n",
    "list_of_ids = list(range(1, 11))\n",
    "num_of_id = [2, 3, 2, 1, 2, 2, 2, 1, 1, 4]\n",
    "num_sigs_per_id = {}\n",
    "for can_id, n_id in zip(list_of_ids, num_of_id):\n",
    "    num_sigs_per_id[can_id] = n_id\n",
    "\n",
    "\n",
    "# #Loading Raw Data Frame\n",
    "folder_dir = 'SynCAN Data Cut/'\n",
    "target_file = \"test_flooding\"\n",
    "data_dir = folder_dir+target_file+'_cut.csv'\n",
    "\n",
    "with open(data_dir,'r') as dest_f:\n",
    "    data_iter = csv.reader(dest_f,\n",
    "                           delimiter = ',',\n",
    "                           quotechar = '\"')\n",
    "    data = [data for data in data_iter]\n",
    "df_raw = pd.DataFrame(data)\n",
    "df_raw.columns = ['Label', 'Time', 'ID','Signal1', 'Signal2', 'Signal3', 'Signal4']\n",
    "df_raw = df_raw.drop(0)"
   ]
  },
  {
   "cell_type": "code",
   "execution_count": 3,
   "id": "acknowledged-picture",
   "metadata": {},
   "outputs": [],
   "source": [
    "# collected signals...\n",
    "signals_in_cluster = ['Sig_2_of_ID_7',\n",
    " 'Sig_2_of_ID_1',\n",
    " 'Sig_1_of_ID_3',\n",
    " 'Sig_2_of_ID_10',\n",
    " 'Sig_2_of_ID_6',\n",
    " 'Sig_1_of_ID_8',\n",
    " 'Sig_3_of_ID_2',\n",
    " 'Sig_1_of_ID_5',\n",
    " 'Sig_1_of_ID_4',\n",
    " 'Sig_1_of_ID_6',\n",
    " 'Sig_2_of_ID_5',\n",
    " 'Sig_3_of_ID_10',\n",
    " 'Sig_2_of_ID_3',\n",
    " 'Sig_1_of_ID_2',\n",
    " 'Sig_1_of_ID_7',\n",
    " 'Sig_2_of_ID_2',\n",
    " 'Sig_1_of_ID_1',\n",
    " 'Sig_4_of_ID_10',\n",
    " 'Sig_1_of_ID_10',\n",
    " 'Sig_1_of_ID_9']"
   ]
  },
  {
   "cell_type": "code",
   "execution_count": 6,
   "id": "awful-albuquerque",
   "metadata": {},
   "outputs": [],
   "source": [
    "time_data = []"
   ]
  },
  {
   "cell_type": "code",
   "execution_count": 7,
   "id": "apart-display",
   "metadata": {},
   "outputs": [],
   "source": [
    "dataset = 'syncan'"
   ]
  },
  {
   "cell_type": "code",
   "execution_count": 8,
   "id": "adjusted-advancement",
   "metadata": {},
   "outputs": [
    {
     "name": "stdout",
     "output_type": "stream",
     "text": [
      "Initiating analysis....  25\n"
     ]
    }
   ],
   "source": [
    "for model_type in ['Original', 'Lite']:\n",
    "    for w in [20, 50, 100]:\n",
    "    # for w in [25]:\n",
    "        # Design hyper-parameters....\n",
    "        T_xs = [1]\n",
    "        q = max(T_xs)*w\n",
    "        n = len(signals_in_cluster)\n",
    "\n",
    "        # Loading autoencoders....\n",
    "        autoencoders = {}\n",
    "        interpreters = {}\n",
    "\n",
    "        for T_x in T_xs:\n",
    "\n",
    "            if model_type =='Orignial':\n",
    "                filename = f'framework/models/original_models//Autoencoder_Final_{w}_1_{T_x}_True.h5'\n",
    "                autoencoders[T_x] = load_model(filename)\n",
    "            else:\n",
    "                # Converting saved model to a TensorFlow Lite model.\n",
    "                filename = f'framework/models/lite_models//Autoencoder_Final_{w}_1_{T_x}_True'\n",
    "                converter = tf.lite.TFLiteConverter.from_saved_model(filename)\n",
    "                tflite_model = converter.convert()\n",
    "                # Set interpreter...\n",
    "                interpreters[T_x] = tf.lite.Interpreter(model_content=tflite_model)\n",
    "                \n",
    "\n",
    "\n",
    "        #Setting up thresholds....\n",
    "        R_loss = np.random.rand(n)\n",
    "        R_time = (np.random.rand(n)*n).astype(int)\n",
    "        R_signal = np.random.randint(n)\n",
    "\n",
    "\n",
    "        # Initiating the dataQ\n",
    "        dataQ = pd.DataFrame(np.zeros((q, n), dtype = float), columns = signals_in_cluster)\n",
    "        dataQ.index = dataQ.index + 1\n",
    "\n",
    "        print(\"Initiating analysis.... \", w)\n",
    "        for index, data in enumerate(df_raw.values):   \n",
    "\n",
    "            begin_time = datetime.datetime.now()\n",
    "            #Reading data from the CAN bus in decoded foramt\n",
    "            can_id = int(data[2][2:])\n",
    "            signals_reported = [f'Sig_{i+1}_of_ID_{can_id}' for i in range(num_sigs_per_id[can_id])]\n",
    "            signals_missing = set(signals_in_cluster) - set(signals_reported)\n",
    "\n",
    "            # Updating dataQ    \n",
    "            new_data = [float(x) for x in data[3:3+num_sigs_per_id[can_id]]].copy()\n",
    "            dataQ.loc[2:q] = dataQ.loc[1:q-1].values.copy()\n",
    "            dataQ.loc[1, signals_reported] = new_data.copy()\n",
    "            dataQ.loc[1, signals_missing] = dataQ.loc[2, signals_missing].copy()\n",
    "            time_elapsed = datetime.datetime.now() - begin_time\n",
    "            time_needed_dataQ = float(time_elapsed.total_seconds())\n",
    "\n",
    "\n",
    "            #Creating different views and predicting reconstrcuted image\n",
    "            anomaly_S_ens = 0\n",
    "        #     prediction_time = 0\n",
    "        #     analysis_time = 0\n",
    "\n",
    "\n",
    "            for T_x in T_xs:       \n",
    "\n",
    "                prediction_time = 0\n",
    "                analysis_time = 0\n",
    "\n",
    "                # Creating different views.....\n",
    "                #starting timer\n",
    "\n",
    "                \n",
    "                dataV_org = dataQ.loc[1:(w*T_x):T_x].values.reshape(1, w, n, 1).copy()\n",
    "                \n",
    "                if model_type != 'Original':\n",
    "                    dataV_org = np.array(dataV_org.values, dtype=np.float32)\n",
    "\n",
    "                begin_time = datetime.datetime.now()\n",
    "\n",
    "                # Predict.....\n",
    "                if model_type == 'Original':\n",
    "                    dataV_recon = autoencoders[T_x].predict(dataV_org)\n",
    "                \n",
    "                else:\n",
    "                    interpreter = interpreters[T_x]\n",
    "                    interpreter.allocate_tensors() \n",
    "                    #get input and output tensors\n",
    "                    input_details = interpreter.get_input_details()\n",
    "                    output_details = interpreter.get_output_details()\n",
    "\n",
    "                    #set the tensor to point to the input data to be inferred\n",
    "                    input_index = input_details[0][\"index\"]\n",
    "                    interpreter.set_tensor(input_index, dataV_recon)\n",
    "                    #Run the inference\n",
    "                    interpreter.invoke()\n",
    "                    output_details = interpreter.get_output_details()\n",
    "                    # Output\n",
    "                    dataV_recon = interpreter.get_tensor(output_details[0]['index'])\n",
    "                    \n",
    "\n",
    "                        \n",
    "\n",
    "                #stopping timer\n",
    "                time_elapsed = datetime.datetime.now() - begin_time\n",
    "                prediction_time += float(time_elapsed.total_seconds())\n",
    "                \n",
    "    #             dataV_recon = dataV_recon[0,:,:,0].copy()\n",
    "\n",
    "                #starting timer\n",
    "                begin_time = datetime.datetime.now()\n",
    "\n",
    "                dataV_loss = abs(dataV_org - dataV_recon)[0,:,:,0].copy()\n",
    "                #finding anomaly scores for individual models...\n",
    "                anomaly_B = (dataV_loss > R_loss).astype(int)\n",
    "                anomaly_C = np.sum(anomaly_B,0)\n",
    "                anomaly_S = np.sum(anomaly_C > R_time)\n",
    "                anomaly_S_ens += anomaly_S\n",
    "\n",
    "                #stopping timer\n",
    "                time_elapsed = datetime.datetime.now() - begin_time\n",
    "                analysis_time  += float(time_elapsed.total_seconds())\n",
    "\n",
    "                time_data.append([w, T_x, time_needed_dataQ, prediction_time, analysis_time, model_type])\n",
    "\n",
    "\n",
    "\n",
    "        #         if anomaly_S > R_signal:\n",
    "        #             predictions[T_x].append(1)\n",
    "        #         else:\n",
    "        #             predictions[T_x].append(0)    \n",
    "\n",
    "\n",
    "            # Checking the final ensemble score..\n",
    "        #     if anomaly_S_ens > R_signal_ens:\n",
    "        #         predictions['Ens'].append(1)\n",
    "        #     else:\n",
    "        #         predictions['Ens'].append(0)   \n",
    "\n",
    "        #     time_data.append([w, T_x, time_needed_dataQ, prediction_time, analysis_time])\n",
    "\n",
    "            if index == 100:\n",
    "                break"
   ]
  },
  {
   "cell_type": "code",
   "execution_count": 9,
   "id": "demonstrated-daughter",
   "metadata": {},
   "outputs": [],
   "source": [
    "time_df = pd.DataFrame(time_data, columns = ['w', 'Tx', 'Data Queue', 'Prediction', 'Analysis'])"
   ]
  },
  {
   "cell_type": "code",
   "execution_count": 10,
   "id": "going-arabic",
   "metadata": {},
   "outputs": [],
   "source": [
    "time_df.to_csv('time_df.csv', header = True, index = True)"
   ]
  },
  {
   "cell_type": "code",
   "execution_count": 11,
   "id": "departmental-mobile",
   "metadata": {},
   "outputs": [
    {
     "data": {
      "text/plain": [
       "<AxesSubplot:xlabel='w', ylabel='Prediction'>"
      ]
     },
     "execution_count": 11,
     "metadata": {},
     "output_type": "execute_result"
    },
    {
     "data": {
      "image/png": "[encoded data removed]",
      "text/plain": [
       "<Figure size 432x288 with 1 Axes>"
      ]
     },
     "metadata": {
      "needs_background": "light"
     },
     "output_type": "display_data"
    }
   ],
   "source": [
    "import seaborn as sns\n",
    "sns.barplot(data = time_df, x = 'w', y = 'Prediction')\n",
    "# sns.barplot(data = time_df, x = 'w', y = 'Data Queue')\n",
    "# sns.barplot(data = time_df, x = 'w', y = 'Analysis')"
   ]
  },
  {
   "cell_type": "code",
   "execution_count": 12,
   "id": "spanish-multiple",
   "metadata": {},
   "outputs": [
    {
     "name": "stdout",
     "output_type": "stream",
     "text": [
      "Model: \"sequential\"\n",
      "_________________________________________________________________\n",
      "Layer (type)                 Output Shape              Param #   \n",
      "=================================================================\n",
      "zero_padding2d (ZeroPadding2 (None, 29, 24, 1)         0         \n",
      "_________________________________________________________________\n",
      "conv2d (Conv2D)              (None, 29, 24, 16)        272       \n",
      "_________________________________________________________________\n",
      "leaky_re_lu (LeakyReLU)      (None, 29, 24, 16)        0         \n",
      "_________________________________________________________________\n",
      "max_pooling2d (MaxPooling2D) (None, 15, 12, 16)        0         \n",
      "_________________________________________________________________\n",
      "conv2d_1 (Conv2D)            (None, 15, 12, 8)         1160      \n",
      "_________________________________________________________________\n",
      "leaky_re_lu_1 (LeakyReLU)    (None, 15, 12, 8)         0         \n",
      "_________________________________________________________________\n",
      "max_pooling2d_1 (MaxPooling2 (None, 8, 6, 8)           0         \n",
      "_________________________________________________________________\n",
      "conv2d_2 (Conv2D)            (None, 8, 6, 8)           584       \n",
      "_________________________________________________________________\n",
      "leaky_re_lu_2 (LeakyReLU)    (None, 8, 6, 8)           0         \n",
      "_________________________________________________________________\n",
      "max_pooling2d_2 (MaxPooling2 (None, 4, 3, 8)           0         \n",
      "_________________________________________________________________\n",
      "conv2d_3 (Conv2D)            (None, 4, 3, 12)          876       \n",
      "_________________________________________________________________\n",
      "leaky_re_lu_3 (LeakyReLU)    (None, 4, 3, 12)          0         \n",
      "_________________________________________________________________\n",
      "up_sampling2d (UpSampling2D) (None, 8, 6, 12)          0         \n",
      "_________________________________________________________________\n",
      "conv2d_4 (Conv2D)            (None, 8, 6, 12)          1308      \n",
      "_________________________________________________________________\n",
      "leaky_re_lu_4 (LeakyReLU)    (None, 8, 6, 12)          0         \n",
      "_________________________________________________________________\n",
      "up_sampling2d_1 (UpSampling2 (None, 16, 12, 12)        0         \n",
      "_________________________________________________________________\n",
      "conv2d_5 (Conv2D)            (None, 16, 12, 16)        3088      \n",
      "_________________________________________________________________\n",
      "leaky_re_lu_5 (LeakyReLU)    (None, 16, 12, 16)        0         \n",
      "_________________________________________________________________\n",
      "up_sampling2d_2 (UpSampling2 (None, 32, 24, 16)        0         \n",
      "_________________________________________________________________\n",
      "conv2d_6 (Conv2D)            (None, 32, 24, 1)         145       \n",
      "_________________________________________________________________\n",
      "cropping2d (Cropping2D)      (None, 25, 20, 1)         0         \n",
      "=================================================================\n",
      "Total params: 7,433\n",
      "Trainable params: 7,433\n",
      "Non-trainable params: 0\n",
      "_________________________________________________________________\n"
     ]
    }
   ],
   "source": [
    "autoencoders[1].summary()"
   ]
  },
  {
   "cell_type": "code",
   "execution_count": 21,
   "id": "affecting-doubt",
   "metadata": {},
   "outputs": [
    {
     "data": {
      "text/plain": [
       "-208.29669998586178"
      ]
     },
     "execution_count": 21,
     "metadata": {},
     "output_type": "execute_result"
    }
   ],
   "source": [
    "df_raw['Time'] = df_raw['Time'].astype(float)\n",
    "\n",
    "df_raw['Time'][0:100].iloc[0] - df_raw['Time'][0:100].iloc[-1]"
   ]
  },
  {
   "cell_type": "code",
   "execution_count": 19,
   "id": "reliable-conversation",
   "metadata": {},
   "outputs": [
    {
     "data": {
      "text/plain": [
       "81008449.4467"
      ]
     },
     "execution_count": 19,
     "metadata": {},
     "output_type": "execute_result"
    }
   ],
   "source": [
    "df_raw['Time'][0:100][1]"
   ]
  },
  {
   "cell_type": "code",
   "execution_count": null,
   "id": "interracial-ceramic",
   "metadata": {},
   "outputs": [],
   "source": []
  }
 ],
 "metadata": {
  "kernelspec": {
   "display_name": "Python 3.7.10 ('tensorgpu')",
   "language": "python",
   "name": "python3"
  },
  "language_info": {
   "codemirror_mode": {
    "name": "ipython",
    "version": 3
   },
   "file_extension": ".py",
   "mimetype": "text/x-python",
   "name": "python",
   "nbconvert_exporter": "python",
   "pygments_lexer": "ipython3",
   "version": "3.7.10"
  },
  "vscode": {
   "interpreter": {
    "hash": "84d637a6a3a7b981a4fbf48991c21aa6fcebe6ca604a1565b865c678147956c7"
   }
  }
 },
 "nbformat": 4,
 "nbformat_minor": 5
}
