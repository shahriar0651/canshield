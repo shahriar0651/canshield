{
 "cells": [
  {
   "cell_type": "code",
   "execution_count": 9,
   "id": "copyrighted-denial",
   "metadata": {},
   "outputs": [],
   "source": [
    "# importing libraries.......\n",
    "import pandas as pd\n",
    "import numpy as np\n",
    "import matplotlib.pyplot as plt\n",
    "import csv\n",
    "from tensorflow.keras.models import load_model\n",
    "import tensorflow as tf\n",
    "import matplotlib.pyplot as plt\n",
    "import datetime"
   ]
  },
  {
   "cell_type": "code",
   "execution_count": 13,
   "id": "collective-following",
   "metadata": {},
   "outputs": [],
   "source": [
    "# Loading parameters and dataset\n",
    "platform = \"PC\"\n",
    "\n",
    "if platform != \"PC\":\n",
    "    \n",
    "    #import libraries for led blinking\n",
    "    from gpiozero import LED\n",
    "\n",
    "    # Defining three LEDs\n",
    "    dataLED = LED(23)\n",
    "    attackLED = LED(24)\n",
    "    detectionLED = LED(25)\n",
    "\n",
    "\n",
    "# Defining IDs and number of associated signals\n",
    "list_of_ids = list(range(1, 11))\n",
    "num_of_id = [2, 3, 2, 1, 2, 2, 2, 1, 1, 4]\n",
    "num_sigs_per_id = {}\n",
    "for can_id, n_id in zip(list_of_ids, num_of_id):\n",
    "    num_sigs_per_id[can_id] = n_id\n",
    "\n",
    "\n",
    "# #Loading Raw Data Frame\n",
    "folder_dir = 'data/syncan_cut/'\n",
    "target_file = \"test_flooding\"\n",
    "data_dir = folder_dir+target_file+'_cut.csv'\n",
    "\n",
    "with open(data_dir,'r') as dest_f:\n",
    "    data_iter = csv.reader(dest_f,\n",
    "                           delimiter = ',',\n",
    "                           quotechar = '\"')\n",
    "    data = [data for data in data_iter]\n",
    "df_raw = pd.DataFrame(data)\n",
    "df_raw.columns = ['Label', 'Time', 'ID','Signal1', 'Signal2', 'Signal3', 'Signal4']\n",
    "df_raw = df_raw.drop(0)"
   ]
  },
  {
   "cell_type": "code",
   "execution_count": null,
   "id": "34857a7e",
   "metadata": {},
   "outputs": [],
   "source": []
  },
  {
   "cell_type": "code",
   "execution_count": 14,
   "id": "acknowledged-picture",
   "metadata": {},
   "outputs": [],
   "source": [
    "# collected signals...\n",
    "signals_in_cluster = ['Sig_2_of_ID_7',\n",
    " 'Sig_2_of_ID_1',\n",
    " 'Sig_1_of_ID_3',\n",
    " 'Sig_2_of_ID_10',\n",
    " 'Sig_2_of_ID_6',\n",
    " 'Sig_1_of_ID_8',\n",
    " 'Sig_3_of_ID_2',\n",
    " 'Sig_1_of_ID_5',\n",
    " 'Sig_1_of_ID_4',\n",
    " 'Sig_1_of_ID_6',\n",
    " 'Sig_2_of_ID_5',\n",
    " 'Sig_3_of_ID_10',\n",
    " 'Sig_2_of_ID_3',\n",
    " 'Sig_1_of_ID_2',\n",
    " 'Sig_1_of_ID_7',\n",
    " 'Sig_2_of_ID_2',\n",
    " 'Sig_1_of_ID_1',\n",
    " 'Sig_4_of_ID_10',\n",
    " 'Sig_1_of_ID_10',\n",
    " 'Sig_1_of_ID_9']"
   ]
  },
  {
   "cell_type": "code",
   "execution_count": 15,
   "id": "awful-albuquerque",
   "metadata": {},
   "outputs": [],
   "source": [
    "time_data = []"
   ]
  },
  {
   "cell_type": "code",
   "execution_count": 16,
   "id": "apart-display",
   "metadata": {},
   "outputs": [],
   "source": [
    "dataset = 'syncan'"
   ]
  },
  {
   "cell_type": "code",
   "execution_count": 32,
   "id": "adjusted-advancement",
   "metadata": {},
   "outputs": [
    {
     "name": "stdout",
     "output_type": "stream",
     "text": [
      "Initiating analysis....  20\n",
      "Initiating analysis....  50\n",
      "Initiating analysis....  100\n",
      "Initiating analysis....  20\n",
      "Initiating analysis....  50\n",
      "Initiating analysis....  100\n"
     ]
    }
   ],
   "source": [
    "for model_type in ['Original', 'Lite']:\n",
    "    for w in [20, 50, 100]:\n",
    "    # for w in [25]:\n",
    "        # Design hyper-parameters....\n",
    "        T_xs = [1]\n",
    "        q = max(T_xs)*w\n",
    "        n = len(signals_in_cluster)\n",
    "\n",
    "        # Loading autoencoders....\n",
    "        autoencoders = {}\n",
    "        interpreters = {}\n",
    "\n",
    "        for T_x in T_xs:\n",
    "\n",
    "            if model_type == 'Original':\n",
    "                filename = f'models/original_models//Autoencoder_Final_{w}_1_{T_x}_True.h5'\n",
    "                autoencoders[T_x] = load_model(filename)\n",
    "                # print(autoencoders)\n",
    "            else:\n",
    "                # Converting saved model to a TensorFlow Lite model.\n",
    "                filename = f'models/lite_models//Autoencoder_Final_{w}_1_{T_x}_True'\n",
    "                converter = tf.lite.TFLiteConverter.from_saved_model(filename)\n",
    "                tflite_model = converter.convert()\n",
    "                # Set interpreter...\n",
    "                interpreters[T_x] = tf.lite.Interpreter(model_content=tflite_model)\n",
    "                # print(interpreters)\n",
    "                \n",
    "\n",
    "\n",
    "        #Setting up thresholds....\n",
    "        R_loss = np.random.rand(n)\n",
    "        R_time = (np.random.rand(n)*n).astype(int)\n",
    "        R_signal = np.random.randint(n)\n",
    "\n",
    "\n",
    "        # Initiating the dataQ\n",
    "        dataQ = pd.DataFrame(np.zeros((q, n), dtype = float), columns = signals_in_cluster)\n",
    "        dataQ.index = dataQ.index + 1\n",
    "\n",
    "        print(\"Initiating analysis.... \", w)\n",
    "        for index, data in enumerate(df_raw.values):   \n",
    "\n",
    "            begin_time = datetime.datetime.now()\n",
    "            #Reading data from the CAN bus in decoded foramt\n",
    "            can_id = int(data[2][2:])\n",
    "            signals_reported = [f'Sig_{i+1}_of_ID_{can_id}' for i in range(num_sigs_per_id[can_id])]\n",
    "            signals_missing = set(signals_in_cluster) - set(signals_reported)\n",
    "\n",
    "            # Updating dataQ    \n",
    "            new_data = [float(x) for x in data[3:3+num_sigs_per_id[can_id]]].copy()\n",
    "            dataQ.loc[2:q] = dataQ.loc[1:q-1].values.copy()\n",
    "            dataQ.loc[1, signals_reported] = new_data.copy()\n",
    "            dataQ.loc[1, signals_missing] = dataQ.loc[2, signals_missing].copy()\n",
    "            time_elapsed = datetime.datetime.now() - begin_time\n",
    "            time_needed_dataQ = float(time_elapsed.total_seconds())\n",
    "\n",
    "\n",
    "            #Creating different views and predicting reconstrcuted image\n",
    "            anomaly_S_ens = 0\n",
    "        #     prediction_time = 0\n",
    "        #     analysis_time = 0\n",
    "\n",
    "\n",
    "            for T_x in T_xs:       \n",
    "\n",
    "                prediction_time = 0\n",
    "                analysis_time = 0\n",
    "\n",
    "                # Creating different views.....\n",
    "                #starting timer\n",
    "\n",
    "                \n",
    "                dataV_org = dataQ.loc[1:(w*T_x):T_x].values.reshape(1, w, n, 1).copy()\n",
    "                \n",
    "                if model_type != 'Original':\n",
    "                    dataV_org = np.array(dataV_org, dtype=np.float32)\n",
    "\n",
    "                begin_time = datetime.datetime.now()\n",
    "\n",
    "                # Predict.....\n",
    "                if model_type == 'Original':\n",
    "                    # print(\"autoencoders\", autoencoders)\n",
    "                    dataV_recon = autoencoders[T_x].predict(dataV_org)\n",
    "                \n",
    "                else:\n",
    "                    # print(\"interpreters\", interpreters)\n",
    "                    interpreter = interpreters[T_x]\n",
    "                    interpreter.allocate_tensors() \n",
    "                    #get input and output tensors\n",
    "                    input_details = interpreter.get_input_details()\n",
    "                    output_details = interpreter.get_output_details()\n",
    "\n",
    "                    #set the tensor to point to the input data to be inferred\n",
    "                    input_index = input_details[0][\"index\"]\n",
    "                    interpreter.set_tensor(input_index, dataV_org)\n",
    "                    #Run the inference\n",
    "                    interpreter.invoke()\n",
    "                    output_details = interpreter.get_output_details()\n",
    "                    # Output\n",
    "                    dataV_recon = interpreter.get_tensor(output_details[0]['index'])\n",
    "                    \n",
    "\n",
    "                        \n",
    "\n",
    "                #stopping timer\n",
    "                time_elapsed = datetime.datetime.now() - begin_time\n",
    "                prediction_time += float(time_elapsed.total_seconds())\n",
    "                \n",
    "    #             dataV_recon = dataV_recon[0,:,:,0].copy()\n",
    "\n",
    "                #starting timer\n",
    "                begin_time = datetime.datetime.now()\n",
    "\n",
    "                dataV_loss = abs(dataV_org - dataV_recon)[0,:,:,0].copy()\n",
    "                #finding anomaly scores for individual models...\n",
    "                anomaly_B = (dataV_loss > R_loss).astype(int)\n",
    "                anomaly_C = np.sum(anomaly_B,0)\n",
    "                anomaly_S = np.sum(anomaly_C > R_time)\n",
    "                anomaly_S_ens += anomaly_S\n",
    "\n",
    "                #stopping timer\n",
    "                time_elapsed = datetime.datetime.now() - begin_time\n",
    "                analysis_time  += float(time_elapsed.total_seconds())\n",
    "\n",
    "                time_data.append([w, T_x, time_needed_dataQ, prediction_time, analysis_time, model_type])\n",
    "\n",
    "\n",
    "\n",
    "        #         if anomaly_S > R_signal:\n",
    "        #             predictions[T_x].append(1)\n",
    "        #         else:\n",
    "        #             predictions[T_x].append(0)    \n",
    "\n",
    "\n",
    "            # Checking the final ensemble score..\n",
    "        #     if anomaly_S_ens > R_signal_ens:\n",
    "        #         predictions['Ens'].append(1)\n",
    "        #     else:\n",
    "        #         predictions['Ens'].append(0)   \n",
    "\n",
    "        #     time_data.append([w, T_x, time_needed_dataQ, prediction_time, analysis_time])\n",
    "\n",
    "            if index == 100:\n",
    "                break"
   ]
  },
  {
   "cell_type": "code",
   "execution_count": 51,
   "id": "demonstrated-daughter",
   "metadata": {},
   "outputs": [],
   "source": [
    "time_df = pd.DataFrame(time_data, columns = ['w', 'Tx', 'Data Queue', 'Prediction', 'Analysis', 'Model Type'])\n",
    "time_df[['Data Queue', 'Prediction', 'Analysis']]*= 1000"
   ]
  },
  {
   "cell_type": "code",
   "execution_count": null,
   "id": "14c0ffdb",
   "metadata": {},
   "outputs": [],
   "source": []
  },
  {
   "cell_type": "code",
   "execution_count": 52,
   "id": "0bf39d59",
   "metadata": {},
   "outputs": [
    {
     "data": {
      "text/html": [
       "<div>\n",
       "<style scoped>\n",
       "    .dataframe tbody tr th:only-of-type {\n",
       "        vertical-align: middle;\n",
       "    }\n",
       "\n",
       "    .dataframe tbody tr th {\n",
       "        vertical-align: top;\n",
       "    }\n",
       "\n",
       "    .dataframe thead th {\n",
       "        text-align: right;\n",
       "    }\n",
       "</style>\n",
       "<table border=\"1\" class=\"dataframe\">\n",
       "  <thead>\n",
       "    <tr style=\"text-align: right;\">\n",
       "      <th></th>\n",
       "      <th>w</th>\n",
       "      <th>Tx</th>\n",
       "      <th>Data Queue</th>\n",
       "      <th>Prediction</th>\n",
       "      <th>Analysis</th>\n",
       "      <th>Model Type</th>\n",
       "    </tr>\n",
       "  </thead>\n",
       "  <tbody>\n",
       "    <tr>\n",
       "      <th>0</th>\n",
       "      <td>20</td>\n",
       "      <td>1</td>\n",
       "      <td>4.265</td>\n",
       "      <td>343.486</td>\n",
       "      <td>0.149</td>\n",
       "      <td>Original</td>\n",
       "    </tr>\n",
       "    <tr>\n",
       "      <th>1</th>\n",
       "      <td>20</td>\n",
       "      <td>1</td>\n",
       "      <td>4.380</td>\n",
       "      <td>59.543</td>\n",
       "      <td>0.128</td>\n",
       "      <td>Original</td>\n",
       "    </tr>\n",
       "    <tr>\n",
       "      <th>2</th>\n",
       "      <td>20</td>\n",
       "      <td>1</td>\n",
       "      <td>4.446</td>\n",
       "      <td>55.610</td>\n",
       "      <td>0.123</td>\n",
       "      <td>Original</td>\n",
       "    </tr>\n",
       "    <tr>\n",
       "      <th>3</th>\n",
       "      <td>20</td>\n",
       "      <td>1</td>\n",
       "      <td>4.256</td>\n",
       "      <td>60.618</td>\n",
       "      <td>0.129</td>\n",
       "      <td>Original</td>\n",
       "    </tr>\n",
       "    <tr>\n",
       "      <th>4</th>\n",
       "      <td>20</td>\n",
       "      <td>1</td>\n",
       "      <td>4.400</td>\n",
       "      <td>58.517</td>\n",
       "      <td>0.130</td>\n",
       "      <td>Original</td>\n",
       "    </tr>\n",
       "    <tr>\n",
       "      <th>...</th>\n",
       "      <td>...</td>\n",
       "      <td>...</td>\n",
       "      <td>...</td>\n",
       "      <td>...</td>\n",
       "      <td>...</td>\n",
       "      <td>...</td>\n",
       "    </tr>\n",
       "    <tr>\n",
       "      <th>1207</th>\n",
       "      <td>100</td>\n",
       "      <td>1</td>\n",
       "      <td>4.049</td>\n",
       "      <td>2.090</td>\n",
       "      <td>0.135</td>\n",
       "      <td>Lite</td>\n",
       "    </tr>\n",
       "    <tr>\n",
       "      <th>1208</th>\n",
       "      <td>100</td>\n",
       "      <td>1</td>\n",
       "      <td>4.526</td>\n",
       "      <td>2.235</td>\n",
       "      <td>0.118</td>\n",
       "      <td>Lite</td>\n",
       "    </tr>\n",
       "    <tr>\n",
       "      <th>1209</th>\n",
       "      <td>100</td>\n",
       "      <td>1</td>\n",
       "      <td>4.145</td>\n",
       "      <td>3.186</td>\n",
       "      <td>0.127</td>\n",
       "      <td>Lite</td>\n",
       "    </tr>\n",
       "    <tr>\n",
       "      <th>1210</th>\n",
       "      <td>100</td>\n",
       "      <td>1</td>\n",
       "      <td>4.277</td>\n",
       "      <td>2.192</td>\n",
       "      <td>0.115</td>\n",
       "      <td>Lite</td>\n",
       "    </tr>\n",
       "    <tr>\n",
       "      <th>1211</th>\n",
       "      <td>100</td>\n",
       "      <td>1</td>\n",
       "      <td>4.048</td>\n",
       "      <td>1.899</td>\n",
       "      <td>0.111</td>\n",
       "      <td>Lite</td>\n",
       "    </tr>\n",
       "  </tbody>\n",
       "</table>\n",
       "<p>1212 rows × 6 columns</p>\n",
       "</div>"
      ],
      "text/plain": [
       "        w  Tx  Data Queue  Prediction  Analysis Model Type\n",
       "0      20   1       4.265     343.486     0.149   Original\n",
       "1      20   1       4.380      59.543     0.128   Original\n",
       "2      20   1       4.446      55.610     0.123   Original\n",
       "3      20   1       4.256      60.618     0.129   Original\n",
       "4      20   1       4.400      58.517     0.130   Original\n",
       "...   ...  ..         ...         ...       ...        ...\n",
       "1207  100   1       4.049       2.090     0.135       Lite\n",
       "1208  100   1       4.526       2.235     0.118       Lite\n",
       "1209  100   1       4.145       3.186     0.127       Lite\n",
       "1210  100   1       4.277       2.192     0.115       Lite\n",
       "1211  100   1       4.048       1.899     0.111       Lite\n",
       "\n",
       "[1212 rows x 6 columns]"
      ]
     },
     "execution_count": 52,
     "metadata": {},
     "output_type": "execute_result"
    }
   ],
   "source": [
    "time_df"
   ]
  },
  {
   "cell_type": "code",
   "execution_count": 53,
   "id": "going-arabic",
   "metadata": {},
   "outputs": [],
   "source": [
    "time_df.to_csv('framework_performance.csv', header = True, index = True)"
   ]
  },
  {
   "cell_type": "code",
   "execution_count": 55,
   "id": "departmental-mobile",
   "metadata": {},
   "outputs": [],
   "source": [
    "import seaborn as sns\n",
    "\n",
    "# sns.barplot(data = time_df, x = 'w', y = 'Prediction')\n",
    "# sns.barplot(data = time_df, x = 'w', y = 'Data Queue')\n",
    "# sns.barplot(data = time_df, x = 'w', y = 'Analysis')"
   ]
  },
  {
   "cell_type": "code",
   "execution_count": 57,
   "id": "b1c9b648",
   "metadata": {},
   "outputs": [
    {
     "data": {
      "text/plain": [
       "<AxesSubplot:xlabel='Model Type', ylabel='Data Queue'>"
      ]
     },
     "execution_count": 57,
     "metadata": {},
     "output_type": "execute_result"
    },
    {
     "data": {
      "image/png": "[encoded data removed]",
      "text/plain": [
       "<Figure size 432x288 with 1 Axes>"
      ]
     },
     "metadata": {
      "needs_background": "light"
     },
     "output_type": "display_data"
    }
   ],
   "source": [
    "sns.boxplot(data = time_df, hue = 'w', y = 'Data Queue', x = 'Model Type')"
   ]
  },
  {
   "cell_type": "code",
   "execution_count": 58,
   "id": "c25e0a6c",
   "metadata": {},
   "outputs": [
    {
     "data": {
      "text/plain": [
       "<AxesSubplot:xlabel='Model Type', ylabel='Prediction'>"
      ]
     },
     "execution_count": 58,
     "metadata": {},
     "output_type": "execute_result"
    },
    {
     "data": {
      "image/png": "[encoded data removed]",
      "text/plain": [
       "<Figure size 432x288 with 1 Axes>"
      ]
     },
     "metadata": {
      "needs_background": "light"
     },
     "output_type": "display_data"
    }
   ],
   "source": [
    "sns.boxplot(data = time_df, hue = 'w', y = 'Prediction', x = 'Model Type')"
   ]
  },
  {
   "cell_type": "code",
   "execution_count": 59,
   "id": "1717f5bb",
   "metadata": {},
   "outputs": [
    {
     "data": {
      "text/plain": [
       "<AxesSubplot:xlabel='Model Type', ylabel='Prediction'>"
      ]
     },
     "execution_count": 59,
     "metadata": {},
     "output_type": "execute_result"
    },
    {
     "data": {
      "image/png": "[encoded data removed]",
      "text/plain": [
       "<Figure size 432x288 with 1 Axes>"
      ]
     },
     "metadata": {
      "needs_background": "light"
     },
     "output_type": "display_data"
    }
   ],
   "source": [
    "sns.boxplot(data = time_df[time_df['Model Type'] == 'Lite'], hue = 'w', y = 'Prediction', x = 'Model Type')"
   ]
  },
  {
   "cell_type": "code",
   "execution_count": 60,
   "id": "b96f4ed1",
   "metadata": {},
   "outputs": [
    {
     "data": {
      "text/plain": [
       "<AxesSubplot:xlabel='Model Type', ylabel='Analysis'>"
      ]
     },
     "execution_count": 60,
     "metadata": {},
     "output_type": "execute_result"
    },
    {
     "data": {
      "image/png": "[encoded data removed]",
      "text/plain": [
       "<Figure size 432x288 with 1 Axes>"
      ]
     },
     "metadata": {
      "needs_background": "light"
     },
     "output_type": "display_data"
    }
   ],
   "source": [
    "sns.boxplot(data = time_df, hue = 'w', y = 'Analysis', x = 'Model Type')"
   ]
  },
  {
   "cell_type": "code",
   "execution_count": 21,
   "id": "affecting-doubt",
   "metadata": {},
   "outputs": [
    {
     "data": {
      "text/plain": [
       "-208.29669998586178"
      ]
     },
     "execution_count": 21,
     "metadata": {},
     "output_type": "execute_result"
    }
   ],
   "source": [
    "# df_raw['Time'] = df_raw['Time'].astype(float)\n",
    "\n",
    "# df_raw['Time'][0:100].iloc[0] - df_raw['Time'][0:100].iloc[-1]"
   ]
  },
  {
   "cell_type": "code",
   "execution_count": 19,
   "id": "reliable-conversation",
   "metadata": {},
   "outputs": [
    {
     "data": {
      "text/plain": [
       "81008449.4467"
      ]
     },
     "execution_count": 19,
     "metadata": {},
     "output_type": "execute_result"
    }
   ],
   "source": [
    "# df_raw['Time'][0:100][1]"
   ]
  }
 ],
 "metadata": {
  "kernelspec": {
   "display_name": "Python 3.7.10 ('tensorgpu')",
   "language": "python",
   "name": "python3"
  },
  "language_info": {
   "codemirror_mode": {
    "name": "ipython",
    "version": 3
   },
   "file_extension": ".py",
   "mimetype": "text/x-python",
   "name": "python",
   "nbconvert_exporter": "python",
   "pygments_lexer": "ipython3",
   "version": "3.7.10"
  },
  "vscode": {
   "interpreter": {
    "hash": "84d637a6a3a7b981a4fbf48991c21aa6fcebe6ca604a1565b865c678147956c7"
   }
  }
 },
 "nbformat": 4,
 "nbformat_minor": 5
}
